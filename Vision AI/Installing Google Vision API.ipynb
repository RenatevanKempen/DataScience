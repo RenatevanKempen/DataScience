{
 "cells": [
  {
   "cell_type": "code",
   "execution_count": 1,
   "metadata": {
    "execution_event_id": "1b9a64d0-4ca1-49fa-9945-ee990504ae03",
    "last_executed_text": "!pip install google-cloud-vision",
    "persistent_id": "82f53e37-e160-49ef-a69e-a496c8a4b413"
   },
   "outputs": [
    {
     "name": "stdout",
     "output_type": "stream",
     "text": [
      "Collecting google-cloud-vision\n",
      "  Downloading google_cloud_vision-1.0.0-py2.py3-none-any.whl (435 kB)\n",
      "Collecting google-api-core[grpc]<2.0.0dev,>=1.14.0\n",
      "  Downloading google_api_core-1.17.0-py2.py3-none-any.whl (70 kB)\n",
      "Requirement already satisfied: pytz in c:\\users\\renate\\anaconda3\\anaconda\\lib\\site-packages (from google-api-core[grpc]<2.0.0dev,>=1.14.0->google-cloud-vision) (2019.3)\n",
      "Collecting googleapis-common-protos<2.0dev,>=1.6.0\n",
      "  Downloading googleapis-common-protos-1.51.0.tar.gz (35 kB)\n",
      "Requirement already satisfied: protobuf>=3.4.0 in c:\\users\\renate\\anaconda3\\anaconda\\lib\\site-packages (from google-api-core[grpc]<2.0.0dev,>=1.14.0->google-cloud-vision) (3.11.2)\n",
      "Requirement already satisfied: setuptools>=34.0.0 in c:\\users\\renate\\anaconda3\\anaconda\\lib\\site-packages (from google-api-core[grpc]<2.0.0dev,>=1.14.0->google-cloud-vision) (46.1.3.post20200330)\n",
      "Collecting google-auth<2.0dev,>=1.14.0\n",
      "  Downloading google_auth-1.15.0-py2.py3-none-any.whl (89 kB)\n",
      "Requirement already satisfied: six>=1.10.0 in c:\\users\\renate\\anaconda3\\anaconda\\lib\\site-packages (from google-api-core[grpc]<2.0.0dev,>=1.14.0->google-cloud-vision) (1.14.0)\n",
      "Requirement already satisfied: requests<3.0.0dev,>=2.18.0 in c:\\users\\renate\\anaconda3\\anaconda\\lib\\site-packages (from google-api-core[grpc]<2.0.0dev,>=1.14.0->google-cloud-vision) (2.23.0)\n",
      "Requirement already satisfied: grpcio<2.0dev,>=1.8.2; extra == \"grpc\" in c:\\users\\renate\\anaconda3\\anaconda\\lib\\site-packages (from google-api-core[grpc]<2.0.0dev,>=1.14.0->google-cloud-vision) (1.26.0)\n",
      "Collecting cachetools<5.0,>=2.0.0\n",
      "  Downloading cachetools-4.1.0-py3-none-any.whl (10 kB)\n",
      "Collecting rsa<4.1,>=3.1.4\n",
      "  Using cached rsa-4.0-py2.py3-none-any.whl (38 kB)\n",
      "Requirement already satisfied: pyasn1-modules>=0.2.1 in c:\\users\\renate\\anaconda3\\anaconda\\lib\\site-packages (from google-auth<2.0dev,>=1.14.0->google-api-core[grpc]<2.0.0dev,>=1.14.0->google-cloud-vision) (0.2.7)\n",
      "Requirement already satisfied: certifi>=2017.4.17 in c:\\users\\renate\\anaconda3\\anaconda\\lib\\site-packages (from requests<3.0.0dev,>=2.18.0->google-api-core[grpc]<2.0.0dev,>=1.14.0->google-cloud-vision) (2020.4.5.1)\n",
      "Requirement already satisfied: idna<3,>=2.5 in c:\\users\\renate\\anaconda3\\anaconda\\lib\\site-packages (from requests<3.0.0dev,>=2.18.0->google-api-core[grpc]<2.0.0dev,>=1.14.0->google-cloud-vision) (2.9)\n",
      "Requirement already satisfied: urllib3!=1.25.0,!=1.25.1,<1.26,>=1.21.1 in c:\\users\\renate\\anaconda3\\anaconda\\lib\\site-packages (from requests<3.0.0dev,>=2.18.0->google-api-core[grpc]<2.0.0dev,>=1.14.0->google-cloud-vision) (1.25.8)\n",
      "Requirement already satisfied: chardet<4,>=3.0.2 in c:\\users\\renate\\anaconda3\\anaconda\\lib\\site-packages (from requests<3.0.0dev,>=2.18.0->google-api-core[grpc]<2.0.0dev,>=1.14.0->google-cloud-vision) (3.0.4)\n",
      "Requirement already satisfied: pyasn1>=0.1.3 in c:\\users\\renate\\anaconda3\\anaconda\\lib\\site-packages (from rsa<4.1,>=3.1.4->google-auth<2.0dev,>=1.14.0->google-api-core[grpc]<2.0.0dev,>=1.14.0->google-cloud-vision) (0.4.7)\n",
      "Building wheels for collected packages: googleapis-common-protos\n",
      "  Building wheel for googleapis-common-protos (setup.py): started\n",
      "  Building wheel for googleapis-common-protos (setup.py): finished with status 'done'\n",
      "  Created wheel for googleapis-common-protos: filename=googleapis_common_protos-1.51.0-py3-none-any.whl size=77602 sha256=6468f13ee9cbd61aa44801870ead4658c4f340f4231ebe8decaf9a1851260a62\n",
      "  Stored in directory: c:\\users\\renate\\appdata\\local\\pip\\cache\\wheels\\4c\\a1\\71\\5e427276ceeff277fd76878d1b19fbf4587a2845015d86864b\n",
      "Successfully built googleapis-common-protos\n",
      "Installing collected packages: googleapis-common-protos, cachetools, rsa, google-auth, google-api-core, google-cloud-vision\n",
      "Successfully installed cachetools-4.1.0 google-api-core-1.17.0 google-auth-1.15.0 google-cloud-vision-1.0.0 googleapis-common-protos-1.51.0 rsa-4.0\n"
     ]
    }
   ],
   "source": [
    "!pip install google-cloud-vision"
   ]
  },
  {
   "cell_type": "code",
   "execution_count": 10,
   "metadata": {
    "execution_event_id": "3c549424-21e7-4bdc-b691-41258e34e088",
    "last_executed_text": "from google.cloud import vision",
    "persistent_id": "37eea45f-e556-4fbb-b895-6b4bc3d3b713"
   },
   "outputs": [],
   "source": [
    "from google.cloud import vision"
   ]
  },
  {
   "cell_type": "code",
   "execution_count": 13,
   "metadata": {
    "execution_event_id": "35ab64a9-3307-4e3c-b1e7-9a550d9148e2",
    "last_executed_text": "!pip install --upgrade google-cloud-storage",
    "persistent_id": "c7695877-4d5c-4df0-b7b6-4fec09570468"
   },
   "outputs": [
    {
     "name": "stdout",
     "output_type": "stream",
     "text": [
      "Collecting google-cloud-storage\n",
      "  Downloading google_cloud_storage-1.28.1-py2.py3-none-any.whl (80 kB)\n",
      "Requirement already satisfied, skipping upgrade: google-auth<2.0dev,>=1.11.0 in c:\\users\\renate\\anaconda3\\anaconda\\lib\\site-packages (from google-cloud-storage) (1.15.0)\n",
      "Collecting google-cloud-core<2.0dev,>=1.2.0\n",
      "  Downloading google_cloud_core-1.3.0-py2.py3-none-any.whl (26 kB)\n",
      "Collecting google-resumable-media<0.6dev,>=0.5.0\n",
      "  Downloading google_resumable_media-0.5.0-py2.py3-none-any.whl (38 kB)\n",
      "Requirement already satisfied, skipping upgrade: rsa<4.1,>=3.1.4 in c:\\users\\renate\\anaconda3\\anaconda\\lib\\site-packages (from google-auth<2.0dev,>=1.11.0->google-cloud-storage) (4.0)\n",
      "Requirement already satisfied, skipping upgrade: cachetools<5.0,>=2.0.0 in c:\\users\\renate\\anaconda3\\anaconda\\lib\\site-packages (from google-auth<2.0dev,>=1.11.0->google-cloud-storage) (4.1.0)\n",
      "Requirement already satisfied, skipping upgrade: setuptools>=40.3.0 in c:\\users\\renate\\anaconda3\\anaconda\\lib\\site-packages (from google-auth<2.0dev,>=1.11.0->google-cloud-storage) (46.1.3.post20200330)\n",
      "Requirement already satisfied, skipping upgrade: pyasn1-modules>=0.2.1 in c:\\users\\renate\\anaconda3\\anaconda\\lib\\site-packages (from google-auth<2.0dev,>=1.11.0->google-cloud-storage) (0.2.7)\n",
      "Requirement already satisfied, skipping upgrade: six>=1.9.0 in c:\\users\\renate\\anaconda3\\anaconda\\lib\\site-packages (from google-auth<2.0dev,>=1.11.0->google-cloud-storage) (1.14.0)\n",
      "Requirement already satisfied, skipping upgrade: google-api-core<2.0.0dev,>=1.16.0 in c:\\users\\renate\\anaconda3\\anaconda\\lib\\site-packages (from google-cloud-core<2.0dev,>=1.2.0->google-cloud-storage) (1.17.0)\n",
      "Requirement already satisfied, skipping upgrade: pyasn1>=0.1.3 in c:\\users\\renate\\anaconda3\\anaconda\\lib\\site-packages (from rsa<4.1,>=3.1.4->google-auth<2.0dev,>=1.11.0->google-cloud-storage) (0.4.7)\n",
      "Requirement already satisfied, skipping upgrade: pytz in c:\\users\\renate\\anaconda3\\anaconda\\lib\\site-packages (from google-api-core<2.0.0dev,>=1.16.0->google-cloud-core<2.0dev,>=1.2.0->google-cloud-storage) (2019.3)\n",
      "Requirement already satisfied, skipping upgrade: requests<3.0.0dev,>=2.18.0 in c:\\users\\renate\\anaconda3\\anaconda\\lib\\site-packages (from google-api-core<2.0.0dev,>=1.16.0->google-cloud-core<2.0dev,>=1.2.0->google-cloud-storage) (2.23.0)\n",
      "Requirement already satisfied, skipping upgrade: googleapis-common-protos<2.0dev,>=1.6.0 in c:\\users\\renate\\anaconda3\\anaconda\\lib\\site-packages (from google-api-core<2.0.0dev,>=1.16.0->google-cloud-core<2.0dev,>=1.2.0->google-cloud-storage) (1.51.0)\n",
      "Requirement already satisfied, skipping upgrade: protobuf>=3.4.0 in c:\\users\\renate\\anaconda3\\anaconda\\lib\\site-packages (from google-api-core<2.0.0dev,>=1.16.0->google-cloud-core<2.0dev,>=1.2.0->google-cloud-storage) (3.11.2)\n",
      "Requirement already satisfied, skipping upgrade: urllib3!=1.25.0,!=1.25.1,<1.26,>=1.21.1 in c:\\users\\renate\\anaconda3\\anaconda\\lib\\site-packages (from requests<3.0.0dev,>=2.18.0->google-api-core<2.0.0dev,>=1.16.0->google-cloud-core<2.0dev,>=1.2.0->google-cloud-storage) (1.25.8)\n",
      "Requirement already satisfied, skipping upgrade: idna<3,>=2.5 in c:\\users\\renate\\anaconda3\\anaconda\\lib\\site-packages (from requests<3.0.0dev,>=2.18.0->google-api-core<2.0.0dev,>=1.16.0->google-cloud-core<2.0dev,>=1.2.0->google-cloud-storage) (2.9)\n",
      "Requirement already satisfied, skipping upgrade: chardet<4,>=3.0.2 in c:\\users\\renate\\anaconda3\\anaconda\\lib\\site-packages (from requests<3.0.0dev,>=2.18.0->google-api-core<2.0.0dev,>=1.16.0->google-cloud-core<2.0dev,>=1.2.0->google-cloud-storage) (3.0.4)\n",
      "Requirement already satisfied, skipping upgrade: certifi>=2017.4.17 in c:\\users\\renate\\anaconda3\\anaconda\\lib\\site-packages (from requests<3.0.0dev,>=2.18.0->google-api-core<2.0.0dev,>=1.16.0->google-cloud-core<2.0dev,>=1.2.0->google-cloud-storage) (2020.4.5.1)\n",
      "Installing collected packages: google-cloud-core, google-resumable-media, google-cloud-storage\n",
      "Successfully installed google-cloud-core-1.3.0 google-cloud-storage-1.28.1 google-resumable-media-0.5.0\n"
     ]
    }
   ],
   "source": [
    "!pip install --upgrade google-cloud-storage"
   ]
  },
  {
   "cell_type": "code",
   "execution_count": 17,
   "metadata": {
    "execution_event_id": "507b7fa7-b6e7-4f00-929c-e1dd4e04d5d8",
    "last_executed_text": "import os\nos.environ[\"GOOGLE_APPLICATION_CREDENTIALS\"]=\"client_secrets.json\"",
    "persistent_id": "26f84688-f942-4c6d-afdd-d56b766555f6"
   },
   "outputs": [],
   "source": [
    "import os\n",
    "os.environ[\"GOOGLE_APPLICATION_CREDENTIALS\"]=\"client_secrets.json\""
   ]
  },
  {
   "cell_type": "code",
   "execution_count": 18,
   "metadata": {
    "execution_event_id": "3b1bcc1d-8777-49b9-98d3-5639cd79b233",
    "last_executed_text": "client = vision.ImageAnnotatorClient()",
    "persistent_id": "8633bdfc-fd0b-4aa1-a5ca-741999c342ce"
   },
   "outputs": [],
   "source": [
    "client = vision.ImageAnnotatorClient()"
   ]
  },
  {
   "cell_type": "code",
   "execution_count": 20,
   "metadata": {
    "execution_event_id": "eab4b260-7f23-4930-88fe-6ae08f644441",
    "last_executed_text": "import io\n\npath = 'Image.jpeg'\nwith io.open(path, 'rb') as image_file:\n        content = image_file.read()",
    "persistent_id": "c280b96a-e28d-4504-8fbe-7572c7edf604"
   },
   "outputs": [],
   "source": [
    "import io\n",
    "\n",
    "path = 'Image.jpeg'\n",
    "with io.open(path, 'rb') as image_file:\n",
    "        content = image_file.read()"
   ]
  },
  {
   "cell_type": "code",
   "execution_count": 21,
   "metadata": {
    "execution_event_id": "5b184f64-5d5a-4109-bffc-232780abc3e8",
    "last_executed_text": "image = vision.types.Image(content=content)",
    "persistent_id": "cad0125f-8090-4672-a6e8-a64b49722d66"
   },
   "outputs": [],
   "source": [
    "image = vision.types.Image(content=content)"
   ]
  },
  {
   "cell_type": "code",
   "execution_count": 24,
   "metadata": {
    "execution_event_id": "241904e3-8e79-462f-8bdc-9024b025fe7f",
    "last_executed_text": "response = client.image_properties(image=image)\nprops = response.image_properties_annotation\nprint('Properties of the image:')\n\nfor color in props.dominant_colors.colors:\n    print('Fraction: {}'.format(color.pixel_fraction))\n    print('\\tr: {}'.format(color.color.red))\n    print('\\tg: {}'.format(color.color.green))\n    print('\\tb: {}'.format(color.color.blue))",
    "persistent_id": "3eb1dd97-e166-40a1-97a7-77a068179b11"
   },
   "outputs": [
    {
     "name": "stdout",
     "output_type": "stream",
     "text": [
      "Properties of the image:\n",
      "Fraction: 0.1334860473871231\n",
      "\tr: 192.0\n",
      "\tg: 198.0\n",
      "\tb: 205.0\n",
      "Fraction: 0.0020824656821787357\n",
      "\tr: 162.0\n",
      "\tg: 96.0\n",
      "\tb: 138.0\n",
      "Fraction: 0.0049285017885267735\n",
      "\tr: 148.0\n",
      "\tg: 109.0\n",
      "\tb: 125.0\n",
      "Fraction: 0.06955435127019882\n",
      "\tr: 135.0\n",
      "\tg: 116.0\n",
      "\tb: 56.0\n",
      "Fraction: 0.01159239187836647\n",
      "\tr: 123.0\n",
      "\tg: 77.0\n",
      "\tb: 40.0\n",
      "Fraction: 0.054282937198877335\n",
      "\tr: 190.0\n",
      "\tg: 201.0\n",
      "\tb: 221.0\n",
      "Fraction: 0.06115507334470749\n",
      "\tr: 217.0\n",
      "\tg: 224.0\n",
      "\tb: 233.0\n",
      "Fraction: 0.021379981189966202\n",
      "\tr: 212.0\n",
      "\tg: 223.0\n",
      "\tb: 242.0\n",
      "Fraction: 0.03547133132815361\n",
      "\tr: 163.0\n",
      "\tg: 161.0\n",
      "\tb: 162.0\n",
      "Fraction: 0.003956684842705727\n",
      "\tr: 115.0\n",
      "\tg: 77.0\n",
      "\tb: 91.0\n"
     ]
    }
   ],
   "source": [
    "response = client.image_properties(image=image)\n",
    "props = response.image_properties_annotation\n",
    "print('Properties of the image:')\n",
    "\n",
    "for color in props.dominant_colors.colors:\n",
    "    print('Fraction: {}'.format(color.pixel_fraction))\n",
    "    print('\\tr: {}'.format(color.color.red))\n",
    "    print('\\tg: {}'.format(color.color.green))\n",
    "    print('\\tb: {}'.format(color.color.blue))"
   ]
  },
  {
   "cell_type": "code",
   "execution_count": null,
   "metadata": {},
   "outputs": [],
   "source": []
  }
 ],
 "metadata": {
  "history": [
   {
    "cell": {
     "executionCount": 1,
     "executionEventId": "1b9a64d0-4ca1-49fa-9945-ee990504ae03",
     "hasError": false,
     "id": "51dce391-6c60-430b-aa09-c5a3dcae3482",
     "outputs": [
      {
       "name": "stdout",
       "output_type": "stream",
       "text": "Collecting google-cloud-vision\n  Downloading google_cloud_vision-1.0.0-py2.py3-none-any.whl (435 kB)\nCollecting google-api-core[grpc]<2.0.0dev,>=1.14.0\n  Downloading google_api_core-1.17.0-py2.py3-none-any.whl (70 kB)\nRequirement already satisfied: pytz in c:\\users\\renate\\anaconda3\\anaconda\\lib\\site-packages (from google-api-core[grpc]<2.0.0dev,>=1.14.0->google-cloud-vision) (2019.3)\nCollecting googleapis-common-protos<2.0dev,>=1.6.0\n  Downloading googleapis-common-protos-1.51.0.tar.gz (35 kB)\nRequirement already satisfied: protobuf>=3.4.0 in c:\\users\\renate\\anaconda3\\anaconda\\lib\\site-packages (from google-api-core[grpc]<2.0.0dev,>=1.14.0->google-cloud-vision) (3.11.2)\nRequirement already satisfied: setuptools>=34.0.0 in c:\\users\\renate\\anaconda3\\anaconda\\lib\\site-packages (from google-api-core[grpc]<2.0.0dev,>=1.14.0->google-cloud-vision) (46.1.3.post20200330)\nCollecting google-auth<2.0dev,>=1.14.0\n  Downloading google_auth-1.15.0-py2.py3-none-any.whl (89 kB)\nRequirement already satisfied: six>=1.10.0 in c:\\users\\renate\\anaconda3\\anaconda\\lib\\site-packages (from google-api-core[grpc]<2.0.0dev,>=1.14.0->google-cloud-vision) (1.14.0)\nRequirement already satisfied: requests<3.0.0dev,>=2.18.0 in c:\\users\\renate\\anaconda3\\anaconda\\lib\\site-packages (from google-api-core[grpc]<2.0.0dev,>=1.14.0->google-cloud-vision) (2.23.0)\nRequirement already satisfied: grpcio<2.0dev,>=1.8.2; extra == \"grpc\" in c:\\users\\renate\\anaconda3\\anaconda\\lib\\site-packages (from google-api-core[grpc]<2.0.0dev,>=1.14.0->google-cloud-vision) (1.26.0)\nCollecting cachetools<5.0,>=2.0.0\n  Downloading cachetools-4.1.0-py3-none-any.whl (10 kB)\nCollecting rsa<4.1,>=3.1.4\n  Using cached rsa-4.0-py2.py3-none-any.whl (38 kB)\nRequirement already satisfied: pyasn1-modules>=0.2.1 in c:\\users\\renate\\anaconda3\\anaconda\\lib\\site-packages (from google-auth<2.0dev,>=1.14.0->google-api-core[grpc]<2.0.0dev,>=1.14.0->google-cloud-vision) (0.2.7)\nRequirement already satisfied: certifi>=2017.4.17 in c:\\users\\renate\\anaconda3\\anaconda\\lib\\site-packages (from requests<3.0.0dev,>=2.18.0->google-api-core[grpc]<2.0.0dev,>=1.14.0->google-cloud-vision) (2020.4.5.1)\nRequirement already satisfied: idna<3,>=2.5 in c:\\users\\renate\\anaconda3\\anaconda\\lib\\site-packages (from requests<3.0.0dev,>=2.18.0->google-api-core[grpc]<2.0.0dev,>=1.14.0->google-cloud-vision) (2.9)\nRequirement already satisfied: urllib3!=1.25.0,!=1.25.1,<1.26,>=1.21.1 in c:\\users\\renate\\anaconda3\\anaconda\\lib\\site-packages (from requests<3.0.0dev,>=2.18.0->google-api-core[grpc]<2.0.0dev,>=1.14.0->google-cloud-vision) (1.25.8)\nRequirement already satisfied: chardet<4,>=3.0.2 in c:\\users\\renate\\anaconda3\\anaconda\\lib\\site-packages (from requests<3.0.0dev,>=2.18.0->google-api-core[grpc]<2.0.0dev,>=1.14.0->google-cloud-vision) (3.0.4)\nRequirement already satisfied: pyasn1>=0.1.3 in c:\\users\\renate\\anaconda3\\anaconda\\lib\\site-packages (from rsa<4.1,>=3.1.4->google-auth<2.0dev,>=1.14.0->google-api-core[grpc]<2.0.0dev,>=1.14.0->google-cloud-vision) (0.4.7)\nBuilding wheels for collected packages: googleapis-common-protos\n  Building wheel for googleapis-common-protos (setup.py): started\n  Building wheel for googleapis-common-protos (setup.py): finished with status 'done'\n  Created wheel for googleapis-common-protos: filename=googleapis_common_protos-1.51.0-py3-none-any.whl size=77602 sha256=6468f13ee9cbd61aa44801870ead4658c4f340f4231ebe8decaf9a1851260a62\n  Stored in directory: c:\\users\\renate\\appdata\\local\\pip\\cache\\wheels\\4c\\a1\\71\\5e427276ceeff277fd76878d1b19fbf4587a2845015d86864b\nSuccessfully built googleapis-common-protos\nInstalling collected packages: googleapis-common-protos, cachetools, rsa, google-auth, google-api-core, google-cloud-vision\nSuccessfully installed cachetools-4.1.0 google-api-core-1.17.0 google-auth-1.15.0 google-cloud-vision-1.0.0 googleapis-common-protos-1.51.0 rsa-4.0\n"
      }
     ],
     "persistentId": "82f53e37-e160-49ef-a69e-a496c8a4b413",
     "text": "!pip install google-cloud-vision"
    },
    "executionTime": "2020-05-19T11:07:59.644Z"
   },
   {
    "cell": {
     "executionCount": 2,
     "executionEventId": "db0755b7-541b-4533-94b0-026110ab130f",
     "hasError": false,
     "id": "86cda800-0f27-46a4-8c74-ace5a3f955eb",
     "outputs": [],
     "persistentId": "37eea45f-e556-4fbb-b895-6b4bc3d3b713",
     "text": "from google.cloud import vision"
    },
    "executionTime": "2020-05-19T11:08:08.944Z"
   },
   {
    "cell": {
     "executionCount": 3,
     "executionEventId": "c4bdebe2-fc6a-499e-8cdb-881db234b17b",
     "hasError": true,
     "id": "bf2ccbeb-ac06-4f1a-9212-cadf129420b4",
     "outputs": [
      {
       "ename": "DefaultCredentialsError",
       "evalue": "Could not automatically determine credentials. Please set GOOGLE_APPLICATION_CREDENTIALS or explicitly create credentials and re-run the application. For more information, please see https://cloud.google.com/docs/authentication/getting-started",
       "output_type": "error",
       "traceback": [
        "\u001b[1;31m---------------------------------------------------------------------------\u001b[0m",
        "\u001b[1;31mDefaultCredentialsError\u001b[0m                   Traceback (most recent call last)",
        "\u001b[1;32m<ipython-input-3-cd1d04c9069e>\u001b[0m in \u001b[0;36m<module>\u001b[1;34m\u001b[0m\n\u001b[1;32m----> 1\u001b[1;33m \u001b[0mclient\u001b[0m \u001b[1;33m=\u001b[0m \u001b[0mvision\u001b[0m\u001b[1;33m.\u001b[0m\u001b[0mImageAnnotatorClient\u001b[0m\u001b[1;33m(\u001b[0m\u001b[1;33m)\u001b[0m\u001b[1;33m\u001b[0m\u001b[1;33m\u001b[0m\u001b[0m\n\u001b[0m",
        "\u001b[1;32m~\\Anaconda3\\ANACONDA\\lib\\site-packages\\google\\cloud\\vision_v1\\gapic\\image_annotator_client.py\u001b[0m in \u001b[0;36m__init__\u001b[1;34m(self, transport, channel, credentials, client_config, client_info, client_options)\u001b[0m\n\u001b[0;32m    163\u001b[0m         \u001b[1;32melse\u001b[0m\u001b[1;33m:\u001b[0m\u001b[1;33m\u001b[0m\u001b[1;33m\u001b[0m\u001b[0m\n\u001b[0;32m    164\u001b[0m             self.transport = image_annotator_grpc_transport.ImageAnnotatorGrpcTransport(\n\u001b[1;32m--> 165\u001b[1;33m                 \u001b[0maddress\u001b[0m\u001b[1;33m=\u001b[0m\u001b[0mapi_endpoint\u001b[0m\u001b[1;33m,\u001b[0m \u001b[0mchannel\u001b[0m\u001b[1;33m=\u001b[0m\u001b[0mchannel\u001b[0m\u001b[1;33m,\u001b[0m \u001b[0mcredentials\u001b[0m\u001b[1;33m=\u001b[0m\u001b[0mcredentials\u001b[0m\u001b[1;33m\u001b[0m\u001b[1;33m\u001b[0m\u001b[0m\n\u001b[0m\u001b[0;32m    166\u001b[0m             )\n\u001b[0;32m    167\u001b[0m \u001b[1;33m\u001b[0m\u001b[0m\n",
        "\u001b[1;32m~\\Anaconda3\\ANACONDA\\lib\\site-packages\\google\\cloud\\vision_v1\\gapic\\transports\\image_annotator_grpc_transport.py\u001b[0m in \u001b[0;36m__init__\u001b[1;34m(self, channel, credentials, address)\u001b[0m\n\u001b[0;32m     68\u001b[0m                 options={\n\u001b[0;32m     69\u001b[0m                     \u001b[1;34m\"grpc.max_send_message_length\"\u001b[0m\u001b[1;33m:\u001b[0m \u001b[1;33m-\u001b[0m\u001b[1;36m1\u001b[0m\u001b[1;33m,\u001b[0m\u001b[1;33m\u001b[0m\u001b[1;33m\u001b[0m\u001b[0m\n\u001b[1;32m---> 70\u001b[1;33m                     \u001b[1;34m\"grpc.max_receive_message_length\"\u001b[0m\u001b[1;33m:\u001b[0m \u001b[1;33m-\u001b[0m\u001b[1;36m1\u001b[0m\u001b[1;33m,\u001b[0m\u001b[1;33m\u001b[0m\u001b[1;33m\u001b[0m\u001b[0m\n\u001b[0m\u001b[0;32m     71\u001b[0m                 }.items(),\n\u001b[0;32m     72\u001b[0m             )\n",
        "\u001b[1;32m~\\Anaconda3\\ANACONDA\\lib\\site-packages\\google\\cloud\\vision_v1\\gapic\\transports\\image_annotator_grpc_transport.py\u001b[0m in \u001b[0;36mcreate_channel\u001b[1;34m(cls, address, credentials, **kwargs)\u001b[0m\n\u001b[0;32m    107\u001b[0m         \"\"\"\n\u001b[0;32m    108\u001b[0m         return google.api_core.grpc_helpers.create_channel(\n\u001b[1;32m--> 109\u001b[1;33m             \u001b[0maddress\u001b[0m\u001b[1;33m,\u001b[0m \u001b[0mcredentials\u001b[0m\u001b[1;33m=\u001b[0m\u001b[0mcredentials\u001b[0m\u001b[1;33m,\u001b[0m \u001b[0mscopes\u001b[0m\u001b[1;33m=\u001b[0m\u001b[0mcls\u001b[0m\u001b[1;33m.\u001b[0m\u001b[0m_OAUTH_SCOPES\u001b[0m\u001b[1;33m,\u001b[0m \u001b[1;33m**\u001b[0m\u001b[0mkwargs\u001b[0m\u001b[1;33m\u001b[0m\u001b[1;33m\u001b[0m\u001b[0m\n\u001b[0m\u001b[0;32m    110\u001b[0m         )\n\u001b[0;32m    111\u001b[0m \u001b[1;33m\u001b[0m\u001b[0m\n",
        "\u001b[1;32m~\\Anaconda3\\ANACONDA\\lib\\site-packages\\google\\api_core\\grpc_helpers.py\u001b[0m in \u001b[0;36mcreate_channel\u001b[1;34m(target, credentials, scopes, ssl_credentials, **kwargs)\u001b[0m\n\u001b[0;32m    193\u001b[0m     \"\"\"\n\u001b[0;32m    194\u001b[0m     \u001b[1;32mif\u001b[0m \u001b[0mcredentials\u001b[0m \u001b[1;32mis\u001b[0m \u001b[1;32mNone\u001b[0m\u001b[1;33m:\u001b[0m\u001b[1;33m\u001b[0m\u001b[1;33m\u001b[0m\u001b[0m\n\u001b[1;32m--> 195\u001b[1;33m         \u001b[0mcredentials\u001b[0m\u001b[1;33m,\u001b[0m \u001b[0m_\u001b[0m \u001b[1;33m=\u001b[0m \u001b[0mgoogle\u001b[0m\u001b[1;33m.\u001b[0m\u001b[0mauth\u001b[0m\u001b[1;33m.\u001b[0m\u001b[0mdefault\u001b[0m\u001b[1;33m(\u001b[0m\u001b[0mscopes\u001b[0m\u001b[1;33m=\u001b[0m\u001b[0mscopes\u001b[0m\u001b[1;33m)\u001b[0m\u001b[1;33m\u001b[0m\u001b[1;33m\u001b[0m\u001b[0m\n\u001b[0m\u001b[0;32m    196\u001b[0m     \u001b[1;32melse\u001b[0m\u001b[1;33m:\u001b[0m\u001b[1;33m\u001b[0m\u001b[1;33m\u001b[0m\u001b[0m\n\u001b[0;32m    197\u001b[0m         credentials = google.auth.credentials.with_scopes_if_required(\n",
        "\u001b[1;32m~\\Anaconda3\\ANACONDA\\lib\\site-packages\\google\\auth\\_default.py\u001b[0m in \u001b[0;36mdefault\u001b[1;34m(scopes, request)\u001b[0m\n\u001b[0;32m    319\u001b[0m             \u001b[1;32mreturn\u001b[0m \u001b[0mcredentials\u001b[0m\u001b[1;33m,\u001b[0m \u001b[0meffective_project_id\u001b[0m\u001b[1;33m\u001b[0m\u001b[1;33m\u001b[0m\u001b[0m\n\u001b[0;32m    320\u001b[0m \u001b[1;33m\u001b[0m\u001b[0m\n\u001b[1;32m--> 321\u001b[1;33m     \u001b[1;32mraise\u001b[0m \u001b[0mexceptions\u001b[0m\u001b[1;33m.\u001b[0m\u001b[0mDefaultCredentialsError\u001b[0m\u001b[1;33m(\u001b[0m\u001b[0m_HELP_MESSAGE\u001b[0m\u001b[1;33m)\u001b[0m\u001b[1;33m\u001b[0m\u001b[1;33m\u001b[0m\u001b[0m\n\u001b[0m",
        "\u001b[1;31mDefaultCredentialsError\u001b[0m: Could not automatically determine credentials. Please set GOOGLE_APPLICATION_CREDENTIALS or explicitly create credentials and re-run the application. For more information, please see https://cloud.google.com/docs/authentication/getting-started"
       ]
      }
     ],
     "persistentId": "8633bdfc-fd0b-4aa1-a5ca-741999c342ce",
     "text": "client = vision.ImageAnnotatorClient()"
    },
    "executionTime": "2020-05-19T11:09:48.578Z"
   },
   {
    "cell": {
     "executionCount": 4,
     "executionEventId": "388aa02d-8bd8-4b07-a3b7-399067ba4564",
     "hasError": true,
     "id": "bf2ccbeb-ac06-4f1a-9212-cadf129420b4",
     "outputs": [
      {
       "ename": "DefaultCredentialsError",
       "evalue": "Could not automatically determine credentials. Please set GOOGLE_APPLICATION_CREDENTIALS or explicitly create credentials and re-run the application. For more information, please see https://cloud.google.com/docs/authentication/getting-started",
       "output_type": "error",
       "traceback": [
        "\u001b[1;31m---------------------------------------------------------------------------\u001b[0m",
        "\u001b[1;31mDefaultCredentialsError\u001b[0m                   Traceback (most recent call last)",
        "\u001b[1;32m<ipython-input-4-cd1d04c9069e>\u001b[0m in \u001b[0;36m<module>\u001b[1;34m\u001b[0m\n\u001b[1;32m----> 1\u001b[1;33m \u001b[0mclient\u001b[0m \u001b[1;33m=\u001b[0m \u001b[0mvision\u001b[0m\u001b[1;33m.\u001b[0m\u001b[0mImageAnnotatorClient\u001b[0m\u001b[1;33m(\u001b[0m\u001b[1;33m)\u001b[0m\u001b[1;33m\u001b[0m\u001b[1;33m\u001b[0m\u001b[0m\n\u001b[0m",
        "\u001b[1;32m~\\Anaconda3\\ANACONDA\\lib\\site-packages\\google\\cloud\\vision_v1\\gapic\\image_annotator_client.py\u001b[0m in \u001b[0;36m__init__\u001b[1;34m(self, transport, channel, credentials, client_config, client_info, client_options)\u001b[0m\n\u001b[0;32m    163\u001b[0m         \u001b[1;32melse\u001b[0m\u001b[1;33m:\u001b[0m\u001b[1;33m\u001b[0m\u001b[1;33m\u001b[0m\u001b[0m\n\u001b[0;32m    164\u001b[0m             self.transport = image_annotator_grpc_transport.ImageAnnotatorGrpcTransport(\n\u001b[1;32m--> 165\u001b[1;33m                 \u001b[0maddress\u001b[0m\u001b[1;33m=\u001b[0m\u001b[0mapi_endpoint\u001b[0m\u001b[1;33m,\u001b[0m \u001b[0mchannel\u001b[0m\u001b[1;33m=\u001b[0m\u001b[0mchannel\u001b[0m\u001b[1;33m,\u001b[0m \u001b[0mcredentials\u001b[0m\u001b[1;33m=\u001b[0m\u001b[0mcredentials\u001b[0m\u001b[1;33m\u001b[0m\u001b[1;33m\u001b[0m\u001b[0m\n\u001b[0m\u001b[0;32m    166\u001b[0m             )\n\u001b[0;32m    167\u001b[0m \u001b[1;33m\u001b[0m\u001b[0m\n",
        "\u001b[1;32m~\\Anaconda3\\ANACONDA\\lib\\site-packages\\google\\cloud\\vision_v1\\gapic\\transports\\image_annotator_grpc_transport.py\u001b[0m in \u001b[0;36m__init__\u001b[1;34m(self, channel, credentials, address)\u001b[0m\n\u001b[0;32m     68\u001b[0m                 options={\n\u001b[0;32m     69\u001b[0m                     \u001b[1;34m\"grpc.max_send_message_length\"\u001b[0m\u001b[1;33m:\u001b[0m \u001b[1;33m-\u001b[0m\u001b[1;36m1\u001b[0m\u001b[1;33m,\u001b[0m\u001b[1;33m\u001b[0m\u001b[1;33m\u001b[0m\u001b[0m\n\u001b[1;32m---> 70\u001b[1;33m                     \u001b[1;34m\"grpc.max_receive_message_length\"\u001b[0m\u001b[1;33m:\u001b[0m \u001b[1;33m-\u001b[0m\u001b[1;36m1\u001b[0m\u001b[1;33m,\u001b[0m\u001b[1;33m\u001b[0m\u001b[1;33m\u001b[0m\u001b[0m\n\u001b[0m\u001b[0;32m     71\u001b[0m                 }.items(),\n\u001b[0;32m     72\u001b[0m             )\n",
        "\u001b[1;32m~\\Anaconda3\\ANACONDA\\lib\\site-packages\\google\\cloud\\vision_v1\\gapic\\transports\\image_annotator_grpc_transport.py\u001b[0m in \u001b[0;36mcreate_channel\u001b[1;34m(cls, address, credentials, **kwargs)\u001b[0m\n\u001b[0;32m    107\u001b[0m         \"\"\"\n\u001b[0;32m    108\u001b[0m         return google.api_core.grpc_helpers.create_channel(\n\u001b[1;32m--> 109\u001b[1;33m             \u001b[0maddress\u001b[0m\u001b[1;33m,\u001b[0m \u001b[0mcredentials\u001b[0m\u001b[1;33m=\u001b[0m\u001b[0mcredentials\u001b[0m\u001b[1;33m,\u001b[0m \u001b[0mscopes\u001b[0m\u001b[1;33m=\u001b[0m\u001b[0mcls\u001b[0m\u001b[1;33m.\u001b[0m\u001b[0m_OAUTH_SCOPES\u001b[0m\u001b[1;33m,\u001b[0m \u001b[1;33m**\u001b[0m\u001b[0mkwargs\u001b[0m\u001b[1;33m\u001b[0m\u001b[1;33m\u001b[0m\u001b[0m\n\u001b[0m\u001b[0;32m    110\u001b[0m         )\n\u001b[0;32m    111\u001b[0m \u001b[1;33m\u001b[0m\u001b[0m\n",
        "\u001b[1;32m~\\Anaconda3\\ANACONDA\\lib\\site-packages\\google\\api_core\\grpc_helpers.py\u001b[0m in \u001b[0;36mcreate_channel\u001b[1;34m(target, credentials, scopes, ssl_credentials, **kwargs)\u001b[0m\n\u001b[0;32m    193\u001b[0m     \"\"\"\n\u001b[0;32m    194\u001b[0m     \u001b[1;32mif\u001b[0m \u001b[0mcredentials\u001b[0m \u001b[1;32mis\u001b[0m \u001b[1;32mNone\u001b[0m\u001b[1;33m:\u001b[0m\u001b[1;33m\u001b[0m\u001b[1;33m\u001b[0m\u001b[0m\n\u001b[1;32m--> 195\u001b[1;33m         \u001b[0mcredentials\u001b[0m\u001b[1;33m,\u001b[0m \u001b[0m_\u001b[0m \u001b[1;33m=\u001b[0m \u001b[0mgoogle\u001b[0m\u001b[1;33m.\u001b[0m\u001b[0mauth\u001b[0m\u001b[1;33m.\u001b[0m\u001b[0mdefault\u001b[0m\u001b[1;33m(\u001b[0m\u001b[0mscopes\u001b[0m\u001b[1;33m=\u001b[0m\u001b[0mscopes\u001b[0m\u001b[1;33m)\u001b[0m\u001b[1;33m\u001b[0m\u001b[1;33m\u001b[0m\u001b[0m\n\u001b[0m\u001b[0;32m    196\u001b[0m     \u001b[1;32melse\u001b[0m\u001b[1;33m:\u001b[0m\u001b[1;33m\u001b[0m\u001b[1;33m\u001b[0m\u001b[0m\n\u001b[0;32m    197\u001b[0m         credentials = google.auth.credentials.with_scopes_if_required(\n",
        "\u001b[1;32m~\\Anaconda3\\ANACONDA\\lib\\site-packages\\google\\auth\\_default.py\u001b[0m in \u001b[0;36mdefault\u001b[1;34m(scopes, request)\u001b[0m\n\u001b[0;32m    319\u001b[0m             \u001b[1;32mreturn\u001b[0m \u001b[0mcredentials\u001b[0m\u001b[1;33m,\u001b[0m \u001b[0meffective_project_id\u001b[0m\u001b[1;33m\u001b[0m\u001b[1;33m\u001b[0m\u001b[0m\n\u001b[0;32m    320\u001b[0m \u001b[1;33m\u001b[0m\u001b[0m\n\u001b[1;32m--> 321\u001b[1;33m     \u001b[1;32mraise\u001b[0m \u001b[0mexceptions\u001b[0m\u001b[1;33m.\u001b[0m\u001b[0mDefaultCredentialsError\u001b[0m\u001b[1;33m(\u001b[0m\u001b[0m_HELP_MESSAGE\u001b[0m\u001b[1;33m)\u001b[0m\u001b[1;33m\u001b[0m\u001b[1;33m\u001b[0m\u001b[0m\n\u001b[0m",
        "\u001b[1;31mDefaultCredentialsError\u001b[0m: Could not automatically determine credentials. Please set GOOGLE_APPLICATION_CREDENTIALS or explicitly create credentials and re-run the application. For more information, please see https://cloud.google.com/docs/authentication/getting-started"
       ]
      }
     ],
     "persistentId": "8633bdfc-fd0b-4aa1-a5ca-741999c342ce",
     "text": "client = vision.ImageAnnotatorClient()"
    },
    "executionTime": "2020-05-19T11:15:00.783Z"
   },
   {
    "cell": {
     "executionCount": 5,
     "executionEventId": "3d2003a9-3242-494b-9f89-db978d08b912",
     "hasError": false,
     "id": "d12cb01d-765e-4c45-bff8-101405b02913",
     "outputs": [],
     "persistentId": "6f4252e8-b36d-4b4f-a31a-9e26540e5d34",
     "text": "def implicit():\n    from google.cloud import storage\n\n    # If you don't specify credentials when constructing the client, the\n    # client library will look for credentials in the environment.\n    storage_client = storage.Client()\n\n    # Make an authenticated API request\n    buckets = list(storage_client.list_buckets())\n    print(buckets)"
    },
    "executionTime": "2020-05-19T11:16:13.011Z"
   },
   {
    "cell": {
     "executionCount": 6,
     "executionEventId": "3b646502-dc60-4f1a-ae10-8f98ec32867b",
     "hasError": true,
     "id": "bf2ccbeb-ac06-4f1a-9212-cadf129420b4",
     "outputs": [
      {
       "ename": "DefaultCredentialsError",
       "evalue": "Could not automatically determine credentials. Please set GOOGLE_APPLICATION_CREDENTIALS or explicitly create credentials and re-run the application. For more information, please see https://cloud.google.com/docs/authentication/getting-started",
       "output_type": "error",
       "traceback": [
        "\u001b[1;31m---------------------------------------------------------------------------\u001b[0m",
        "\u001b[1;31mDefaultCredentialsError\u001b[0m                   Traceback (most recent call last)",
        "\u001b[1;32m<ipython-input-6-cd1d04c9069e>\u001b[0m in \u001b[0;36m<module>\u001b[1;34m\u001b[0m\n\u001b[1;32m----> 1\u001b[1;33m \u001b[0mclient\u001b[0m \u001b[1;33m=\u001b[0m \u001b[0mvision\u001b[0m\u001b[1;33m.\u001b[0m\u001b[0mImageAnnotatorClient\u001b[0m\u001b[1;33m(\u001b[0m\u001b[1;33m)\u001b[0m\u001b[1;33m\u001b[0m\u001b[1;33m\u001b[0m\u001b[0m\n\u001b[0m",
        "\u001b[1;32m~\\Anaconda3\\ANACONDA\\lib\\site-packages\\google\\cloud\\vision_v1\\gapic\\image_annotator_client.py\u001b[0m in \u001b[0;36m__init__\u001b[1;34m(self, transport, channel, credentials, client_config, client_info, client_options)\u001b[0m\n\u001b[0;32m    163\u001b[0m         \u001b[1;32melse\u001b[0m\u001b[1;33m:\u001b[0m\u001b[1;33m\u001b[0m\u001b[1;33m\u001b[0m\u001b[0m\n\u001b[0;32m    164\u001b[0m             self.transport = image_annotator_grpc_transport.ImageAnnotatorGrpcTransport(\n\u001b[1;32m--> 165\u001b[1;33m                 \u001b[0maddress\u001b[0m\u001b[1;33m=\u001b[0m\u001b[0mapi_endpoint\u001b[0m\u001b[1;33m,\u001b[0m \u001b[0mchannel\u001b[0m\u001b[1;33m=\u001b[0m\u001b[0mchannel\u001b[0m\u001b[1;33m,\u001b[0m \u001b[0mcredentials\u001b[0m\u001b[1;33m=\u001b[0m\u001b[0mcredentials\u001b[0m\u001b[1;33m\u001b[0m\u001b[1;33m\u001b[0m\u001b[0m\n\u001b[0m\u001b[0;32m    166\u001b[0m             )\n\u001b[0;32m    167\u001b[0m \u001b[1;33m\u001b[0m\u001b[0m\n",
        "\u001b[1;32m~\\Anaconda3\\ANACONDA\\lib\\site-packages\\google\\cloud\\vision_v1\\gapic\\transports\\image_annotator_grpc_transport.py\u001b[0m in \u001b[0;36m__init__\u001b[1;34m(self, channel, credentials, address)\u001b[0m\n\u001b[0;32m     68\u001b[0m                 options={\n\u001b[0;32m     69\u001b[0m                     \u001b[1;34m\"grpc.max_send_message_length\"\u001b[0m\u001b[1;33m:\u001b[0m \u001b[1;33m-\u001b[0m\u001b[1;36m1\u001b[0m\u001b[1;33m,\u001b[0m\u001b[1;33m\u001b[0m\u001b[1;33m\u001b[0m\u001b[0m\n\u001b[1;32m---> 70\u001b[1;33m                     \u001b[1;34m\"grpc.max_receive_message_length\"\u001b[0m\u001b[1;33m:\u001b[0m \u001b[1;33m-\u001b[0m\u001b[1;36m1\u001b[0m\u001b[1;33m,\u001b[0m\u001b[1;33m\u001b[0m\u001b[1;33m\u001b[0m\u001b[0m\n\u001b[0m\u001b[0;32m     71\u001b[0m                 }.items(),\n\u001b[0;32m     72\u001b[0m             )\n",
        "\u001b[1;32m~\\Anaconda3\\ANACONDA\\lib\\site-packages\\google\\cloud\\vision_v1\\gapic\\transports\\image_annotator_grpc_transport.py\u001b[0m in \u001b[0;36mcreate_channel\u001b[1;34m(cls, address, credentials, **kwargs)\u001b[0m\n\u001b[0;32m    107\u001b[0m         \"\"\"\n\u001b[0;32m    108\u001b[0m         return google.api_core.grpc_helpers.create_channel(\n\u001b[1;32m--> 109\u001b[1;33m             \u001b[0maddress\u001b[0m\u001b[1;33m,\u001b[0m \u001b[0mcredentials\u001b[0m\u001b[1;33m=\u001b[0m\u001b[0mcredentials\u001b[0m\u001b[1;33m,\u001b[0m \u001b[0mscopes\u001b[0m\u001b[1;33m=\u001b[0m\u001b[0mcls\u001b[0m\u001b[1;33m.\u001b[0m\u001b[0m_OAUTH_SCOPES\u001b[0m\u001b[1;33m,\u001b[0m \u001b[1;33m**\u001b[0m\u001b[0mkwargs\u001b[0m\u001b[1;33m\u001b[0m\u001b[1;33m\u001b[0m\u001b[0m\n\u001b[0m\u001b[0;32m    110\u001b[0m         )\n\u001b[0;32m    111\u001b[0m \u001b[1;33m\u001b[0m\u001b[0m\n",
        "\u001b[1;32m~\\Anaconda3\\ANACONDA\\lib\\site-packages\\google\\api_core\\grpc_helpers.py\u001b[0m in \u001b[0;36mcreate_channel\u001b[1;34m(target, credentials, scopes, ssl_credentials, **kwargs)\u001b[0m\n\u001b[0;32m    193\u001b[0m     \"\"\"\n\u001b[0;32m    194\u001b[0m     \u001b[1;32mif\u001b[0m \u001b[0mcredentials\u001b[0m \u001b[1;32mis\u001b[0m \u001b[1;32mNone\u001b[0m\u001b[1;33m:\u001b[0m\u001b[1;33m\u001b[0m\u001b[1;33m\u001b[0m\u001b[0m\n\u001b[1;32m--> 195\u001b[1;33m         \u001b[0mcredentials\u001b[0m\u001b[1;33m,\u001b[0m \u001b[0m_\u001b[0m \u001b[1;33m=\u001b[0m \u001b[0mgoogle\u001b[0m\u001b[1;33m.\u001b[0m\u001b[0mauth\u001b[0m\u001b[1;33m.\u001b[0m\u001b[0mdefault\u001b[0m\u001b[1;33m(\u001b[0m\u001b[0mscopes\u001b[0m\u001b[1;33m=\u001b[0m\u001b[0mscopes\u001b[0m\u001b[1;33m)\u001b[0m\u001b[1;33m\u001b[0m\u001b[1;33m\u001b[0m\u001b[0m\n\u001b[0m\u001b[0;32m    196\u001b[0m     \u001b[1;32melse\u001b[0m\u001b[1;33m:\u001b[0m\u001b[1;33m\u001b[0m\u001b[1;33m\u001b[0m\u001b[0m\n\u001b[0;32m    197\u001b[0m         credentials = google.auth.credentials.with_scopes_if_required(\n",
        "\u001b[1;32m~\\Anaconda3\\ANACONDA\\lib\\site-packages\\google\\auth\\_default.py\u001b[0m in \u001b[0;36mdefault\u001b[1;34m(scopes, request)\u001b[0m\n\u001b[0;32m    319\u001b[0m             \u001b[1;32mreturn\u001b[0m \u001b[0mcredentials\u001b[0m\u001b[1;33m,\u001b[0m \u001b[0meffective_project_id\u001b[0m\u001b[1;33m\u001b[0m\u001b[1;33m\u001b[0m\u001b[0m\n\u001b[0;32m    320\u001b[0m \u001b[1;33m\u001b[0m\u001b[0m\n\u001b[1;32m--> 321\u001b[1;33m     \u001b[1;32mraise\u001b[0m \u001b[0mexceptions\u001b[0m\u001b[1;33m.\u001b[0m\u001b[0mDefaultCredentialsError\u001b[0m\u001b[1;33m(\u001b[0m\u001b[0m_HELP_MESSAGE\u001b[0m\u001b[1;33m)\u001b[0m\u001b[1;33m\u001b[0m\u001b[1;33m\u001b[0m\u001b[0m\n\u001b[0m",
        "\u001b[1;31mDefaultCredentialsError\u001b[0m: Could not automatically determine credentials. Please set GOOGLE_APPLICATION_CREDENTIALS or explicitly create credentials and re-run the application. For more information, please see https://cloud.google.com/docs/authentication/getting-started"
       ]
      }
     ],
     "persistentId": "8633bdfc-fd0b-4aa1-a5ca-741999c342ce",
     "text": "client = vision.ImageAnnotatorClient()"
    },
    "executionTime": "2020-05-19T11:16:18.270Z"
   },
   {
    "cell": {
     "executionCount": 7,
     "executionEventId": "6af2a29e-5f15-4975-8aa2-51745a8cf0b2",
     "hasError": true,
     "id": "bf2ccbeb-ac06-4f1a-9212-cadf129420b4",
     "outputs": [
      {
       "ename": "DefaultCredentialsError",
       "evalue": "Could not automatically determine credentials. Please set GOOGLE_APPLICATION_CREDENTIALS or explicitly create credentials and re-run the application. For more information, please see https://cloud.google.com/docs/authentication/getting-started",
       "output_type": "error",
       "traceback": [
        "\u001b[1;31m---------------------------------------------------------------------------\u001b[0m",
        "\u001b[1;31mDefaultCredentialsError\u001b[0m                   Traceback (most recent call last)",
        "\u001b[1;32m<ipython-input-7-cd1d04c9069e>\u001b[0m in \u001b[0;36m<module>\u001b[1;34m\u001b[0m\n\u001b[1;32m----> 1\u001b[1;33m \u001b[0mclient\u001b[0m \u001b[1;33m=\u001b[0m \u001b[0mvision\u001b[0m\u001b[1;33m.\u001b[0m\u001b[0mImageAnnotatorClient\u001b[0m\u001b[1;33m(\u001b[0m\u001b[1;33m)\u001b[0m\u001b[1;33m\u001b[0m\u001b[1;33m\u001b[0m\u001b[0m\n\u001b[0m",
        "\u001b[1;32m~\\Anaconda3\\ANACONDA\\lib\\site-packages\\google\\cloud\\vision_v1\\gapic\\image_annotator_client.py\u001b[0m in \u001b[0;36m__init__\u001b[1;34m(self, transport, channel, credentials, client_config, client_info, client_options)\u001b[0m\n\u001b[0;32m    163\u001b[0m         \u001b[1;32melse\u001b[0m\u001b[1;33m:\u001b[0m\u001b[1;33m\u001b[0m\u001b[1;33m\u001b[0m\u001b[0m\n\u001b[0;32m    164\u001b[0m             self.transport = image_annotator_grpc_transport.ImageAnnotatorGrpcTransport(\n\u001b[1;32m--> 165\u001b[1;33m                 \u001b[0maddress\u001b[0m\u001b[1;33m=\u001b[0m\u001b[0mapi_endpoint\u001b[0m\u001b[1;33m,\u001b[0m \u001b[0mchannel\u001b[0m\u001b[1;33m=\u001b[0m\u001b[0mchannel\u001b[0m\u001b[1;33m,\u001b[0m \u001b[0mcredentials\u001b[0m\u001b[1;33m=\u001b[0m\u001b[0mcredentials\u001b[0m\u001b[1;33m\u001b[0m\u001b[1;33m\u001b[0m\u001b[0m\n\u001b[0m\u001b[0;32m    166\u001b[0m             )\n\u001b[0;32m    167\u001b[0m \u001b[1;33m\u001b[0m\u001b[0m\n",
        "\u001b[1;32m~\\Anaconda3\\ANACONDA\\lib\\site-packages\\google\\cloud\\vision_v1\\gapic\\transports\\image_annotator_grpc_transport.py\u001b[0m in \u001b[0;36m__init__\u001b[1;34m(self, channel, credentials, address)\u001b[0m\n\u001b[0;32m     68\u001b[0m                 options={\n\u001b[0;32m     69\u001b[0m                     \u001b[1;34m\"grpc.max_send_message_length\"\u001b[0m\u001b[1;33m:\u001b[0m \u001b[1;33m-\u001b[0m\u001b[1;36m1\u001b[0m\u001b[1;33m,\u001b[0m\u001b[1;33m\u001b[0m\u001b[1;33m\u001b[0m\u001b[0m\n\u001b[1;32m---> 70\u001b[1;33m                     \u001b[1;34m\"grpc.max_receive_message_length\"\u001b[0m\u001b[1;33m:\u001b[0m \u001b[1;33m-\u001b[0m\u001b[1;36m1\u001b[0m\u001b[1;33m,\u001b[0m\u001b[1;33m\u001b[0m\u001b[1;33m\u001b[0m\u001b[0m\n\u001b[0m\u001b[0;32m     71\u001b[0m                 }.items(),\n\u001b[0;32m     72\u001b[0m             )\n",
        "\u001b[1;32m~\\Anaconda3\\ANACONDA\\lib\\site-packages\\google\\cloud\\vision_v1\\gapic\\transports\\image_annotator_grpc_transport.py\u001b[0m in \u001b[0;36mcreate_channel\u001b[1;34m(cls, address, credentials, **kwargs)\u001b[0m\n\u001b[0;32m    107\u001b[0m         \"\"\"\n\u001b[0;32m    108\u001b[0m         return google.api_core.grpc_helpers.create_channel(\n\u001b[1;32m--> 109\u001b[1;33m             \u001b[0maddress\u001b[0m\u001b[1;33m,\u001b[0m \u001b[0mcredentials\u001b[0m\u001b[1;33m=\u001b[0m\u001b[0mcredentials\u001b[0m\u001b[1;33m,\u001b[0m \u001b[0mscopes\u001b[0m\u001b[1;33m=\u001b[0m\u001b[0mcls\u001b[0m\u001b[1;33m.\u001b[0m\u001b[0m_OAUTH_SCOPES\u001b[0m\u001b[1;33m,\u001b[0m \u001b[1;33m**\u001b[0m\u001b[0mkwargs\u001b[0m\u001b[1;33m\u001b[0m\u001b[1;33m\u001b[0m\u001b[0m\n\u001b[0m\u001b[0;32m    110\u001b[0m         )\n\u001b[0;32m    111\u001b[0m \u001b[1;33m\u001b[0m\u001b[0m\n",
        "\u001b[1;32m~\\Anaconda3\\ANACONDA\\lib\\site-packages\\google\\api_core\\grpc_helpers.py\u001b[0m in \u001b[0;36mcreate_channel\u001b[1;34m(target, credentials, scopes, ssl_credentials, **kwargs)\u001b[0m\n\u001b[0;32m    193\u001b[0m     \"\"\"\n\u001b[0;32m    194\u001b[0m     \u001b[1;32mif\u001b[0m \u001b[0mcredentials\u001b[0m \u001b[1;32mis\u001b[0m \u001b[1;32mNone\u001b[0m\u001b[1;33m:\u001b[0m\u001b[1;33m\u001b[0m\u001b[1;33m\u001b[0m\u001b[0m\n\u001b[1;32m--> 195\u001b[1;33m         \u001b[0mcredentials\u001b[0m\u001b[1;33m,\u001b[0m \u001b[0m_\u001b[0m \u001b[1;33m=\u001b[0m \u001b[0mgoogle\u001b[0m\u001b[1;33m.\u001b[0m\u001b[0mauth\u001b[0m\u001b[1;33m.\u001b[0m\u001b[0mdefault\u001b[0m\u001b[1;33m(\u001b[0m\u001b[0mscopes\u001b[0m\u001b[1;33m=\u001b[0m\u001b[0mscopes\u001b[0m\u001b[1;33m)\u001b[0m\u001b[1;33m\u001b[0m\u001b[1;33m\u001b[0m\u001b[0m\n\u001b[0m\u001b[0;32m    196\u001b[0m     \u001b[1;32melse\u001b[0m\u001b[1;33m:\u001b[0m\u001b[1;33m\u001b[0m\u001b[1;33m\u001b[0m\u001b[0m\n\u001b[0;32m    197\u001b[0m         credentials = google.auth.credentials.with_scopes_if_required(\n",
        "\u001b[1;32m~\\Anaconda3\\ANACONDA\\lib\\site-packages\\google\\auth\\_default.py\u001b[0m in \u001b[0;36mdefault\u001b[1;34m(scopes, request)\u001b[0m\n\u001b[0;32m    319\u001b[0m             \u001b[1;32mreturn\u001b[0m \u001b[0mcredentials\u001b[0m\u001b[1;33m,\u001b[0m \u001b[0meffective_project_id\u001b[0m\u001b[1;33m\u001b[0m\u001b[1;33m\u001b[0m\u001b[0m\n\u001b[0;32m    320\u001b[0m \u001b[1;33m\u001b[0m\u001b[0m\n\u001b[1;32m--> 321\u001b[1;33m     \u001b[1;32mraise\u001b[0m \u001b[0mexceptions\u001b[0m\u001b[1;33m.\u001b[0m\u001b[0mDefaultCredentialsError\u001b[0m\u001b[1;33m(\u001b[0m\u001b[0m_HELP_MESSAGE\u001b[0m\u001b[1;33m)\u001b[0m\u001b[1;33m\u001b[0m\u001b[1;33m\u001b[0m\u001b[0m\n\u001b[0m",
        "\u001b[1;31mDefaultCredentialsError\u001b[0m: Could not automatically determine credentials. Please set GOOGLE_APPLICATION_CREDENTIALS or explicitly create credentials and re-run the application. For more information, please see https://cloud.google.com/docs/authentication/getting-started"
       ]
      }
     ],
     "persistentId": "8633bdfc-fd0b-4aa1-a5ca-741999c342ce",
     "text": "client = vision.ImageAnnotatorClient()"
    },
    "executionTime": "2020-05-19T11:17:58.762Z"
   },
   {
    "cell": {
     "executionCount": 8,
     "executionEventId": "c0ab8bb8-1992-4b0c-b08f-db8a1f332d1d",
     "hasError": false,
     "id": "d12cb01d-765e-4c45-bff8-101405b02913",
     "outputs": [],
     "persistentId": "6f4252e8-b36d-4b4f-a31a-9e26540e5d34",
     "text": "def implicit():\n    from google.cloud import storage\n\n    # If you don't specify credentials when constructing the client, the\n    # client library will look for credentials in the environment.\n    storage_client = storage.Client()\n\n    # Make an authenticated API request\n    buckets = list(storage_client.list_buckets())\n    print(buckets)"
    },
    "executionTime": "2020-05-19T11:20:45.320Z"
   },
   {
    "cell": {
     "executionCount": 9,
     "executionEventId": "836d571b-71c8-4173-8c9d-4343aef26a1d",
     "hasError": true,
     "id": "bf2ccbeb-ac06-4f1a-9212-cadf129420b4",
     "outputs": [
      {
       "ename": "DefaultCredentialsError",
       "evalue": "Could not automatically determine credentials. Please set GOOGLE_APPLICATION_CREDENTIALS or explicitly create credentials and re-run the application. For more information, please see https://cloud.google.com/docs/authentication/getting-started",
       "output_type": "error",
       "traceback": [
        "\u001b[1;31m---------------------------------------------------------------------------\u001b[0m",
        "\u001b[1;31mDefaultCredentialsError\u001b[0m                   Traceback (most recent call last)",
        "\u001b[1;32m<ipython-input-9-cd1d04c9069e>\u001b[0m in \u001b[0;36m<module>\u001b[1;34m\u001b[0m\n\u001b[1;32m----> 1\u001b[1;33m \u001b[0mclient\u001b[0m \u001b[1;33m=\u001b[0m \u001b[0mvision\u001b[0m\u001b[1;33m.\u001b[0m\u001b[0mImageAnnotatorClient\u001b[0m\u001b[1;33m(\u001b[0m\u001b[1;33m)\u001b[0m\u001b[1;33m\u001b[0m\u001b[1;33m\u001b[0m\u001b[0m\n\u001b[0m",
        "\u001b[1;32m~\\Anaconda3\\ANACONDA\\lib\\site-packages\\google\\cloud\\vision_v1\\gapic\\image_annotator_client.py\u001b[0m in \u001b[0;36m__init__\u001b[1;34m(self, transport, channel, credentials, client_config, client_info, client_options)\u001b[0m\n\u001b[0;32m    163\u001b[0m         \u001b[1;32melse\u001b[0m\u001b[1;33m:\u001b[0m\u001b[1;33m\u001b[0m\u001b[1;33m\u001b[0m\u001b[0m\n\u001b[0;32m    164\u001b[0m             self.transport = image_annotator_grpc_transport.ImageAnnotatorGrpcTransport(\n\u001b[1;32m--> 165\u001b[1;33m                 \u001b[0maddress\u001b[0m\u001b[1;33m=\u001b[0m\u001b[0mapi_endpoint\u001b[0m\u001b[1;33m,\u001b[0m \u001b[0mchannel\u001b[0m\u001b[1;33m=\u001b[0m\u001b[0mchannel\u001b[0m\u001b[1;33m,\u001b[0m \u001b[0mcredentials\u001b[0m\u001b[1;33m=\u001b[0m\u001b[0mcredentials\u001b[0m\u001b[1;33m\u001b[0m\u001b[1;33m\u001b[0m\u001b[0m\n\u001b[0m\u001b[0;32m    166\u001b[0m             )\n\u001b[0;32m    167\u001b[0m \u001b[1;33m\u001b[0m\u001b[0m\n",
        "\u001b[1;32m~\\Anaconda3\\ANACONDA\\lib\\site-packages\\google\\cloud\\vision_v1\\gapic\\transports\\image_annotator_grpc_transport.py\u001b[0m in \u001b[0;36m__init__\u001b[1;34m(self, channel, credentials, address)\u001b[0m\n\u001b[0;32m     68\u001b[0m                 options={\n\u001b[0;32m     69\u001b[0m                     \u001b[1;34m\"grpc.max_send_message_length\"\u001b[0m\u001b[1;33m:\u001b[0m \u001b[1;33m-\u001b[0m\u001b[1;36m1\u001b[0m\u001b[1;33m,\u001b[0m\u001b[1;33m\u001b[0m\u001b[1;33m\u001b[0m\u001b[0m\n\u001b[1;32m---> 70\u001b[1;33m                     \u001b[1;34m\"grpc.max_receive_message_length\"\u001b[0m\u001b[1;33m:\u001b[0m \u001b[1;33m-\u001b[0m\u001b[1;36m1\u001b[0m\u001b[1;33m,\u001b[0m\u001b[1;33m\u001b[0m\u001b[1;33m\u001b[0m\u001b[0m\n\u001b[0m\u001b[0;32m     71\u001b[0m                 }.items(),\n\u001b[0;32m     72\u001b[0m             )\n",
        "\u001b[1;32m~\\Anaconda3\\ANACONDA\\lib\\site-packages\\google\\cloud\\vision_v1\\gapic\\transports\\image_annotator_grpc_transport.py\u001b[0m in \u001b[0;36mcreate_channel\u001b[1;34m(cls, address, credentials, **kwargs)\u001b[0m\n\u001b[0;32m    107\u001b[0m         \"\"\"\n\u001b[0;32m    108\u001b[0m         return google.api_core.grpc_helpers.create_channel(\n\u001b[1;32m--> 109\u001b[1;33m             \u001b[0maddress\u001b[0m\u001b[1;33m,\u001b[0m \u001b[0mcredentials\u001b[0m\u001b[1;33m=\u001b[0m\u001b[0mcredentials\u001b[0m\u001b[1;33m,\u001b[0m \u001b[0mscopes\u001b[0m\u001b[1;33m=\u001b[0m\u001b[0mcls\u001b[0m\u001b[1;33m.\u001b[0m\u001b[0m_OAUTH_SCOPES\u001b[0m\u001b[1;33m,\u001b[0m \u001b[1;33m**\u001b[0m\u001b[0mkwargs\u001b[0m\u001b[1;33m\u001b[0m\u001b[1;33m\u001b[0m\u001b[0m\n\u001b[0m\u001b[0;32m    110\u001b[0m         )\n\u001b[0;32m    111\u001b[0m \u001b[1;33m\u001b[0m\u001b[0m\n",
        "\u001b[1;32m~\\Anaconda3\\ANACONDA\\lib\\site-packages\\google\\api_core\\grpc_helpers.py\u001b[0m in \u001b[0;36mcreate_channel\u001b[1;34m(target, credentials, scopes, ssl_credentials, **kwargs)\u001b[0m\n\u001b[0;32m    193\u001b[0m     \"\"\"\n\u001b[0;32m    194\u001b[0m     \u001b[1;32mif\u001b[0m \u001b[0mcredentials\u001b[0m \u001b[1;32mis\u001b[0m \u001b[1;32mNone\u001b[0m\u001b[1;33m:\u001b[0m\u001b[1;33m\u001b[0m\u001b[1;33m\u001b[0m\u001b[0m\n\u001b[1;32m--> 195\u001b[1;33m         \u001b[0mcredentials\u001b[0m\u001b[1;33m,\u001b[0m \u001b[0m_\u001b[0m \u001b[1;33m=\u001b[0m \u001b[0mgoogle\u001b[0m\u001b[1;33m.\u001b[0m\u001b[0mauth\u001b[0m\u001b[1;33m.\u001b[0m\u001b[0mdefault\u001b[0m\u001b[1;33m(\u001b[0m\u001b[0mscopes\u001b[0m\u001b[1;33m=\u001b[0m\u001b[0mscopes\u001b[0m\u001b[1;33m)\u001b[0m\u001b[1;33m\u001b[0m\u001b[1;33m\u001b[0m\u001b[0m\n\u001b[0m\u001b[0;32m    196\u001b[0m     \u001b[1;32melse\u001b[0m\u001b[1;33m:\u001b[0m\u001b[1;33m\u001b[0m\u001b[1;33m\u001b[0m\u001b[0m\n\u001b[0;32m    197\u001b[0m         credentials = google.auth.credentials.with_scopes_if_required(\n",
        "\u001b[1;32m~\\Anaconda3\\ANACONDA\\lib\\site-packages\\google\\auth\\_default.py\u001b[0m in \u001b[0;36mdefault\u001b[1;34m(scopes, request)\u001b[0m\n\u001b[0;32m    319\u001b[0m             \u001b[1;32mreturn\u001b[0m \u001b[0mcredentials\u001b[0m\u001b[1;33m,\u001b[0m \u001b[0meffective_project_id\u001b[0m\u001b[1;33m\u001b[0m\u001b[1;33m\u001b[0m\u001b[0m\n\u001b[0;32m    320\u001b[0m \u001b[1;33m\u001b[0m\u001b[0m\n\u001b[1;32m--> 321\u001b[1;33m     \u001b[1;32mraise\u001b[0m \u001b[0mexceptions\u001b[0m\u001b[1;33m.\u001b[0m\u001b[0mDefaultCredentialsError\u001b[0m\u001b[1;33m(\u001b[0m\u001b[0m_HELP_MESSAGE\u001b[0m\u001b[1;33m)\u001b[0m\u001b[1;33m\u001b[0m\u001b[1;33m\u001b[0m\u001b[0m\n\u001b[0m",
        "\u001b[1;31mDefaultCredentialsError\u001b[0m: Could not automatically determine credentials. Please set GOOGLE_APPLICATION_CREDENTIALS or explicitly create credentials and re-run the application. For more information, please see https://cloud.google.com/docs/authentication/getting-started"
       ]
      }
     ],
     "persistentId": "8633bdfc-fd0b-4aa1-a5ca-741999c342ce",
     "text": "client = vision.ImageAnnotatorClient()"
    },
    "executionTime": "2020-05-19T11:20:47.692Z"
   },
   {
    "cell": {
     "executionCount": 10,
     "executionEventId": "3c549424-21e7-4bdc-b691-41258e34e088",
     "hasError": false,
     "id": "86cda800-0f27-46a4-8c74-ace5a3f955eb",
     "outputs": [],
     "persistentId": "37eea45f-e556-4fbb-b895-6b4bc3d3b713",
     "text": "from google.cloud import vision"
    },
    "executionTime": "2020-05-19T11:20:53.640Z"
   },
   {
    "cell": {
     "executionCount": 11,
     "executionEventId": "5b1ac3f0-036d-4b94-b662-e39b4a513f6e",
     "hasError": false,
     "id": "d12cb01d-765e-4c45-bff8-101405b02913",
     "outputs": [],
     "persistentId": "6f4252e8-b36d-4b4f-a31a-9e26540e5d34",
     "text": "def implicit():\n    from google.cloud import storage\n\n    # If you don't specify credentials when constructing the client, the\n    # client library will look for credentials in the environment.\n    storage_client = storage.Client()\n\n    # Make an authenticated API request\n    buckets = list(storage_client.list_buckets())\n    print(buckets)"
    },
    "executionTime": "2020-05-19T11:20:54.192Z"
   },
   {
    "cell": {
     "executionCount": 12,
     "executionEventId": "0f28124c-cee1-4e3a-8669-fd15b514ed7d",
     "hasError": true,
     "id": "bf2ccbeb-ac06-4f1a-9212-cadf129420b4",
     "outputs": [
      {
       "ename": "DefaultCredentialsError",
       "evalue": "Could not automatically determine credentials. Please set GOOGLE_APPLICATION_CREDENTIALS or explicitly create credentials and re-run the application. For more information, please see https://cloud.google.com/docs/authentication/getting-started",
       "output_type": "error",
       "traceback": [
        "\u001b[1;31m---------------------------------------------------------------------------\u001b[0m",
        "\u001b[1;31mDefaultCredentialsError\u001b[0m                   Traceback (most recent call last)",
        "\u001b[1;32m<ipython-input-12-cd1d04c9069e>\u001b[0m in \u001b[0;36m<module>\u001b[1;34m\u001b[0m\n\u001b[1;32m----> 1\u001b[1;33m \u001b[0mclient\u001b[0m \u001b[1;33m=\u001b[0m \u001b[0mvision\u001b[0m\u001b[1;33m.\u001b[0m\u001b[0mImageAnnotatorClient\u001b[0m\u001b[1;33m(\u001b[0m\u001b[1;33m)\u001b[0m\u001b[1;33m\u001b[0m\u001b[1;33m\u001b[0m\u001b[0m\n\u001b[0m",
        "\u001b[1;32m~\\Anaconda3\\ANACONDA\\lib\\site-packages\\google\\cloud\\vision_v1\\gapic\\image_annotator_client.py\u001b[0m in \u001b[0;36m__init__\u001b[1;34m(self, transport, channel, credentials, client_config, client_info, client_options)\u001b[0m\n\u001b[0;32m    163\u001b[0m         \u001b[1;32melse\u001b[0m\u001b[1;33m:\u001b[0m\u001b[1;33m\u001b[0m\u001b[1;33m\u001b[0m\u001b[0m\n\u001b[0;32m    164\u001b[0m             self.transport = image_annotator_grpc_transport.ImageAnnotatorGrpcTransport(\n\u001b[1;32m--> 165\u001b[1;33m                 \u001b[0maddress\u001b[0m\u001b[1;33m=\u001b[0m\u001b[0mapi_endpoint\u001b[0m\u001b[1;33m,\u001b[0m \u001b[0mchannel\u001b[0m\u001b[1;33m=\u001b[0m\u001b[0mchannel\u001b[0m\u001b[1;33m,\u001b[0m \u001b[0mcredentials\u001b[0m\u001b[1;33m=\u001b[0m\u001b[0mcredentials\u001b[0m\u001b[1;33m\u001b[0m\u001b[1;33m\u001b[0m\u001b[0m\n\u001b[0m\u001b[0;32m    166\u001b[0m             )\n\u001b[0;32m    167\u001b[0m \u001b[1;33m\u001b[0m\u001b[0m\n",
        "\u001b[1;32m~\\Anaconda3\\ANACONDA\\lib\\site-packages\\google\\cloud\\vision_v1\\gapic\\transports\\image_annotator_grpc_transport.py\u001b[0m in \u001b[0;36m__init__\u001b[1;34m(self, channel, credentials, address)\u001b[0m\n\u001b[0;32m     68\u001b[0m                 options={\n\u001b[0;32m     69\u001b[0m                     \u001b[1;34m\"grpc.max_send_message_length\"\u001b[0m\u001b[1;33m:\u001b[0m \u001b[1;33m-\u001b[0m\u001b[1;36m1\u001b[0m\u001b[1;33m,\u001b[0m\u001b[1;33m\u001b[0m\u001b[1;33m\u001b[0m\u001b[0m\n\u001b[1;32m---> 70\u001b[1;33m                     \u001b[1;34m\"grpc.max_receive_message_length\"\u001b[0m\u001b[1;33m:\u001b[0m \u001b[1;33m-\u001b[0m\u001b[1;36m1\u001b[0m\u001b[1;33m,\u001b[0m\u001b[1;33m\u001b[0m\u001b[1;33m\u001b[0m\u001b[0m\n\u001b[0m\u001b[0;32m     71\u001b[0m                 }.items(),\n\u001b[0;32m     72\u001b[0m             )\n",
        "\u001b[1;32m~\\Anaconda3\\ANACONDA\\lib\\site-packages\\google\\cloud\\vision_v1\\gapic\\transports\\image_annotator_grpc_transport.py\u001b[0m in \u001b[0;36mcreate_channel\u001b[1;34m(cls, address, credentials, **kwargs)\u001b[0m\n\u001b[0;32m    107\u001b[0m         \"\"\"\n\u001b[0;32m    108\u001b[0m         return google.api_core.grpc_helpers.create_channel(\n\u001b[1;32m--> 109\u001b[1;33m             \u001b[0maddress\u001b[0m\u001b[1;33m,\u001b[0m \u001b[0mcredentials\u001b[0m\u001b[1;33m=\u001b[0m\u001b[0mcredentials\u001b[0m\u001b[1;33m,\u001b[0m \u001b[0mscopes\u001b[0m\u001b[1;33m=\u001b[0m\u001b[0mcls\u001b[0m\u001b[1;33m.\u001b[0m\u001b[0m_OAUTH_SCOPES\u001b[0m\u001b[1;33m,\u001b[0m \u001b[1;33m**\u001b[0m\u001b[0mkwargs\u001b[0m\u001b[1;33m\u001b[0m\u001b[1;33m\u001b[0m\u001b[0m\n\u001b[0m\u001b[0;32m    110\u001b[0m         )\n\u001b[0;32m    111\u001b[0m \u001b[1;33m\u001b[0m\u001b[0m\n",
        "\u001b[1;32m~\\Anaconda3\\ANACONDA\\lib\\site-packages\\google\\api_core\\grpc_helpers.py\u001b[0m in \u001b[0;36mcreate_channel\u001b[1;34m(target, credentials, scopes, ssl_credentials, **kwargs)\u001b[0m\n\u001b[0;32m    193\u001b[0m     \"\"\"\n\u001b[0;32m    194\u001b[0m     \u001b[1;32mif\u001b[0m \u001b[0mcredentials\u001b[0m \u001b[1;32mis\u001b[0m \u001b[1;32mNone\u001b[0m\u001b[1;33m:\u001b[0m\u001b[1;33m\u001b[0m\u001b[1;33m\u001b[0m\u001b[0m\n\u001b[1;32m--> 195\u001b[1;33m         \u001b[0mcredentials\u001b[0m\u001b[1;33m,\u001b[0m \u001b[0m_\u001b[0m \u001b[1;33m=\u001b[0m \u001b[0mgoogle\u001b[0m\u001b[1;33m.\u001b[0m\u001b[0mauth\u001b[0m\u001b[1;33m.\u001b[0m\u001b[0mdefault\u001b[0m\u001b[1;33m(\u001b[0m\u001b[0mscopes\u001b[0m\u001b[1;33m=\u001b[0m\u001b[0mscopes\u001b[0m\u001b[1;33m)\u001b[0m\u001b[1;33m\u001b[0m\u001b[1;33m\u001b[0m\u001b[0m\n\u001b[0m\u001b[0;32m    196\u001b[0m     \u001b[1;32melse\u001b[0m\u001b[1;33m:\u001b[0m\u001b[1;33m\u001b[0m\u001b[1;33m\u001b[0m\u001b[0m\n\u001b[0;32m    197\u001b[0m         credentials = google.auth.credentials.with_scopes_if_required(\n",
        "\u001b[1;32m~\\Anaconda3\\ANACONDA\\lib\\site-packages\\google\\auth\\_default.py\u001b[0m in \u001b[0;36mdefault\u001b[1;34m(scopes, request)\u001b[0m\n\u001b[0;32m    319\u001b[0m             \u001b[1;32mreturn\u001b[0m \u001b[0mcredentials\u001b[0m\u001b[1;33m,\u001b[0m \u001b[0meffective_project_id\u001b[0m\u001b[1;33m\u001b[0m\u001b[1;33m\u001b[0m\u001b[0m\n\u001b[0;32m    320\u001b[0m \u001b[1;33m\u001b[0m\u001b[0m\n\u001b[1;32m--> 321\u001b[1;33m     \u001b[1;32mraise\u001b[0m \u001b[0mexceptions\u001b[0m\u001b[1;33m.\u001b[0m\u001b[0mDefaultCredentialsError\u001b[0m\u001b[1;33m(\u001b[0m\u001b[0m_HELP_MESSAGE\u001b[0m\u001b[1;33m)\u001b[0m\u001b[1;33m\u001b[0m\u001b[1;33m\u001b[0m\u001b[0m\n\u001b[0m",
        "\u001b[1;31mDefaultCredentialsError\u001b[0m: Could not automatically determine credentials. Please set GOOGLE_APPLICATION_CREDENTIALS or explicitly create credentials and re-run the application. For more information, please see https://cloud.google.com/docs/authentication/getting-started"
       ]
      }
     ],
     "persistentId": "8633bdfc-fd0b-4aa1-a5ca-741999c342ce",
     "text": "client = vision.ImageAnnotatorClient()"
    },
    "executionTime": "2020-05-19T11:20:54.714Z"
   },
   {
    "cell": {
     "executionCount": 13,
     "executionEventId": "35ab64a9-3307-4e3c-b1e7-9a550d9148e2",
     "hasError": false,
     "id": "03a83d0c-d149-4b02-80b1-7b28a9d1778c",
     "outputs": [
      {
       "name": "stdout",
       "output_type": "stream",
       "text": "Collecting google-cloud-storage\n  Downloading google_cloud_storage-1.28.1-py2.py3-none-any.whl (80 kB)\nRequirement already satisfied, skipping upgrade: google-auth<2.0dev,>=1.11.0 in c:\\users\\renate\\anaconda3\\anaconda\\lib\\site-packages (from google-cloud-storage) (1.15.0)\nCollecting google-cloud-core<2.0dev,>=1.2.0\n  Downloading google_cloud_core-1.3.0-py2.py3-none-any.whl (26 kB)\nCollecting google-resumable-media<0.6dev,>=0.5.0\n  Downloading google_resumable_media-0.5.0-py2.py3-none-any.whl (38 kB)\nRequirement already satisfied, skipping upgrade: rsa<4.1,>=3.1.4 in c:\\users\\renate\\anaconda3\\anaconda\\lib\\site-packages (from google-auth<2.0dev,>=1.11.0->google-cloud-storage) (4.0)\nRequirement already satisfied, skipping upgrade: cachetools<5.0,>=2.0.0 in c:\\users\\renate\\anaconda3\\anaconda\\lib\\site-packages (from google-auth<2.0dev,>=1.11.0->google-cloud-storage) (4.1.0)\nRequirement already satisfied, skipping upgrade: setuptools>=40.3.0 in c:\\users\\renate\\anaconda3\\anaconda\\lib\\site-packages (from google-auth<2.0dev,>=1.11.0->google-cloud-storage) (46.1.3.post20200330)\nRequirement already satisfied, skipping upgrade: pyasn1-modules>=0.2.1 in c:\\users\\renate\\anaconda3\\anaconda\\lib\\site-packages (from google-auth<2.0dev,>=1.11.0->google-cloud-storage) (0.2.7)\nRequirement already satisfied, skipping upgrade: six>=1.9.0 in c:\\users\\renate\\anaconda3\\anaconda\\lib\\site-packages (from google-auth<2.0dev,>=1.11.0->google-cloud-storage) (1.14.0)\nRequirement already satisfied, skipping upgrade: google-api-core<2.0.0dev,>=1.16.0 in c:\\users\\renate\\anaconda3\\anaconda\\lib\\site-packages (from google-cloud-core<2.0dev,>=1.2.0->google-cloud-storage) (1.17.0)\nRequirement already satisfied, skipping upgrade: pyasn1>=0.1.3 in c:\\users\\renate\\anaconda3\\anaconda\\lib\\site-packages (from rsa<4.1,>=3.1.4->google-auth<2.0dev,>=1.11.0->google-cloud-storage) (0.4.7)\nRequirement already satisfied, skipping upgrade: pytz in c:\\users\\renate\\anaconda3\\anaconda\\lib\\site-packages (from google-api-core<2.0.0dev,>=1.16.0->google-cloud-core<2.0dev,>=1.2.0->google-cloud-storage) (2019.3)\nRequirement already satisfied, skipping upgrade: requests<3.0.0dev,>=2.18.0 in c:\\users\\renate\\anaconda3\\anaconda\\lib\\site-packages (from google-api-core<2.0.0dev,>=1.16.0->google-cloud-core<2.0dev,>=1.2.0->google-cloud-storage) (2.23.0)\nRequirement already satisfied, skipping upgrade: googleapis-common-protos<2.0dev,>=1.6.0 in c:\\users\\renate\\anaconda3\\anaconda\\lib\\site-packages (from google-api-core<2.0.0dev,>=1.16.0->google-cloud-core<2.0dev,>=1.2.0->google-cloud-storage) (1.51.0)\nRequirement already satisfied, skipping upgrade: protobuf>=3.4.0 in c:\\users\\renate\\anaconda3\\anaconda\\lib\\site-packages (from google-api-core<2.0.0dev,>=1.16.0->google-cloud-core<2.0dev,>=1.2.0->google-cloud-storage) (3.11.2)\nRequirement already satisfied, skipping upgrade: urllib3!=1.25.0,!=1.25.1,<1.26,>=1.21.1 in c:\\users\\renate\\anaconda3\\anaconda\\lib\\site-packages (from requests<3.0.0dev,>=2.18.0->google-api-core<2.0.0dev,>=1.16.0->google-cloud-core<2.0dev,>=1.2.0->google-cloud-storage) (1.25.8)\nRequirement already satisfied, skipping upgrade: idna<3,>=2.5 in c:\\users\\renate\\anaconda3\\anaconda\\lib\\site-packages (from requests<3.0.0dev,>=2.18.0->google-api-core<2.0.0dev,>=1.16.0->google-cloud-core<2.0dev,>=1.2.0->google-cloud-storage) (2.9)\nRequirement already satisfied, skipping upgrade: chardet<4,>=3.0.2 in c:\\users\\renate\\anaconda3\\anaconda\\lib\\site-packages (from requests<3.0.0dev,>=2.18.0->google-api-core<2.0.0dev,>=1.16.0->google-cloud-core<2.0dev,>=1.2.0->google-cloud-storage) (3.0.4)\nRequirement already satisfied, skipping upgrade: certifi>=2017.4.17 in c:\\users\\renate\\anaconda3\\anaconda\\lib\\site-packages (from requests<3.0.0dev,>=2.18.0->google-api-core<2.0.0dev,>=1.16.0->google-cloud-core<2.0dev,>=1.2.0->google-cloud-storage) (2020.4.5.1)\nInstalling collected packages: google-cloud-core, google-resumable-media, google-cloud-storage\nSuccessfully installed google-cloud-core-1.3.0 google-cloud-storage-1.28.1 google-resumable-media-0.5.0\n"
      }
     ],
     "persistentId": "c7695877-4d5c-4df0-b7b6-4fec09570468",
     "text": "!pip install --upgrade google-cloud-storage"
    },
    "executionTime": "2020-05-19T11:22:14.762Z"
   },
   {
    "cell": {
     "executionCount": 14,
     "executionEventId": "ac82c594-c075-4496-9ca5-e95d383278a4",
     "hasError": false,
     "id": "d12cb01d-765e-4c45-bff8-101405b02913",
     "outputs": [],
     "persistentId": "6f4252e8-b36d-4b4f-a31a-9e26540e5d34",
     "text": "def implicit():\n    from google.cloud import storage\n\n    # If you don't specify credentials when constructing the client, the\n    # client library will look for credentials in the environment.\n    storage_client = storage.Client()\n\n    # Make an authenticated API request\n    buckets = list(storage_client.list_buckets())\n    print(buckets)"
    },
    "executionTime": "2020-05-19T11:22:41.024Z"
   },
   {
    "cell": {
     "executionCount": 15,
     "executionEventId": "6f9c84c5-5741-461d-b04e-c52d5e99a395",
     "hasError": true,
     "id": "bf2ccbeb-ac06-4f1a-9212-cadf129420b4",
     "outputs": [
      {
       "ename": "DefaultCredentialsError",
       "evalue": "Could not automatically determine credentials. Please set GOOGLE_APPLICATION_CREDENTIALS or explicitly create credentials and re-run the application. For more information, please see https://cloud.google.com/docs/authentication/getting-started",
       "output_type": "error",
       "traceback": [
        "\u001b[1;31m---------------------------------------------------------------------------\u001b[0m",
        "\u001b[1;31mDefaultCredentialsError\u001b[0m                   Traceback (most recent call last)",
        "\u001b[1;32m<ipython-input-15-cd1d04c9069e>\u001b[0m in \u001b[0;36m<module>\u001b[1;34m\u001b[0m\n\u001b[1;32m----> 1\u001b[1;33m \u001b[0mclient\u001b[0m \u001b[1;33m=\u001b[0m \u001b[0mvision\u001b[0m\u001b[1;33m.\u001b[0m\u001b[0mImageAnnotatorClient\u001b[0m\u001b[1;33m(\u001b[0m\u001b[1;33m)\u001b[0m\u001b[1;33m\u001b[0m\u001b[1;33m\u001b[0m\u001b[0m\n\u001b[0m",
        "\u001b[1;32m~\\Anaconda3\\ANACONDA\\lib\\site-packages\\google\\cloud\\vision_v1\\gapic\\image_annotator_client.py\u001b[0m in \u001b[0;36m__init__\u001b[1;34m(self, transport, channel, credentials, client_config, client_info, client_options)\u001b[0m\n\u001b[0;32m    163\u001b[0m         \u001b[1;32melse\u001b[0m\u001b[1;33m:\u001b[0m\u001b[1;33m\u001b[0m\u001b[1;33m\u001b[0m\u001b[0m\n\u001b[0;32m    164\u001b[0m             self.transport = image_annotator_grpc_transport.ImageAnnotatorGrpcTransport(\n\u001b[1;32m--> 165\u001b[1;33m                 \u001b[0maddress\u001b[0m\u001b[1;33m=\u001b[0m\u001b[0mapi_endpoint\u001b[0m\u001b[1;33m,\u001b[0m \u001b[0mchannel\u001b[0m\u001b[1;33m=\u001b[0m\u001b[0mchannel\u001b[0m\u001b[1;33m,\u001b[0m \u001b[0mcredentials\u001b[0m\u001b[1;33m=\u001b[0m\u001b[0mcredentials\u001b[0m\u001b[1;33m\u001b[0m\u001b[1;33m\u001b[0m\u001b[0m\n\u001b[0m\u001b[0;32m    166\u001b[0m             )\n\u001b[0;32m    167\u001b[0m \u001b[1;33m\u001b[0m\u001b[0m\n",
        "\u001b[1;32m~\\Anaconda3\\ANACONDA\\lib\\site-packages\\google\\cloud\\vision_v1\\gapic\\transports\\image_annotator_grpc_transport.py\u001b[0m in \u001b[0;36m__init__\u001b[1;34m(self, channel, credentials, address)\u001b[0m\n\u001b[0;32m     68\u001b[0m                 options={\n\u001b[0;32m     69\u001b[0m                     \u001b[1;34m\"grpc.max_send_message_length\"\u001b[0m\u001b[1;33m:\u001b[0m \u001b[1;33m-\u001b[0m\u001b[1;36m1\u001b[0m\u001b[1;33m,\u001b[0m\u001b[1;33m\u001b[0m\u001b[1;33m\u001b[0m\u001b[0m\n\u001b[1;32m---> 70\u001b[1;33m                     \u001b[1;34m\"grpc.max_receive_message_length\"\u001b[0m\u001b[1;33m:\u001b[0m \u001b[1;33m-\u001b[0m\u001b[1;36m1\u001b[0m\u001b[1;33m,\u001b[0m\u001b[1;33m\u001b[0m\u001b[1;33m\u001b[0m\u001b[0m\n\u001b[0m\u001b[0;32m     71\u001b[0m                 }.items(),\n\u001b[0;32m     72\u001b[0m             )\n",
        "\u001b[1;32m~\\Anaconda3\\ANACONDA\\lib\\site-packages\\google\\cloud\\vision_v1\\gapic\\transports\\image_annotator_grpc_transport.py\u001b[0m in \u001b[0;36mcreate_channel\u001b[1;34m(cls, address, credentials, **kwargs)\u001b[0m\n\u001b[0;32m    107\u001b[0m         \"\"\"\n\u001b[0;32m    108\u001b[0m         return google.api_core.grpc_helpers.create_channel(\n\u001b[1;32m--> 109\u001b[1;33m             \u001b[0maddress\u001b[0m\u001b[1;33m,\u001b[0m \u001b[0mcredentials\u001b[0m\u001b[1;33m=\u001b[0m\u001b[0mcredentials\u001b[0m\u001b[1;33m,\u001b[0m \u001b[0mscopes\u001b[0m\u001b[1;33m=\u001b[0m\u001b[0mcls\u001b[0m\u001b[1;33m.\u001b[0m\u001b[0m_OAUTH_SCOPES\u001b[0m\u001b[1;33m,\u001b[0m \u001b[1;33m**\u001b[0m\u001b[0mkwargs\u001b[0m\u001b[1;33m\u001b[0m\u001b[1;33m\u001b[0m\u001b[0m\n\u001b[0m\u001b[0;32m    110\u001b[0m         )\n\u001b[0;32m    111\u001b[0m \u001b[1;33m\u001b[0m\u001b[0m\n",
        "\u001b[1;32m~\\Anaconda3\\ANACONDA\\lib\\site-packages\\google\\api_core\\grpc_helpers.py\u001b[0m in \u001b[0;36mcreate_channel\u001b[1;34m(target, credentials, scopes, ssl_credentials, **kwargs)\u001b[0m\n\u001b[0;32m    193\u001b[0m     \"\"\"\n\u001b[0;32m    194\u001b[0m     \u001b[1;32mif\u001b[0m \u001b[0mcredentials\u001b[0m \u001b[1;32mis\u001b[0m \u001b[1;32mNone\u001b[0m\u001b[1;33m:\u001b[0m\u001b[1;33m\u001b[0m\u001b[1;33m\u001b[0m\u001b[0m\n\u001b[1;32m--> 195\u001b[1;33m         \u001b[0mcredentials\u001b[0m\u001b[1;33m,\u001b[0m \u001b[0m_\u001b[0m \u001b[1;33m=\u001b[0m \u001b[0mgoogle\u001b[0m\u001b[1;33m.\u001b[0m\u001b[0mauth\u001b[0m\u001b[1;33m.\u001b[0m\u001b[0mdefault\u001b[0m\u001b[1;33m(\u001b[0m\u001b[0mscopes\u001b[0m\u001b[1;33m=\u001b[0m\u001b[0mscopes\u001b[0m\u001b[1;33m)\u001b[0m\u001b[1;33m\u001b[0m\u001b[1;33m\u001b[0m\u001b[0m\n\u001b[0m\u001b[0;32m    196\u001b[0m     \u001b[1;32melse\u001b[0m\u001b[1;33m:\u001b[0m\u001b[1;33m\u001b[0m\u001b[1;33m\u001b[0m\u001b[0m\n\u001b[0;32m    197\u001b[0m         credentials = google.auth.credentials.with_scopes_if_required(\n",
        "\u001b[1;32m~\\Anaconda3\\ANACONDA\\lib\\site-packages\\google\\auth\\_default.py\u001b[0m in \u001b[0;36mdefault\u001b[1;34m(scopes, request)\u001b[0m\n\u001b[0;32m    319\u001b[0m             \u001b[1;32mreturn\u001b[0m \u001b[0mcredentials\u001b[0m\u001b[1;33m,\u001b[0m \u001b[0meffective_project_id\u001b[0m\u001b[1;33m\u001b[0m\u001b[1;33m\u001b[0m\u001b[0m\n\u001b[0;32m    320\u001b[0m \u001b[1;33m\u001b[0m\u001b[0m\n\u001b[1;32m--> 321\u001b[1;33m     \u001b[1;32mraise\u001b[0m \u001b[0mexceptions\u001b[0m\u001b[1;33m.\u001b[0m\u001b[0mDefaultCredentialsError\u001b[0m\u001b[1;33m(\u001b[0m\u001b[0m_HELP_MESSAGE\u001b[0m\u001b[1;33m)\u001b[0m\u001b[1;33m\u001b[0m\u001b[1;33m\u001b[0m\u001b[0m\n\u001b[0m",
        "\u001b[1;31mDefaultCredentialsError\u001b[0m: Could not automatically determine credentials. Please set GOOGLE_APPLICATION_CREDENTIALS or explicitly create credentials and re-run the application. For more information, please see https://cloud.google.com/docs/authentication/getting-started"
       ]
      }
     ],
     "persistentId": "8633bdfc-fd0b-4aa1-a5ca-741999c342ce",
     "text": "client = vision.ImageAnnotatorClient()"
    },
    "executionTime": "2020-05-19T11:22:42.933Z"
   },
   {
    "cell": {
     "executionCount": 16,
     "executionEventId": "0ab80716-3d9d-4e8e-986e-370b29814287",
     "hasError": true,
     "id": "ac163ff6-77b4-4779-8e61-39f87afc421b",
     "outputs": [
      {
       "ename": "DefaultCredentialsError",
       "evalue": "Could not automatically determine credentials. Please set GOOGLE_APPLICATION_CREDENTIALS or explicitly create credentials and re-run the application. For more information, please see https://cloud.google.com/docs/authentication/getting-started",
       "output_type": "error",
       "traceback": [
        "\u001b[1;31m---------------------------------------------------------------------------\u001b[0m",
        "\u001b[1;31mDefaultCredentialsError\u001b[0m                   Traceback (most recent call last)",
        "\u001b[1;32m<ipython-input-16-5d59b973f173>\u001b[0m in \u001b[0;36m<module>\u001b[1;34m\u001b[0m\n\u001b[0;32m      3\u001b[0m \u001b[1;33m\u001b[0m\u001b[0m\n\u001b[0;32m      4\u001b[0m \u001b[1;31m# Instantiates a client\u001b[0m\u001b[1;33m\u001b[0m\u001b[1;33m\u001b[0m\u001b[1;33m\u001b[0m\u001b[0m\n\u001b[1;32m----> 5\u001b[1;33m \u001b[0mstorage_client\u001b[0m \u001b[1;33m=\u001b[0m \u001b[0mstorage\u001b[0m\u001b[1;33m.\u001b[0m\u001b[0mClient\u001b[0m\u001b[1;33m(\u001b[0m\u001b[1;33m)\u001b[0m\u001b[1;33m\u001b[0m\u001b[1;33m\u001b[0m\u001b[0m\n\u001b[0m\u001b[0;32m      6\u001b[0m \u001b[1;33m\u001b[0m\u001b[0m\n\u001b[0;32m      7\u001b[0m \u001b[1;31m# The name for the new bucket\u001b[0m\u001b[1;33m\u001b[0m\u001b[1;33m\u001b[0m\u001b[1;33m\u001b[0m\u001b[0m\n",
        "\u001b[1;32m~\\Anaconda3\\ANACONDA\\lib\\site-packages\\google\\cloud\\storage\\client.py\u001b[0m in \u001b[0;36m__init__\u001b[1;34m(self, project, credentials, _http, client_info, client_options)\u001b[0m\n\u001b[0;32m    108\u001b[0m             \u001b[0mproject\u001b[0m \u001b[1;33m=\u001b[0m \u001b[1;32mNone\u001b[0m\u001b[1;33m\u001b[0m\u001b[1;33m\u001b[0m\u001b[0m\n\u001b[0;32m    109\u001b[0m         super(Client, self).__init__(\n\u001b[1;32m--> 110\u001b[1;33m             \u001b[0mproject\u001b[0m\u001b[1;33m=\u001b[0m\u001b[0mproject\u001b[0m\u001b[1;33m,\u001b[0m \u001b[0mcredentials\u001b[0m\u001b[1;33m=\u001b[0m\u001b[0mcredentials\u001b[0m\u001b[1;33m,\u001b[0m \u001b[0m_http\u001b[0m\u001b[1;33m=\u001b[0m\u001b[0m_http\u001b[0m\u001b[1;33m\u001b[0m\u001b[1;33m\u001b[0m\u001b[0m\n\u001b[0m\u001b[0;32m    111\u001b[0m         )\n\u001b[0;32m    112\u001b[0m \u001b[1;33m\u001b[0m\u001b[0m\n",
        "\u001b[1;32m~\\Anaconda3\\ANACONDA\\lib\\site-packages\\google\\cloud\\client.py\u001b[0m in \u001b[0;36m__init__\u001b[1;34m(self, project, credentials, _http)\u001b[0m\n\u001b[0;32m    224\u001b[0m \u001b[1;33m\u001b[0m\u001b[0m\n\u001b[0;32m    225\u001b[0m     \u001b[1;32mdef\u001b[0m \u001b[0m__init__\u001b[0m\u001b[1;33m(\u001b[0m\u001b[0mself\u001b[0m\u001b[1;33m,\u001b[0m \u001b[0mproject\u001b[0m\u001b[1;33m=\u001b[0m\u001b[1;32mNone\u001b[0m\u001b[1;33m,\u001b[0m \u001b[0mcredentials\u001b[0m\u001b[1;33m=\u001b[0m\u001b[1;32mNone\u001b[0m\u001b[1;33m,\u001b[0m \u001b[0m_http\u001b[0m\u001b[1;33m=\u001b[0m\u001b[1;32mNone\u001b[0m\u001b[1;33m)\u001b[0m\u001b[1;33m:\u001b[0m\u001b[1;33m\u001b[0m\u001b[1;33m\u001b[0m\u001b[0m\n\u001b[1;32m--> 226\u001b[1;33m         \u001b[0m_ClientProjectMixin\u001b[0m\u001b[1;33m.\u001b[0m\u001b[0m__init__\u001b[0m\u001b[1;33m(\u001b[0m\u001b[0mself\u001b[0m\u001b[1;33m,\u001b[0m \u001b[0mproject\u001b[0m\u001b[1;33m=\u001b[0m\u001b[0mproject\u001b[0m\u001b[1;33m)\u001b[0m\u001b[1;33m\u001b[0m\u001b[1;33m\u001b[0m\u001b[0m\n\u001b[0m\u001b[0;32m    227\u001b[0m         \u001b[0mClient\u001b[0m\u001b[1;33m.\u001b[0m\u001b[0m__init__\u001b[0m\u001b[1;33m(\u001b[0m\u001b[0mself\u001b[0m\u001b[1;33m,\u001b[0m \u001b[0mcredentials\u001b[0m\u001b[1;33m=\u001b[0m\u001b[0mcredentials\u001b[0m\u001b[1;33m,\u001b[0m \u001b[0m_http\u001b[0m\u001b[1;33m=\u001b[0m\u001b[0m_http\u001b[0m\u001b[1;33m)\u001b[0m\u001b[1;33m\u001b[0m\u001b[1;33m\u001b[0m\u001b[0m\n",
        "\u001b[1;32m~\\Anaconda3\\ANACONDA\\lib\\site-packages\\google\\cloud\\client.py\u001b[0m in \u001b[0;36m__init__\u001b[1;34m(self, project)\u001b[0m\n\u001b[0;32m    176\u001b[0m \u001b[1;33m\u001b[0m\u001b[0m\n\u001b[0;32m    177\u001b[0m     \u001b[1;32mdef\u001b[0m \u001b[0m__init__\u001b[0m\u001b[1;33m(\u001b[0m\u001b[0mself\u001b[0m\u001b[1;33m,\u001b[0m \u001b[0mproject\u001b[0m\u001b[1;33m=\u001b[0m\u001b[1;32mNone\u001b[0m\u001b[1;33m)\u001b[0m\u001b[1;33m:\u001b[0m\u001b[1;33m\u001b[0m\u001b[1;33m\u001b[0m\u001b[0m\n\u001b[1;32m--> 178\u001b[1;33m         \u001b[0mproject\u001b[0m \u001b[1;33m=\u001b[0m \u001b[0mself\u001b[0m\u001b[1;33m.\u001b[0m\u001b[0m_determine_default\u001b[0m\u001b[1;33m(\u001b[0m\u001b[0mproject\u001b[0m\u001b[1;33m)\u001b[0m\u001b[1;33m\u001b[0m\u001b[1;33m\u001b[0m\u001b[0m\n\u001b[0m\u001b[0;32m    179\u001b[0m         \u001b[1;32mif\u001b[0m \u001b[0mproject\u001b[0m \u001b[1;32mis\u001b[0m \u001b[1;32mNone\u001b[0m\u001b[1;33m:\u001b[0m\u001b[1;33m\u001b[0m\u001b[1;33m\u001b[0m\u001b[0m\n\u001b[0;32m    180\u001b[0m             raise EnvironmentError(\n",
        "\u001b[1;32m~\\Anaconda3\\ANACONDA\\lib\\site-packages\\google\\cloud\\client.py\u001b[0m in \u001b[0;36m_determine_default\u001b[1;34m(project)\u001b[0m\n\u001b[0;32m    191\u001b[0m     \u001b[1;32mdef\u001b[0m \u001b[0m_determine_default\u001b[0m\u001b[1;33m(\u001b[0m\u001b[0mproject\u001b[0m\u001b[1;33m)\u001b[0m\u001b[1;33m:\u001b[0m\u001b[1;33m\u001b[0m\u001b[1;33m\u001b[0m\u001b[0m\n\u001b[0;32m    192\u001b[0m         \u001b[1;34m\"\"\"Helper:  use default project detection.\"\"\"\u001b[0m\u001b[1;33m\u001b[0m\u001b[1;33m\u001b[0m\u001b[0m\n\u001b[1;32m--> 193\u001b[1;33m         \u001b[1;32mreturn\u001b[0m \u001b[0m_determine_default_project\u001b[0m\u001b[1;33m(\u001b[0m\u001b[0mproject\u001b[0m\u001b[1;33m)\u001b[0m\u001b[1;33m\u001b[0m\u001b[1;33m\u001b[0m\u001b[0m\n\u001b[0m\u001b[0;32m    194\u001b[0m \u001b[1;33m\u001b[0m\u001b[0m\n\u001b[0;32m    195\u001b[0m \u001b[1;33m\u001b[0m\u001b[0m\n",
        "\u001b[1;32m~\\Anaconda3\\ANACONDA\\lib\\site-packages\\google\\cloud\\_helpers.py\u001b[0m in \u001b[0;36m_determine_default_project\u001b[1;34m(project)\u001b[0m\n\u001b[0;32m    184\u001b[0m     \"\"\"\n\u001b[0;32m    185\u001b[0m     \u001b[1;32mif\u001b[0m \u001b[0mproject\u001b[0m \u001b[1;32mis\u001b[0m \u001b[1;32mNone\u001b[0m\u001b[1;33m:\u001b[0m\u001b[1;33m\u001b[0m\u001b[1;33m\u001b[0m\u001b[0m\n\u001b[1;32m--> 186\u001b[1;33m         \u001b[0m_\u001b[0m\u001b[1;33m,\u001b[0m \u001b[0mproject\u001b[0m \u001b[1;33m=\u001b[0m \u001b[0mgoogle\u001b[0m\u001b[1;33m.\u001b[0m\u001b[0mauth\u001b[0m\u001b[1;33m.\u001b[0m\u001b[0mdefault\u001b[0m\u001b[1;33m(\u001b[0m\u001b[1;33m)\u001b[0m\u001b[1;33m\u001b[0m\u001b[1;33m\u001b[0m\u001b[0m\n\u001b[0m\u001b[0;32m    187\u001b[0m     \u001b[1;32mreturn\u001b[0m \u001b[0mproject\u001b[0m\u001b[1;33m\u001b[0m\u001b[1;33m\u001b[0m\u001b[0m\n\u001b[0;32m    188\u001b[0m \u001b[1;33m\u001b[0m\u001b[0m\n",
        "\u001b[1;32m~\\Anaconda3\\ANACONDA\\lib\\site-packages\\google\\auth\\_default.py\u001b[0m in \u001b[0;36mdefault\u001b[1;34m(scopes, request)\u001b[0m\n\u001b[0;32m    319\u001b[0m             \u001b[1;32mreturn\u001b[0m \u001b[0mcredentials\u001b[0m\u001b[1;33m,\u001b[0m \u001b[0meffective_project_id\u001b[0m\u001b[1;33m\u001b[0m\u001b[1;33m\u001b[0m\u001b[0m\n\u001b[0;32m    320\u001b[0m \u001b[1;33m\u001b[0m\u001b[0m\n\u001b[1;32m--> 321\u001b[1;33m     \u001b[1;32mraise\u001b[0m \u001b[0mexceptions\u001b[0m\u001b[1;33m.\u001b[0m\u001b[0mDefaultCredentialsError\u001b[0m\u001b[1;33m(\u001b[0m\u001b[0m_HELP_MESSAGE\u001b[0m\u001b[1;33m)\u001b[0m\u001b[1;33m\u001b[0m\u001b[1;33m\u001b[0m\u001b[0m\n\u001b[0m",
        "\u001b[1;31mDefaultCredentialsError\u001b[0m: Could not automatically determine credentials. Please set GOOGLE_APPLICATION_CREDENTIALS or explicitly create credentials and re-run the application. For more information, please see https://cloud.google.com/docs/authentication/getting-started"
       ]
      }
     ],
     "persistentId": "e34d6b9d-093f-4a65-b666-d4ff6d2e9c4f",
     "text": "# Imports the Google Cloud client library\nfrom google.cloud import storage\n\n# Instantiates a client\nstorage_client = storage.Client()\n\n# The name for the new bucket\nbucket_name = \"my-new-bucket\"\n\n# Creates the new bucket\nbucket = storage_client.create_bucket(bucket_name)\n\nprint(\"Bucket {} created.\".format(bucket.name))"
    },
    "executionTime": "2020-05-19T11:23:40.211Z"
   },
   {
    "cell": {
     "executionCount": 17,
     "executionEventId": "507b7fa7-b6e7-4f00-929c-e1dd4e04d5d8",
     "hasError": false,
     "id": "4129ab61-699e-4e57-a7b5-f0be5cf91d85",
     "outputs": [],
     "persistentId": "26f84688-f942-4c6d-afdd-d56b766555f6",
     "text": "import os\nos.environ[\"GOOGLE_APPLICATION_CREDENTIALS\"]=\"client_secrets.json\""
    },
    "executionTime": "2020-05-19T11:29:59.968Z"
   },
   {
    "cell": {
     "executionCount": 18,
     "executionEventId": "3b1bcc1d-8777-49b9-98d3-5639cd79b233",
     "hasError": false,
     "id": "c2faa254-08ab-49f5-b7a2-4992f4ecae45",
     "outputs": [],
     "persistentId": "8633bdfc-fd0b-4aa1-a5ca-741999c342ce",
     "text": "client = vision.ImageAnnotatorClient()"
    },
    "executionTime": "2020-05-19T11:30:06.500Z"
   },
   {
    "cell": {
     "executionCount": 19,
     "executionEventId": "c29755b2-ead4-4867-8784-077a3eaa3e2f",
     "hasError": true,
     "id": "a2b4f387-33aa-47b5-bea5-d4f301769988",
     "outputs": [
      {
       "ename": "FileNotFoundError",
       "evalue": "[Errno 2] No such file or directory: 'Image.jpg'",
       "output_type": "error",
       "traceback": [
        "\u001b[1;31m---------------------------------------------------------------------------\u001b[0m",
        "\u001b[1;31mFileNotFoundError\u001b[0m                         Traceback (most recent call last)",
        "\u001b[1;32m<ipython-input-19-f3c1696efc43>\u001b[0m in \u001b[0;36m<module>\u001b[1;34m\u001b[0m\n\u001b[0;32m      2\u001b[0m \u001b[1;33m\u001b[0m\u001b[0m\n\u001b[0;32m      3\u001b[0m \u001b[0mpath\u001b[0m \u001b[1;33m=\u001b[0m \u001b[1;34m'Image.jpg'\u001b[0m\u001b[1;33m\u001b[0m\u001b[1;33m\u001b[0m\u001b[0m\n\u001b[1;32m----> 4\u001b[1;33m \u001b[1;32mwith\u001b[0m \u001b[0mio\u001b[0m\u001b[1;33m.\u001b[0m\u001b[0mopen\u001b[0m\u001b[1;33m(\u001b[0m\u001b[0mpath\u001b[0m\u001b[1;33m,\u001b[0m \u001b[1;34m'rb'\u001b[0m\u001b[1;33m)\u001b[0m \u001b[1;32mas\u001b[0m \u001b[0mimage_file\u001b[0m\u001b[1;33m:\u001b[0m\u001b[1;33m\u001b[0m\u001b[1;33m\u001b[0m\u001b[0m\n\u001b[0m\u001b[0;32m      5\u001b[0m         \u001b[0mcontent\u001b[0m \u001b[1;33m=\u001b[0m \u001b[0mimage_file\u001b[0m\u001b[1;33m.\u001b[0m\u001b[0mread\u001b[0m\u001b[1;33m(\u001b[0m\u001b[1;33m)\u001b[0m\u001b[1;33m\u001b[0m\u001b[1;33m\u001b[0m\u001b[0m\n",
        "\u001b[1;31mFileNotFoundError\u001b[0m: [Errno 2] No such file or directory: 'Image.jpg'"
       ]
      }
     ],
     "persistentId": "c280b96a-e28d-4504-8fbe-7572c7edf604",
     "text": "import io\n\npath = 'Image.jpg'\nwith io.open(path, 'rb') as image_file:\n        content = image_file.read()"
    },
    "executionTime": "2020-05-19T11:31:29.730Z"
   },
   {
    "cell": {
     "executionCount": 20,
     "executionEventId": "eab4b260-7f23-4930-88fe-6ae08f644441",
     "hasError": false,
     "id": "a2b4f387-33aa-47b5-bea5-d4f301769988",
     "outputs": [],
     "persistentId": "c280b96a-e28d-4504-8fbe-7572c7edf604",
     "text": "import io\n\npath = 'Image.jpeg'\nwith io.open(path, 'rb') as image_file:\n        content = image_file.read()"
    },
    "executionTime": "2020-05-19T11:31:34.046Z"
   },
   {
    "cell": {
     "executionCount": 21,
     "executionEventId": "5b184f64-5d5a-4109-bffc-232780abc3e8",
     "hasError": false,
     "id": "4730bb59-3a1c-4fc7-b59a-edc8a3226ef3",
     "outputs": [],
     "persistentId": "cad0125f-8090-4672-a6e8-a64b49722d66",
     "text": "image = vision.types.Image(content=content)"
    },
    "executionTime": "2020-05-19T11:31:47.562Z"
   },
   {
    "cell": {
     "executionCount": 22,
     "executionEventId": "6664400b-6580-49a8-803d-d6ad8731cb83",
     "hasError": true,
     "id": "a490037b-a251-4486-9324-30a43f00eee7",
     "outputs": [
      {
       "ename": "PermissionDenied",
       "evalue": "403 Cloud Vision API has not been used in project 709471531819 before or it is disabled. Enable it by visiting https://console.developers.google.com/apis/api/vision.googleapis.com/overview?project=709471531819 then retry. If you enabled this API recently, wait a few minutes for the action to propagate to our systems and retry.",
       "output_type": "error",
       "traceback": [
        "\u001b[1;31m---------------------------------------------------------------------------\u001b[0m",
        "\u001b[1;31m_InactiveRpcError\u001b[0m                         Traceback (most recent call last)",
        "\u001b[1;32m~\\Anaconda3\\ANACONDA\\lib\\site-packages\\google\\api_core\\grpc_helpers.py\u001b[0m in \u001b[0;36merror_remapped_callable\u001b[1;34m(*args, **kwargs)\u001b[0m\n\u001b[0;32m     56\u001b[0m         \u001b[1;32mtry\u001b[0m\u001b[1;33m:\u001b[0m\u001b[1;33m\u001b[0m\u001b[1;33m\u001b[0m\u001b[0m\n\u001b[1;32m---> 57\u001b[1;33m             \u001b[1;32mreturn\u001b[0m \u001b[0mcallable_\u001b[0m\u001b[1;33m(\u001b[0m\u001b[1;33m*\u001b[0m\u001b[0margs\u001b[0m\u001b[1;33m,\u001b[0m \u001b[1;33m**\u001b[0m\u001b[0mkwargs\u001b[0m\u001b[1;33m)\u001b[0m\u001b[1;33m\u001b[0m\u001b[1;33m\u001b[0m\u001b[0m\n\u001b[0m\u001b[0;32m     58\u001b[0m         \u001b[1;32mexcept\u001b[0m \u001b[0mgrpc\u001b[0m\u001b[1;33m.\u001b[0m\u001b[0mRpcError\u001b[0m \u001b[1;32mas\u001b[0m \u001b[0mexc\u001b[0m\u001b[1;33m:\u001b[0m\u001b[1;33m\u001b[0m\u001b[1;33m\u001b[0m\u001b[0m\n",
        "\u001b[1;32m~\\Anaconda3\\ANACONDA\\lib\\site-packages\\grpc\\_channel.py\u001b[0m in \u001b[0;36m__call__\u001b[1;34m(self, request, timeout, metadata, credentials, wait_for_ready, compression)\u001b[0m\n\u001b[0;32m    823\u001b[0m                                       wait_for_ready, compression)\n\u001b[1;32m--> 824\u001b[1;33m         \u001b[1;32mreturn\u001b[0m \u001b[0m_end_unary_response_blocking\u001b[0m\u001b[1;33m(\u001b[0m\u001b[0mstate\u001b[0m\u001b[1;33m,\u001b[0m \u001b[0mcall\u001b[0m\u001b[1;33m,\u001b[0m \u001b[1;32mFalse\u001b[0m\u001b[1;33m,\u001b[0m \u001b[1;32mNone\u001b[0m\u001b[1;33m)\u001b[0m\u001b[1;33m\u001b[0m\u001b[1;33m\u001b[0m\u001b[0m\n\u001b[0m\u001b[0;32m    825\u001b[0m \u001b[1;33m\u001b[0m\u001b[0m\n",
        "\u001b[1;32m~\\Anaconda3\\ANACONDA\\lib\\site-packages\\grpc\\_channel.py\u001b[0m in \u001b[0;36m_end_unary_response_blocking\u001b[1;34m(state, call, with_call, deadline)\u001b[0m\n\u001b[0;32m    725\u001b[0m     \u001b[1;32melse\u001b[0m\u001b[1;33m:\u001b[0m\u001b[1;33m\u001b[0m\u001b[1;33m\u001b[0m\u001b[0m\n\u001b[1;32m--> 726\u001b[1;33m         \u001b[1;32mraise\u001b[0m \u001b[0m_InactiveRpcError\u001b[0m\u001b[1;33m(\u001b[0m\u001b[0mstate\u001b[0m\u001b[1;33m)\u001b[0m\u001b[1;33m\u001b[0m\u001b[1;33m\u001b[0m\u001b[0m\n\u001b[0m\u001b[0;32m    727\u001b[0m \u001b[1;33m\u001b[0m\u001b[0m\n",
        "\u001b[1;31m_InactiveRpcError\u001b[0m: <_InactiveRpcError of RPC that terminated with:\n\tstatus = StatusCode.PERMISSION_DENIED\n\tdetails = \"Cloud Vision API has not been used in project 709471531819 before or it is disabled. Enable it by visiting https://console.developers.google.com/apis/api/vision.googleapis.com/overview?project=709471531819 then retry. If you enabled this API recently, wait a few minutes for the action to propagate to our systems and retry.\"\n\tdebug_error_string = \"{\"created\":\"@1589887923.645000000\",\"description\":\"Error received from peer ipv4:172.217.17.106:443\",\"file\":\"src/core/lib/surface/call.cc\",\"file_line\":1056,\"grpc_message\":\"Cloud Vision API has not been used in project 709471531819 before or it is disabled. Enable it by visiting https://console.developers.google.com/apis/api/vision.googleapis.com/overview?project=709471531819 then retry. If you enabled this API recently, wait a few minutes for the action to propagate to our systems and retry.\",\"grpc_status\":7}\"\n>",
        "\nThe above exception was the direct cause of the following exception:\n",
        "\u001b[1;31mPermissionDenied\u001b[0m                          Traceback (most recent call last)",
        "\u001b[1;32m<ipython-input-22-478adb9582eb>\u001b[0m in \u001b[0;36m<module>\u001b[1;34m\u001b[0m\n\u001b[1;32m----> 1\u001b[1;33m \u001b[0mresponse\u001b[0m \u001b[1;33m=\u001b[0m \u001b[0mclient\u001b[0m\u001b[1;33m.\u001b[0m\u001b[0mimage_properties\u001b[0m\u001b[1;33m(\u001b[0m\u001b[0mimage\u001b[0m\u001b[1;33m=\u001b[0m\u001b[0mimage\u001b[0m\u001b[1;33m)\u001b[0m\u001b[1;33m\u001b[0m\u001b[1;33m\u001b[0m\u001b[0m\n\u001b[0m\u001b[0;32m      2\u001b[0m \u001b[0mprops\u001b[0m \u001b[1;33m=\u001b[0m \u001b[0mresponse\u001b[0m\u001b[1;33m.\u001b[0m\u001b[0mimage_properties_annotation\u001b[0m\u001b[1;33m\u001b[0m\u001b[1;33m\u001b[0m\u001b[0m\n\u001b[0;32m      3\u001b[0m \u001b[0mprint\u001b[0m\u001b[1;33m(\u001b[0m\u001b[1;34m'Properties of the image:'\u001b[0m\u001b[1;33m)\u001b[0m\u001b[1;33m\u001b[0m\u001b[1;33m\u001b[0m\u001b[0m\n\u001b[0;32m      4\u001b[0m \u001b[1;33m\u001b[0m\u001b[0m\n\u001b[0;32m      5\u001b[0m \u001b[1;32mfor\u001b[0m \u001b[0mcolor\u001b[0m \u001b[1;32min\u001b[0m \u001b[0mprops\u001b[0m\u001b[1;33m.\u001b[0m\u001b[0mdominant_colors\u001b[0m\u001b[1;33m.\u001b[0m\u001b[0mcolors\u001b[0m\u001b[1;33m:\u001b[0m\u001b[1;33m\u001b[0m\u001b[1;33m\u001b[0m\u001b[0m\n",
        "\u001b[1;32m~\\Anaconda3\\ANACONDA\\lib\\site-packages\\google\\cloud\\vision_helpers\\decorators.py\u001b[0m in \u001b[0;36minner\u001b[1;34m(self, image, max_results, retry, timeout, **kwargs)\u001b[0m\n\u001b[0;32m     99\u001b[0m             \u001b[0mcopied_features\u001b[0m\u001b[1;33m[\u001b[0m\u001b[1;34m\"max_results\"\u001b[0m\u001b[1;33m]\u001b[0m \u001b[1;33m=\u001b[0m \u001b[0mmax_results\u001b[0m\u001b[1;33m\u001b[0m\u001b[1;33m\u001b[0m\u001b[0m\n\u001b[0;32m    100\u001b[0m         \u001b[0mrequest\u001b[0m \u001b[1;33m=\u001b[0m \u001b[0mdict\u001b[0m\u001b[1;33m(\u001b[0m\u001b[0mimage\u001b[0m\u001b[1;33m=\u001b[0m\u001b[0mimage\u001b[0m\u001b[1;33m,\u001b[0m \u001b[0mfeatures\u001b[0m\u001b[1;33m=\u001b[0m\u001b[1;33m[\u001b[0m\u001b[0mcopied_features\u001b[0m\u001b[1;33m]\u001b[0m\u001b[1;33m,\u001b[0m \u001b[1;33m**\u001b[0m\u001b[0mkwargs\u001b[0m\u001b[1;33m)\u001b[0m\u001b[1;33m\u001b[0m\u001b[1;33m\u001b[0m\u001b[0m\n\u001b[1;32m--> 101\u001b[1;33m         \u001b[0mresponse\u001b[0m \u001b[1;33m=\u001b[0m \u001b[0mself\u001b[0m\u001b[1;33m.\u001b[0m\u001b[0mannotate_image\u001b[0m\u001b[1;33m(\u001b[0m\u001b[0mrequest\u001b[0m\u001b[1;33m,\u001b[0m \u001b[0mretry\u001b[0m\u001b[1;33m=\u001b[0m\u001b[0mretry\u001b[0m\u001b[1;33m,\u001b[0m \u001b[0mtimeout\u001b[0m\u001b[1;33m=\u001b[0m\u001b[0mtimeout\u001b[0m\u001b[1;33m)\u001b[0m\u001b[1;33m\u001b[0m\u001b[1;33m\u001b[0m\u001b[0m\n\u001b[0m\u001b[0;32m    102\u001b[0m         \u001b[1;32mreturn\u001b[0m \u001b[0mresponse\u001b[0m\u001b[1;33m\u001b[0m\u001b[1;33m\u001b[0m\u001b[0m\n\u001b[0;32m    103\u001b[0m \u001b[1;33m\u001b[0m\u001b[0m\n",
        "\u001b[1;32m~\\Anaconda3\\ANACONDA\\lib\\site-packages\\google\\cloud\\vision_helpers\\__init__.py\u001b[0m in \u001b[0;36mannotate_image\u001b[1;34m(self, request, retry, timeout)\u001b[0m\n\u001b[0;32m     70\u001b[0m         \u001b[1;31m# of them.\u001b[0m\u001b[1;33m\u001b[0m\u001b[1;33m\u001b[0m\u001b[1;33m\u001b[0m\u001b[0m\n\u001b[0;32m     71\u001b[0m         \u001b[0mprotobuf\u001b[0m\u001b[1;33m.\u001b[0m\u001b[0msetdefault\u001b[0m\u001b[1;33m(\u001b[0m\u001b[0mrequest\u001b[0m\u001b[1;33m,\u001b[0m \u001b[1;34m\"features\"\u001b[0m\u001b[1;33m,\u001b[0m \u001b[0mself\u001b[0m\u001b[1;33m.\u001b[0m\u001b[0m_get_all_features\u001b[0m\u001b[1;33m(\u001b[0m\u001b[1;33m)\u001b[0m\u001b[1;33m)\u001b[0m\u001b[1;33m\u001b[0m\u001b[1;33m\u001b[0m\u001b[0m\n\u001b[1;32m---> 72\u001b[1;33m         \u001b[0mr\u001b[0m \u001b[1;33m=\u001b[0m \u001b[0mself\u001b[0m\u001b[1;33m.\u001b[0m\u001b[0mbatch_annotate_images\u001b[0m\u001b[1;33m(\u001b[0m\u001b[1;33m[\u001b[0m\u001b[0mrequest\u001b[0m\u001b[1;33m]\u001b[0m\u001b[1;33m,\u001b[0m \u001b[0mretry\u001b[0m\u001b[1;33m=\u001b[0m\u001b[0mretry\u001b[0m\u001b[1;33m,\u001b[0m \u001b[0mtimeout\u001b[0m\u001b[1;33m=\u001b[0m\u001b[0mtimeout\u001b[0m\u001b[1;33m)\u001b[0m\u001b[1;33m\u001b[0m\u001b[1;33m\u001b[0m\u001b[0m\n\u001b[0m\u001b[0;32m     73\u001b[0m         \u001b[1;32mreturn\u001b[0m \u001b[0mr\u001b[0m\u001b[1;33m.\u001b[0m\u001b[0mresponses\u001b[0m\u001b[1;33m[\u001b[0m\u001b[1;36m0\u001b[0m\u001b[1;33m]\u001b[0m\u001b[1;33m\u001b[0m\u001b[1;33m\u001b[0m\u001b[0m\n\u001b[0;32m     74\u001b[0m \u001b[1;33m\u001b[0m\u001b[0m\n",
        "\u001b[1;32m~\\Anaconda3\\ANACONDA\\lib\\site-packages\\google\\cloud\\vision_v1\\gapic\\image_annotator_client.py\u001b[0m in \u001b[0;36mbatch_annotate_images\u001b[1;34m(self, requests, parent, retry, timeout, metadata)\u001b[0m\n\u001b[0;32m    272\u001b[0m \u001b[1;33m\u001b[0m\u001b[0m\n\u001b[0;32m    273\u001b[0m         return self._inner_api_calls[\"batch_annotate_images\"](\n\u001b[1;32m--> 274\u001b[1;33m             \u001b[0mrequest\u001b[0m\u001b[1;33m,\u001b[0m \u001b[0mretry\u001b[0m\u001b[1;33m=\u001b[0m\u001b[0mretry\u001b[0m\u001b[1;33m,\u001b[0m \u001b[0mtimeout\u001b[0m\u001b[1;33m=\u001b[0m\u001b[0mtimeout\u001b[0m\u001b[1;33m,\u001b[0m \u001b[0mmetadata\u001b[0m\u001b[1;33m=\u001b[0m\u001b[0mmetadata\u001b[0m\u001b[1;33m\u001b[0m\u001b[1;33m\u001b[0m\u001b[0m\n\u001b[0m\u001b[0;32m    275\u001b[0m         )\n\u001b[0;32m    276\u001b[0m \u001b[1;33m\u001b[0m\u001b[0m\n",
        "\u001b[1;32m~\\Anaconda3\\ANACONDA\\lib\\site-packages\\google\\api_core\\gapic_v1\\method.py\u001b[0m in \u001b[0;36m__call__\u001b[1;34m(self, *args, **kwargs)\u001b[0m\n\u001b[0;32m    141\u001b[0m             \u001b[0mkwargs\u001b[0m\u001b[1;33m[\u001b[0m\u001b[1;34m\"metadata\"\u001b[0m\u001b[1;33m]\u001b[0m \u001b[1;33m=\u001b[0m \u001b[0mmetadata\u001b[0m\u001b[1;33m\u001b[0m\u001b[1;33m\u001b[0m\u001b[0m\n\u001b[0;32m    142\u001b[0m \u001b[1;33m\u001b[0m\u001b[0m\n\u001b[1;32m--> 143\u001b[1;33m         \u001b[1;32mreturn\u001b[0m \u001b[0mwrapped_func\u001b[0m\u001b[1;33m(\u001b[0m\u001b[1;33m*\u001b[0m\u001b[0margs\u001b[0m\u001b[1;33m,\u001b[0m \u001b[1;33m**\u001b[0m\u001b[0mkwargs\u001b[0m\u001b[1;33m)\u001b[0m\u001b[1;33m\u001b[0m\u001b[1;33m\u001b[0m\u001b[0m\n\u001b[0m\u001b[0;32m    144\u001b[0m \u001b[1;33m\u001b[0m\u001b[0m\n\u001b[0;32m    145\u001b[0m \u001b[1;33m\u001b[0m\u001b[0m\n",
        "\u001b[1;32m~\\Anaconda3\\ANACONDA\\lib\\site-packages\\google\\api_core\\grpc_helpers.py\u001b[0m in \u001b[0;36merror_remapped_callable\u001b[1;34m(*args, **kwargs)\u001b[0m\n\u001b[0;32m     57\u001b[0m             \u001b[1;32mreturn\u001b[0m \u001b[0mcallable_\u001b[0m\u001b[1;33m(\u001b[0m\u001b[1;33m*\u001b[0m\u001b[0margs\u001b[0m\u001b[1;33m,\u001b[0m \u001b[1;33m**\u001b[0m\u001b[0mkwargs\u001b[0m\u001b[1;33m)\u001b[0m\u001b[1;33m\u001b[0m\u001b[1;33m\u001b[0m\u001b[0m\n\u001b[0;32m     58\u001b[0m         \u001b[1;32mexcept\u001b[0m \u001b[0mgrpc\u001b[0m\u001b[1;33m.\u001b[0m\u001b[0mRpcError\u001b[0m \u001b[1;32mas\u001b[0m \u001b[0mexc\u001b[0m\u001b[1;33m:\u001b[0m\u001b[1;33m\u001b[0m\u001b[1;33m\u001b[0m\u001b[0m\n\u001b[1;32m---> 59\u001b[1;33m             \u001b[0msix\u001b[0m\u001b[1;33m.\u001b[0m\u001b[0mraise_from\u001b[0m\u001b[1;33m(\u001b[0m\u001b[0mexceptions\u001b[0m\u001b[1;33m.\u001b[0m\u001b[0mfrom_grpc_error\u001b[0m\u001b[1;33m(\u001b[0m\u001b[0mexc\u001b[0m\u001b[1;33m)\u001b[0m\u001b[1;33m,\u001b[0m \u001b[0mexc\u001b[0m\u001b[1;33m)\u001b[0m\u001b[1;33m\u001b[0m\u001b[1;33m\u001b[0m\u001b[0m\n\u001b[0m\u001b[0;32m     60\u001b[0m \u001b[1;33m\u001b[0m\u001b[0m\n\u001b[0;32m     61\u001b[0m     \u001b[1;32mreturn\u001b[0m \u001b[0merror_remapped_callable\u001b[0m\u001b[1;33m\u001b[0m\u001b[1;33m\u001b[0m\u001b[0m\n",
        "\u001b[1;32m~\\Anaconda3\\ANACONDA\\lib\\site-packages\\six.py\u001b[0m in \u001b[0;36mraise_from\u001b[1;34m(value, from_value)\u001b[0m\n",
        "\u001b[1;31mPermissionDenied\u001b[0m: 403 Cloud Vision API has not been used in project 709471531819 before or it is disabled. Enable it by visiting https://console.developers.google.com/apis/api/vision.googleapis.com/overview?project=709471531819 then retry. If you enabled this API recently, wait a few minutes for the action to propagate to our systems and retry."
       ]
      }
     ],
     "persistentId": "3eb1dd97-e166-40a1-97a7-77a068179b11",
     "text": "response = client.image_properties(image=image)\nprops = response.image_properties_annotation\nprint('Properties of the image:')\n\nfor color in props.dominant_colors.colors:\n    print('Fraction: {}'.format(color.pixel_fraction))\n    print('\\tr: {}'.format(color.color.red))\n    print('\\tg: {}'.format(color.color.green))\n    print('\\tb: {}'.format(color.color.blue))"
    },
    "executionTime": "2020-05-19T11:32:03.696Z"
   },
   {
    "cell": {
     "executionCount": 23,
     "executionEventId": "6c24ba79-34f4-467f-be5c-07ba0987b947",
     "hasError": true,
     "id": "a490037b-a251-4486-9324-30a43f00eee7",
     "outputs": [
      {
       "ename": "PermissionDenied",
       "evalue": "403 This API method requires billing to be enabled. Please enable billing on project #709471531819 by visiting https://console.developers.google.com/billing/enable?project=709471531819 then retry. If you enabled billing for this project recently, wait a few minutes for the action to propagate to our systems and retry.",
       "output_type": "error",
       "traceback": [
        "\u001b[1;31m---------------------------------------------------------------------------\u001b[0m",
        "\u001b[1;31m_InactiveRpcError\u001b[0m                         Traceback (most recent call last)",
        "\u001b[1;32m~\\Anaconda3\\ANACONDA\\lib\\site-packages\\google\\api_core\\grpc_helpers.py\u001b[0m in \u001b[0;36merror_remapped_callable\u001b[1;34m(*args, **kwargs)\u001b[0m\n\u001b[0;32m     56\u001b[0m         \u001b[1;32mtry\u001b[0m\u001b[1;33m:\u001b[0m\u001b[1;33m\u001b[0m\u001b[1;33m\u001b[0m\u001b[0m\n\u001b[1;32m---> 57\u001b[1;33m             \u001b[1;32mreturn\u001b[0m \u001b[0mcallable_\u001b[0m\u001b[1;33m(\u001b[0m\u001b[1;33m*\u001b[0m\u001b[0margs\u001b[0m\u001b[1;33m,\u001b[0m \u001b[1;33m**\u001b[0m\u001b[0mkwargs\u001b[0m\u001b[1;33m)\u001b[0m\u001b[1;33m\u001b[0m\u001b[1;33m\u001b[0m\u001b[0m\n\u001b[0m\u001b[0;32m     58\u001b[0m         \u001b[1;32mexcept\u001b[0m \u001b[0mgrpc\u001b[0m\u001b[1;33m.\u001b[0m\u001b[0mRpcError\u001b[0m \u001b[1;32mas\u001b[0m \u001b[0mexc\u001b[0m\u001b[1;33m:\u001b[0m\u001b[1;33m\u001b[0m\u001b[1;33m\u001b[0m\u001b[0m\n",
        "\u001b[1;32m~\\Anaconda3\\ANACONDA\\lib\\site-packages\\grpc\\_channel.py\u001b[0m in \u001b[0;36m__call__\u001b[1;34m(self, request, timeout, metadata, credentials, wait_for_ready, compression)\u001b[0m\n\u001b[0;32m    823\u001b[0m                                       wait_for_ready, compression)\n\u001b[1;32m--> 824\u001b[1;33m         \u001b[1;32mreturn\u001b[0m \u001b[0m_end_unary_response_blocking\u001b[0m\u001b[1;33m(\u001b[0m\u001b[0mstate\u001b[0m\u001b[1;33m,\u001b[0m \u001b[0mcall\u001b[0m\u001b[1;33m,\u001b[0m \u001b[1;32mFalse\u001b[0m\u001b[1;33m,\u001b[0m \u001b[1;32mNone\u001b[0m\u001b[1;33m)\u001b[0m\u001b[1;33m\u001b[0m\u001b[1;33m\u001b[0m\u001b[0m\n\u001b[0m\u001b[0;32m    825\u001b[0m \u001b[1;33m\u001b[0m\u001b[0m\n",
        "\u001b[1;32m~\\Anaconda3\\ANACONDA\\lib\\site-packages\\grpc\\_channel.py\u001b[0m in \u001b[0;36m_end_unary_response_blocking\u001b[1;34m(state, call, with_call, deadline)\u001b[0m\n\u001b[0;32m    725\u001b[0m     \u001b[1;32melse\u001b[0m\u001b[1;33m:\u001b[0m\u001b[1;33m\u001b[0m\u001b[1;33m\u001b[0m\u001b[0m\n\u001b[1;32m--> 726\u001b[1;33m         \u001b[1;32mraise\u001b[0m \u001b[0m_InactiveRpcError\u001b[0m\u001b[1;33m(\u001b[0m\u001b[0mstate\u001b[0m\u001b[1;33m)\u001b[0m\u001b[1;33m\u001b[0m\u001b[1;33m\u001b[0m\u001b[0m\n\u001b[0m\u001b[0;32m    727\u001b[0m \u001b[1;33m\u001b[0m\u001b[0m\n",
        "\u001b[1;31m_InactiveRpcError\u001b[0m: <_InactiveRpcError of RPC that terminated with:\n\tstatus = StatusCode.PERMISSION_DENIED\n\tdetails = \"This API method requires billing to be enabled. Please enable billing on project #709471531819 by visiting https://console.developers.google.com/billing/enable?project=709471531819 then retry. If you enabled billing for this project recently, wait a few minutes for the action to propagate to our systems and retry.\"\n\tdebug_error_string = \"{\"created\":\"@1589888006.637000000\",\"description\":\"Error received from peer ipv4:172.217.17.106:443\",\"file\":\"src/core/lib/surface/call.cc\",\"file_line\":1056,\"grpc_message\":\"This API method requires billing to be enabled. Please enable billing on project #709471531819 by visiting https://console.developers.google.com/billing/enable?project=709471531819 then retry. If you enabled billing for this project recently, wait a few minutes for the action to propagate to our systems and retry.\",\"grpc_status\":7}\"\n>",
        "\nThe above exception was the direct cause of the following exception:\n",
        "\u001b[1;31mPermissionDenied\u001b[0m                          Traceback (most recent call last)",
        "\u001b[1;32m<ipython-input-23-478adb9582eb>\u001b[0m in \u001b[0;36m<module>\u001b[1;34m\u001b[0m\n\u001b[1;32m----> 1\u001b[1;33m \u001b[0mresponse\u001b[0m \u001b[1;33m=\u001b[0m \u001b[0mclient\u001b[0m\u001b[1;33m.\u001b[0m\u001b[0mimage_properties\u001b[0m\u001b[1;33m(\u001b[0m\u001b[0mimage\u001b[0m\u001b[1;33m=\u001b[0m\u001b[0mimage\u001b[0m\u001b[1;33m)\u001b[0m\u001b[1;33m\u001b[0m\u001b[1;33m\u001b[0m\u001b[0m\n\u001b[0m\u001b[0;32m      2\u001b[0m \u001b[0mprops\u001b[0m \u001b[1;33m=\u001b[0m \u001b[0mresponse\u001b[0m\u001b[1;33m.\u001b[0m\u001b[0mimage_properties_annotation\u001b[0m\u001b[1;33m\u001b[0m\u001b[1;33m\u001b[0m\u001b[0m\n\u001b[0;32m      3\u001b[0m \u001b[0mprint\u001b[0m\u001b[1;33m(\u001b[0m\u001b[1;34m'Properties of the image:'\u001b[0m\u001b[1;33m)\u001b[0m\u001b[1;33m\u001b[0m\u001b[1;33m\u001b[0m\u001b[0m\n\u001b[0;32m      4\u001b[0m \u001b[1;33m\u001b[0m\u001b[0m\n\u001b[0;32m      5\u001b[0m \u001b[1;32mfor\u001b[0m \u001b[0mcolor\u001b[0m \u001b[1;32min\u001b[0m \u001b[0mprops\u001b[0m\u001b[1;33m.\u001b[0m\u001b[0mdominant_colors\u001b[0m\u001b[1;33m.\u001b[0m\u001b[0mcolors\u001b[0m\u001b[1;33m:\u001b[0m\u001b[1;33m\u001b[0m\u001b[1;33m\u001b[0m\u001b[0m\n",
        "\u001b[1;32m~\\Anaconda3\\ANACONDA\\lib\\site-packages\\google\\cloud\\vision_helpers\\decorators.py\u001b[0m in \u001b[0;36minner\u001b[1;34m(self, image, max_results, retry, timeout, **kwargs)\u001b[0m\n\u001b[0;32m     99\u001b[0m             \u001b[0mcopied_features\u001b[0m\u001b[1;33m[\u001b[0m\u001b[1;34m\"max_results\"\u001b[0m\u001b[1;33m]\u001b[0m \u001b[1;33m=\u001b[0m \u001b[0mmax_results\u001b[0m\u001b[1;33m\u001b[0m\u001b[1;33m\u001b[0m\u001b[0m\n\u001b[0;32m    100\u001b[0m         \u001b[0mrequest\u001b[0m \u001b[1;33m=\u001b[0m \u001b[0mdict\u001b[0m\u001b[1;33m(\u001b[0m\u001b[0mimage\u001b[0m\u001b[1;33m=\u001b[0m\u001b[0mimage\u001b[0m\u001b[1;33m,\u001b[0m \u001b[0mfeatures\u001b[0m\u001b[1;33m=\u001b[0m\u001b[1;33m[\u001b[0m\u001b[0mcopied_features\u001b[0m\u001b[1;33m]\u001b[0m\u001b[1;33m,\u001b[0m \u001b[1;33m**\u001b[0m\u001b[0mkwargs\u001b[0m\u001b[1;33m)\u001b[0m\u001b[1;33m\u001b[0m\u001b[1;33m\u001b[0m\u001b[0m\n\u001b[1;32m--> 101\u001b[1;33m         \u001b[0mresponse\u001b[0m \u001b[1;33m=\u001b[0m \u001b[0mself\u001b[0m\u001b[1;33m.\u001b[0m\u001b[0mannotate_image\u001b[0m\u001b[1;33m(\u001b[0m\u001b[0mrequest\u001b[0m\u001b[1;33m,\u001b[0m \u001b[0mretry\u001b[0m\u001b[1;33m=\u001b[0m\u001b[0mretry\u001b[0m\u001b[1;33m,\u001b[0m \u001b[0mtimeout\u001b[0m\u001b[1;33m=\u001b[0m\u001b[0mtimeout\u001b[0m\u001b[1;33m)\u001b[0m\u001b[1;33m\u001b[0m\u001b[1;33m\u001b[0m\u001b[0m\n\u001b[0m\u001b[0;32m    102\u001b[0m         \u001b[1;32mreturn\u001b[0m \u001b[0mresponse\u001b[0m\u001b[1;33m\u001b[0m\u001b[1;33m\u001b[0m\u001b[0m\n\u001b[0;32m    103\u001b[0m \u001b[1;33m\u001b[0m\u001b[0m\n",
        "\u001b[1;32m~\\Anaconda3\\ANACONDA\\lib\\site-packages\\google\\cloud\\vision_helpers\\__init__.py\u001b[0m in \u001b[0;36mannotate_image\u001b[1;34m(self, request, retry, timeout)\u001b[0m\n\u001b[0;32m     70\u001b[0m         \u001b[1;31m# of them.\u001b[0m\u001b[1;33m\u001b[0m\u001b[1;33m\u001b[0m\u001b[1;33m\u001b[0m\u001b[0m\n\u001b[0;32m     71\u001b[0m         \u001b[0mprotobuf\u001b[0m\u001b[1;33m.\u001b[0m\u001b[0msetdefault\u001b[0m\u001b[1;33m(\u001b[0m\u001b[0mrequest\u001b[0m\u001b[1;33m,\u001b[0m \u001b[1;34m\"features\"\u001b[0m\u001b[1;33m,\u001b[0m \u001b[0mself\u001b[0m\u001b[1;33m.\u001b[0m\u001b[0m_get_all_features\u001b[0m\u001b[1;33m(\u001b[0m\u001b[1;33m)\u001b[0m\u001b[1;33m)\u001b[0m\u001b[1;33m\u001b[0m\u001b[1;33m\u001b[0m\u001b[0m\n\u001b[1;32m---> 72\u001b[1;33m         \u001b[0mr\u001b[0m \u001b[1;33m=\u001b[0m \u001b[0mself\u001b[0m\u001b[1;33m.\u001b[0m\u001b[0mbatch_annotate_images\u001b[0m\u001b[1;33m(\u001b[0m\u001b[1;33m[\u001b[0m\u001b[0mrequest\u001b[0m\u001b[1;33m]\u001b[0m\u001b[1;33m,\u001b[0m \u001b[0mretry\u001b[0m\u001b[1;33m=\u001b[0m\u001b[0mretry\u001b[0m\u001b[1;33m,\u001b[0m \u001b[0mtimeout\u001b[0m\u001b[1;33m=\u001b[0m\u001b[0mtimeout\u001b[0m\u001b[1;33m)\u001b[0m\u001b[1;33m\u001b[0m\u001b[1;33m\u001b[0m\u001b[0m\n\u001b[0m\u001b[0;32m     73\u001b[0m         \u001b[1;32mreturn\u001b[0m \u001b[0mr\u001b[0m\u001b[1;33m.\u001b[0m\u001b[0mresponses\u001b[0m\u001b[1;33m[\u001b[0m\u001b[1;36m0\u001b[0m\u001b[1;33m]\u001b[0m\u001b[1;33m\u001b[0m\u001b[1;33m\u001b[0m\u001b[0m\n\u001b[0;32m     74\u001b[0m \u001b[1;33m\u001b[0m\u001b[0m\n",
        "\u001b[1;32m~\\Anaconda3\\ANACONDA\\lib\\site-packages\\google\\cloud\\vision_v1\\gapic\\image_annotator_client.py\u001b[0m in \u001b[0;36mbatch_annotate_images\u001b[1;34m(self, requests, parent, retry, timeout, metadata)\u001b[0m\n\u001b[0;32m    272\u001b[0m \u001b[1;33m\u001b[0m\u001b[0m\n\u001b[0;32m    273\u001b[0m         return self._inner_api_calls[\"batch_annotate_images\"](\n\u001b[1;32m--> 274\u001b[1;33m             \u001b[0mrequest\u001b[0m\u001b[1;33m,\u001b[0m \u001b[0mretry\u001b[0m\u001b[1;33m=\u001b[0m\u001b[0mretry\u001b[0m\u001b[1;33m,\u001b[0m \u001b[0mtimeout\u001b[0m\u001b[1;33m=\u001b[0m\u001b[0mtimeout\u001b[0m\u001b[1;33m,\u001b[0m \u001b[0mmetadata\u001b[0m\u001b[1;33m=\u001b[0m\u001b[0mmetadata\u001b[0m\u001b[1;33m\u001b[0m\u001b[1;33m\u001b[0m\u001b[0m\n\u001b[0m\u001b[0;32m    275\u001b[0m         )\n\u001b[0;32m    276\u001b[0m \u001b[1;33m\u001b[0m\u001b[0m\n",
        "\u001b[1;32m~\\Anaconda3\\ANACONDA\\lib\\site-packages\\google\\api_core\\gapic_v1\\method.py\u001b[0m in \u001b[0;36m__call__\u001b[1;34m(self, *args, **kwargs)\u001b[0m\n\u001b[0;32m    141\u001b[0m             \u001b[0mkwargs\u001b[0m\u001b[1;33m[\u001b[0m\u001b[1;34m\"metadata\"\u001b[0m\u001b[1;33m]\u001b[0m \u001b[1;33m=\u001b[0m \u001b[0mmetadata\u001b[0m\u001b[1;33m\u001b[0m\u001b[1;33m\u001b[0m\u001b[0m\n\u001b[0;32m    142\u001b[0m \u001b[1;33m\u001b[0m\u001b[0m\n\u001b[1;32m--> 143\u001b[1;33m         \u001b[1;32mreturn\u001b[0m \u001b[0mwrapped_func\u001b[0m\u001b[1;33m(\u001b[0m\u001b[1;33m*\u001b[0m\u001b[0margs\u001b[0m\u001b[1;33m,\u001b[0m \u001b[1;33m**\u001b[0m\u001b[0mkwargs\u001b[0m\u001b[1;33m)\u001b[0m\u001b[1;33m\u001b[0m\u001b[1;33m\u001b[0m\u001b[0m\n\u001b[0m\u001b[0;32m    144\u001b[0m \u001b[1;33m\u001b[0m\u001b[0m\n\u001b[0;32m    145\u001b[0m \u001b[1;33m\u001b[0m\u001b[0m\n",
        "\u001b[1;32m~\\Anaconda3\\ANACONDA\\lib\\site-packages\\google\\api_core\\grpc_helpers.py\u001b[0m in \u001b[0;36merror_remapped_callable\u001b[1;34m(*args, **kwargs)\u001b[0m\n\u001b[0;32m     57\u001b[0m             \u001b[1;32mreturn\u001b[0m \u001b[0mcallable_\u001b[0m\u001b[1;33m(\u001b[0m\u001b[1;33m*\u001b[0m\u001b[0margs\u001b[0m\u001b[1;33m,\u001b[0m \u001b[1;33m**\u001b[0m\u001b[0mkwargs\u001b[0m\u001b[1;33m)\u001b[0m\u001b[1;33m\u001b[0m\u001b[1;33m\u001b[0m\u001b[0m\n\u001b[0;32m     58\u001b[0m         \u001b[1;32mexcept\u001b[0m \u001b[0mgrpc\u001b[0m\u001b[1;33m.\u001b[0m\u001b[0mRpcError\u001b[0m \u001b[1;32mas\u001b[0m \u001b[0mexc\u001b[0m\u001b[1;33m:\u001b[0m\u001b[1;33m\u001b[0m\u001b[1;33m\u001b[0m\u001b[0m\n\u001b[1;32m---> 59\u001b[1;33m             \u001b[0msix\u001b[0m\u001b[1;33m.\u001b[0m\u001b[0mraise_from\u001b[0m\u001b[1;33m(\u001b[0m\u001b[0mexceptions\u001b[0m\u001b[1;33m.\u001b[0m\u001b[0mfrom_grpc_error\u001b[0m\u001b[1;33m(\u001b[0m\u001b[0mexc\u001b[0m\u001b[1;33m)\u001b[0m\u001b[1;33m,\u001b[0m \u001b[0mexc\u001b[0m\u001b[1;33m)\u001b[0m\u001b[1;33m\u001b[0m\u001b[1;33m\u001b[0m\u001b[0m\n\u001b[0m\u001b[0;32m     60\u001b[0m \u001b[1;33m\u001b[0m\u001b[0m\n\u001b[0;32m     61\u001b[0m     \u001b[1;32mreturn\u001b[0m \u001b[0merror_remapped_callable\u001b[0m\u001b[1;33m\u001b[0m\u001b[1;33m\u001b[0m\u001b[0m\n",
        "\u001b[1;32m~\\Anaconda3\\ANACONDA\\lib\\site-packages\\six.py\u001b[0m in \u001b[0;36mraise_from\u001b[1;34m(value, from_value)\u001b[0m\n",
        "\u001b[1;31mPermissionDenied\u001b[0m: 403 This API method requires billing to be enabled. Please enable billing on project #709471531819 by visiting https://console.developers.google.com/billing/enable?project=709471531819 then retry. If you enabled billing for this project recently, wait a few minutes for the action to propagate to our systems and retry."
       ]
      }
     ],
     "persistentId": "3eb1dd97-e166-40a1-97a7-77a068179b11",
     "text": "response = client.image_properties(image=image)\nprops = response.image_properties_annotation\nprint('Properties of the image:')\n\nfor color in props.dominant_colors.colors:\n    print('Fraction: {}'.format(color.pixel_fraction))\n    print('\\tr: {}'.format(color.color.red))\n    print('\\tg: {}'.format(color.color.green))\n    print('\\tb: {}'.format(color.color.blue))"
    },
    "executionTime": "2020-05-19T11:33:26.685Z"
   },
   {
    "cell": {
     "executionCount": 24,
     "executionEventId": "241904e3-8e79-462f-8bdc-9024b025fe7f",
     "hasError": false,
     "id": "a490037b-a251-4486-9324-30a43f00eee7",
     "outputs": [
      {
       "name": "stdout",
       "output_type": "stream",
       "text": "Properties of the image:\nFraction: 0.1334860473871231\n\tr: 192.0\n\tg: 198.0\n\tb: 205.0\nFraction: 0.0020824656821787357\n\tr: 162.0\n\tg: 96.0\n\tb: 138.0\nFraction: 0.0049285017885267735\n\tr: 148.0\n\tg: 109.0\n\tb: 125.0\nFraction: 0.06955435127019882\n\tr: 135.0\n\tg: 116.0\n\tb: 56.0\nFraction: 0.01159239187836647\n\tr: 123.0\n\tg: 77.0\n\tb: 40.0\nFraction: 0.054282937198877335\n\tr: 190.0\n\tg: 201.0\n\tb: 221.0\nFraction: 0.06115507334470749\n\tr: 217.0\n\tg: 224.0\n\tb: 233.0\nFraction: 0.021379981189966202\n\tr: 212.0\n\tg: 223.0\n\tb: 242.0\nFraction: 0.03547133132815361\n\tr: 163.0\n\tg: 161.0\n\tb: 162.0\nFraction: 0.003956684842705727\n\tr: 115.0\n\tg: 77.0\n\tb: 91.0\n"
      }
     ],
     "persistentId": "3eb1dd97-e166-40a1-97a7-77a068179b11",
     "text": "response = client.image_properties(image=image)\nprops = response.image_properties_annotation\nprint('Properties of the image:')\n\nfor color in props.dominant_colors.colors:\n    print('Fraction: {}'.format(color.pixel_fraction))\n    print('\\tr: {}'.format(color.color.red))\n    print('\\tg: {}'.format(color.color.green))\n    print('\\tb: {}'.format(color.color.blue))"
    },
    "executionTime": "2020-05-19T11:36:19.984Z"
   }
  ],
  "kernelspec": {
   "display_name": "Python 3",
   "language": "python",
   "name": "python3"
  },
  "language_info": {
   "codemirror_mode": {
    "name": "ipython",
    "version": 3
   },
   "file_extension": ".py",
   "mimetype": "text/x-python",
   "name": "python",
   "nbconvert_exporter": "python",
   "pygments_lexer": "ipython3",
   "version": "3.7.3"
  },
  "uuid": "a203158e-44ee-4123-8a3c-19aa2ab322da"
 },
 "nbformat": 4,
 "nbformat_minor": 4
}

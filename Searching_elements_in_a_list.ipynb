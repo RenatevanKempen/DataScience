{
  "nbformat": 4,
  "nbformat_minor": 0,
  "metadata": {
    "colab": {
      "name": "Searching elements in a list.ipynb",
      "provenance": [],
      "include_colab_link": true
    },
    "kernelspec": {
      "name": "python3",
      "display_name": "Python 3"
    }
  },
  "cells": [
    {
      "cell_type": "markdown",
      "metadata": {
        "id": "view-in-github",
        "colab_type": "text"
      },
      "source": [
        "<a href=\"https://colab.research.google.com/github/RenatevanKempen/hello-world/blob/master/Searching_elements_in_a_list.ipynb\" target=\"_parent\"><img src=\"https://colab.research.google.com/assets/colab-badge.svg\" alt=\"Open In Colab\"/></a>"
      ]
    },
    {
      "cell_type": "code",
      "metadata": {
        "id": "ycf_6mr73rYN",
        "colab_type": "code",
        "colab": {}
      },
      "source": [
        "import random\n",
        "import pandas as pd"
      ],
      "execution_count": 0,
      "outputs": []
    },
    {
      "cell_type": "markdown",
      "metadata": {
        "id": "CYZ9bUQJ4fz5",
        "colab_type": "text"
      },
      "source": [
        "Write a function that takes an ordered list of numbers (a list where the elements are in order from smallest to largest) and another number. The function decides whether or not the given number is inside the list and returns (then prints) an appropriate boolean.\n",
        "\n",
        "extra: use binary search"
      ]
    },
    {
      "cell_type": "code",
      "metadata": {
        "id": "Olh6F9MC4ZFi",
        "colab_type": "code",
        "colab": {
          "base_uri": "https://localhost:8080/",
          "height": 68
        },
        "outputId": "3ac58ce1-03d3-46b0-fc1b-3e4a22cd9ea0"
      },
      "source": [
        "#my simple solution:\n",
        "a = [1, 3, 5, 30, 42, 43, 500]\n",
        "\n",
        "def find_el(b):\n",
        "  if b in a:\n",
        "    print('this number is in the list')\n",
        "  else:\n",
        "    print('this number is NOT in the list')\n",
        "  return b\n",
        "\n",
        "b = int(input('give me a number to check: '))\n",
        "find_el(b)\n",
        "    "
      ],
      "execution_count": 7,
      "outputs": [
        {
          "output_type": "stream",
          "text": [
            "give me a number to check: 33\n",
            "this number is NOT in the list\n"
          ],
          "name": "stdout"
        },
        {
          "output_type": "execute_result",
          "data": {
            "text/plain": [
              "33"
            ]
          },
          "metadata": {
            "tags": []
          },
          "execution_count": 7
        }
      ]
    },
    {
      "cell_type": "code",
      "metadata": {
        "id": "WKCGY0Ze9ZVd",
        "colab_type": "code",
        "colab": {
          "base_uri": "https://localhost:8080/",
          "height": 51
        },
        "outputId": "0b5be8c5-98d0-4d51-a110-c6dd32e6763c"
      },
      "source": [
        "#this time with a boolean:\n",
        "a = [1, 3, 5, 30, 42, 43, 500]\n",
        "\n",
        "while True:\n",
        "  b = int(input('Give me a number to check: '))\n",
        "  if b in a: \n",
        "    print(True)\n",
        "  else:\n",
        "    print(False)\n",
        "  break"
      ],
      "execution_count": 20,
      "outputs": [
        {
          "output_type": "stream",
          "text": [
            "Give me a number to check: 42\n",
            "True\n"
          ],
          "name": "stdout"
        }
      ]
    },
    {
      "cell_type": "code",
      "metadata": {
        "id": "KZL3cTnk-QQi",
        "colab_type": "code",
        "colab": {
          "base_uri": "https://localhost:8080/",
          "height": 85
        },
        "outputId": "3e8bcf5f-7986-44db-8b03-f170e0474885"
      },
      "source": [
        "#their solution:\n",
        "def find(ordered_list, element_to_find):\n",
        "  for element in ordered_list:\n",
        "    if element == element_to_find:\n",
        "      return True\n",
        "  return False\n",
        "\n",
        "if __name__==\"__main__\":\n",
        "  l = [2, 4, 6, 8, 10]\n",
        "  print(find(l, 5)) # prints False\n",
        "  print(find(l, 10)) # prints True\n",
        "  print(find(l, -1)) # prints False\n",
        "  print(find(l, 2)) # prints True"
      ],
      "execution_count": 21,
      "outputs": [
        {
          "output_type": "stream",
          "text": [
            "False\n",
            "True\n",
            "False\n",
            "True\n"
          ],
          "name": "stdout"
        }
      ]
    },
    {
      "cell_type": "code",
      "metadata": {
        "id": "d_bM04Vn51Ik",
        "colab_type": "code",
        "colab": {
          "base_uri": "https://localhost:8080/",
          "height": 68
        },
        "outputId": "ba592f7f-7a64-4f36-e6d5-d6d595df21a1"
      },
      "source": [
        "#using binary search:\n",
        "a = [1, 3, 5, 30, 42, 43, 500]\n",
        "\n",
        "def list_middle(a):\n",
        "      middle = float(len(a))/2\n",
        "      if middle %2 == 0:\n",
        "        return a[int(middle-.5)]\n",
        "      else:\n",
        "        return a[int(middle)]\n",
        "\n",
        "def binary_search(x):\n",
        "  c = list_middle(a)\n",
        "  if x == c:\n",
        "    print(True)\n",
        "  elif x != c:\n",
        "    if x in a: \n",
        "      print(True)\n",
        "    else:\n",
        "      print(False)\n",
        "  return x\n",
        "\n",
        "x = int(input('Give me a number to check: '))\n",
        "binary_search(x)"
      ],
      "execution_count": 29,
      "outputs": [
        {
          "output_type": "stream",
          "text": [
            "Give me a number to check: 1\n",
            "True\n"
          ],
          "name": "stdout"
        },
        {
          "output_type": "execute_result",
          "data": {
            "text/plain": [
              "1"
            ]
          },
          "metadata": {
            "tags": []
          },
          "execution_count": 29
        }
      ]
    },
    {
      "cell_type": "code",
      "metadata": {
        "id": "PzwdFi5u-ldS",
        "colab_type": "code",
        "colab": {
          "base_uri": "https://localhost:8080/",
          "height": 367
        },
        "outputId": "aaa3c8e6-b165-4cd7-cadb-b7b6ffd915e9"
      },
      "source": [
        "#their Binary solution\n",
        "\n",
        "def find(ordered_list, element_to_find):\n",
        "  start_index = 1\n",
        "  end_index = len(ordered_list) - 1\n",
        "  \n",
        "  while True:\n",
        "    middle_index = (end_index - start_index) / 2\n",
        "    \n",
        "    if int(middle_index) < start_index or int(middle_index) > end_index or int(middle_index) < 0:\n",
        "      return False\n",
        "    \n",
        "    middle_element = ordered_list[int(middle_index)]\n",
        "    if middle_element == element_to_find:\n",
        "      return True\n",
        "    elif middle_element < element_to_find:\n",
        "      end_index = int(middle_index)\n",
        "    else:\n",
        "      start_index = int(middle_index)\n",
        "  \n",
        "if __name__==\"__main__\":\n",
        "  l = [2, 4, 6, 8, 10]\n",
        "  print(find(l, 5)) # prints False\n",
        "  print(find(l, 10)) # prints True\n",
        "  print(find(l, -1)) # prints False\n",
        "  print(find(l, 2)) # prints True"
      ],
      "execution_count": 26,
      "outputs": [
        {
          "output_type": "stream",
          "text": [
            "False\n",
            "False\n"
          ],
          "name": "stdout"
        },
        {
          "output_type": "error",
          "ename": "KeyboardInterrupt",
          "evalue": "ignored",
          "traceback": [
            "\u001b[0;31m---------------------------------------------------------------------------\u001b[0m",
            "\u001b[0;31mKeyboardInterrupt\u001b[0m                         Traceback (most recent call last)",
            "\u001b[0;32m<ipython-input-26-4ba6ec5a85a9>\u001b[0m in \u001b[0;36m<module>\u001b[0;34m()\u001b[0m\n\u001b[1;32m     22\u001b[0m   \u001b[0mprint\u001b[0m\u001b[0;34m(\u001b[0m\u001b[0mfind\u001b[0m\u001b[0;34m(\u001b[0m\u001b[0ml\u001b[0m\u001b[0;34m,\u001b[0m \u001b[0;36m5\u001b[0m\u001b[0;34m)\u001b[0m\u001b[0;34m)\u001b[0m \u001b[0;31m# prints False\u001b[0m\u001b[0;34m\u001b[0m\u001b[0;34m\u001b[0m\u001b[0m\n\u001b[1;32m     23\u001b[0m   \u001b[0mprint\u001b[0m\u001b[0;34m(\u001b[0m\u001b[0mfind\u001b[0m\u001b[0;34m(\u001b[0m\u001b[0ml\u001b[0m\u001b[0;34m,\u001b[0m \u001b[0;36m10\u001b[0m\u001b[0;34m)\u001b[0m\u001b[0;34m)\u001b[0m \u001b[0;31m# prints True\u001b[0m\u001b[0;34m\u001b[0m\u001b[0;34m\u001b[0m\u001b[0m\n\u001b[0;32m---> 24\u001b[0;31m   \u001b[0mprint\u001b[0m\u001b[0;34m(\u001b[0m\u001b[0mfind\u001b[0m\u001b[0;34m(\u001b[0m\u001b[0ml\u001b[0m\u001b[0;34m,\u001b[0m \u001b[0;34m-\u001b[0m\u001b[0;36m1\u001b[0m\u001b[0;34m)\u001b[0m\u001b[0;34m)\u001b[0m \u001b[0;31m# prints False\u001b[0m\u001b[0;34m\u001b[0m\u001b[0;34m\u001b[0m\u001b[0m\n\u001b[0m\u001b[1;32m     25\u001b[0m   \u001b[0mprint\u001b[0m\u001b[0;34m(\u001b[0m\u001b[0mfind\u001b[0m\u001b[0;34m(\u001b[0m\u001b[0ml\u001b[0m\u001b[0;34m,\u001b[0m \u001b[0;36m2\u001b[0m\u001b[0;34m)\u001b[0m\u001b[0;34m)\u001b[0m \u001b[0;31m# prints True\u001b[0m\u001b[0;34m\u001b[0m\u001b[0;34m\u001b[0m\u001b[0m\n",
            "\u001b[0;32m<ipython-input-26-4ba6ec5a85a9>\u001b[0m in \u001b[0;36mfind\u001b[0;34m(ordered_list, element_to_find)\u001b[0m\n\u001b[1;32m     10\u001b[0m       \u001b[0;32mreturn\u001b[0m \u001b[0;32mFalse\u001b[0m\u001b[0;34m\u001b[0m\u001b[0;34m\u001b[0m\u001b[0m\n\u001b[1;32m     11\u001b[0m \u001b[0;34m\u001b[0m\u001b[0m\n\u001b[0;32m---> 12\u001b[0;31m     \u001b[0mmiddle_element\u001b[0m \u001b[0;34m=\u001b[0m \u001b[0mordered_list\u001b[0m\u001b[0;34m[\u001b[0m\u001b[0mint\u001b[0m\u001b[0;34m(\u001b[0m\u001b[0mmiddle_index\u001b[0m\u001b[0;34m)\u001b[0m\u001b[0;34m]\u001b[0m\u001b[0;34m\u001b[0m\u001b[0;34m\u001b[0m\u001b[0m\n\u001b[0m\u001b[1;32m     13\u001b[0m     \u001b[0;32mif\u001b[0m \u001b[0mmiddle_element\u001b[0m \u001b[0;34m==\u001b[0m \u001b[0melement_to_find\u001b[0m\u001b[0;34m:\u001b[0m\u001b[0;34m\u001b[0m\u001b[0;34m\u001b[0m\u001b[0m\n\u001b[1;32m     14\u001b[0m       \u001b[0;32mreturn\u001b[0m \u001b[0;32mTrue\u001b[0m\u001b[0;34m\u001b[0m\u001b[0;34m\u001b[0m\u001b[0m\n",
            "\u001b[0;31mKeyboardInterrupt\u001b[0m: "
          ]
        }
      ]
    },
    {
      "cell_type": "code",
      "metadata": {
        "id": "UABuo3a_5RTp",
        "colab_type": "code",
        "colab": {}
      },
      "source": [
        ""
      ],
      "execution_count": 0,
      "outputs": []
    }
  ]
}
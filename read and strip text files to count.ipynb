{
 "cells": [
  {
   "cell_type": "markdown",
   "metadata": {},
   "source": [
    "Given a .txt file that has a list of a bunch of names, count how many of each name there are in the file, and print out the results to the screen."
   ]
  },
  {
   "cell_type": "code",
   "execution_count": 1,
   "metadata": {},
   "outputs": [
    {
     "name": "stdout",
     "output_type": "stream",
     "text": [
      "{'Darth': 31, 'Luke': 15, 'Lea': 54}\n"
     ]
    }
   ],
   "source": [
    "count_names = {}\n",
    "with open('file_to_read.txt', 'r') as open_file:\n",
    "    line = open_file.readline()\n",
    "    while line:\n",
    "        line = line.strip()\n",
    "        if line in count_names:\n",
    "            count_names[line] +=1\n",
    "        else:\n",
    "            count_names[line] = 1\n",
    "        line = open_file.readline()\n",
    "\n",
    "print(count_names)"
   ]
  },
  {
   "cell_type": "code",
   "execution_count": null,
   "metadata": {},
   "outputs": [],
   "source": [
    "count_category = {}\n",
    "with open('category_file_to_read.txt', 'r') as category:\n",
    "    line = category.readline()\n",
    "    while line:\n",
    "        line = line.strip() \n",
    "        line = line[3:-25]\n",
    "        if line in count_category:\n",
    "            count_category[line] += 1\n",
    "        else:\n",
    "            count_category[line] = 1\n",
    "        line = category.readline()\n",
    "\n",
    "print(count_category)"
   ]
  },
  {
   "cell_type": "code",
   "execution_count": null,
   "metadata": {},
   "outputs": [],
   "source": []
  }
 ],
 "metadata": {
  "kernelspec": {
   "display_name": "Python 3",
   "language": "python",
   "name": "python3"
  },
  "language_info": {
   "codemirror_mode": {
    "name": "ipython",
    "version": 3
   },
   "file_extension": ".py",
   "mimetype": "text/x-python",
   "name": "python",
   "nbconvert_exporter": "python",
   "pygments_lexer": "ipython3",
   "version": "3.7.3"
  }
 },
 "nbformat": 4,
 "nbformat_minor": 2
}

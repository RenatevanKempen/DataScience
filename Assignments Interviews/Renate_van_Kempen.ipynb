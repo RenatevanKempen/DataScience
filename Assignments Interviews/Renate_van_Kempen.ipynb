{
 "cells": [
  {
   "cell_type": "markdown",
   "metadata": {},
   "source": [
    "# Bread purchasing plan:\n",
    "\n",
    "## Who am I:\n",
    "My name is Renate van Kempen. \n",
    "\n",
    "You can reach me by [email](renate@baime.nl) or contact me via a [Linkedin message](https://www.linkedin.com/in/renatevankempen/)\n"
   ]
  },
  {
   "cell_type": "markdown",
   "metadata": {},
   "source": [
    "![Renate](https://media-exp1.licdn.com/dms/image/C5603AQEpJtjyctQOCA/profile-displayphoto-shrink_200_200/0?e=1586995200&v=beta&t=bplXeVLLe1My3xrtK3UJR5L918qR0fHtiBtQ6JMOLpU)"
   ]
  },
  {
   "cell_type": "markdown",
   "metadata": {},
   "source": [
    "## Problem statement:\n",
    "\n",
    "You live in a remote settlement where bread sellers come through periodically at irregular intervals. \n",
    "\n",
    "Whenever you buy fresh bread, it lasts for 30 days until it becomes too stale to eat. Your family eats one loaf of bread per day. \n",
    "\n",
    "You are given a calendar of when the bread sellers will be visiting over the coming days and the price each bread seller will charge per loaf. \n",
    "\n",
    "You currently have 10 fresh loaves, and at the end of the calendar you'll get a bunch of free bread, so you won't need to have any left on hand. \n",
    "\n",
    "Write a function that tells you how much bread to buy from each of the sellers "
   ]
  },
  {
   "cell_type": "markdown",
   "metadata": {},
   "source": [
    "# Input:\n",
    "\n",
    "- total_days, an integer, the number of days in the calendar until the free bread arrives \n",
    "- sellers, a list of pairs of integers (day, price). \n",
    "    1. Each pair represents one bread seller \n",
    "    2. The day is how many days from the start until the seller arrives \n",
    "    3. The price is the price to buy each loaf of bread from this seller, in pennies "
   ]
  },
  {
   "cell_type": "code",
   "execution_count": 2,
   "metadata": {},
   "outputs": [],
   "source": [
    "total_days = 65\n",
    "sellers = ([8, 180],[15, 150],[25, 160],[34, 200],[50, 170])"
   ]
  },
  {
   "cell_type": "markdown",
   "metadata": {},
   "source": [
    "# Solution:\n",
    "\n",
    "### Required output: \n",
    "\n",
    "- purchases, a list of integers of the same length as sellers. \n",
    "       1. Each integer is how many loaves you should buy from each seller \n",
    "       2. Or None, if there is no solution that does not force your family to eat stale bread at some point \n",
    " \n",
    " \n",
    " You should output the purchase plan that minimizes the total cost. \n",
    " \n",
    " In case of ties, output the plan that requires buying from the fewest number of different sellers, and within those choose the plan that buys more bread earlier \n",
    " "
   ]
  },
  {
   "cell_type": "markdown",
   "metadata": {},
   "source": [
    "## My personal note to the function here below: \n",
    "\n",
    "I wanted to make a function that iterates over the tuple - values to find: \n",
    "1. The cheapest (to buy the max number of breads here)\n",
    "2. The most expensive (to buy 0 breads here, if possible)\n",
    "3. To make sure that the total amount of breads add up to the total amount of calender days\n",
    "\n",
    "Also I wanted to make sure that the breadstock was filled poperly, so they would not have any days without bread.\n"
   ]
  },
  {
   "cell_type": "code",
   "execution_count": 28,
   "metadata": {},
   "outputs": [
    {
     "data": {
      "text/plain": [
       "[4, 30, 15.0, 0, 6.0]"
      ]
     },
     "execution_count": 28,
     "metadata": {},
     "output_type": "execute_result"
    }
   ],
   "source": [
    "bread_purchases = []\n",
    "\n",
    "def bread_purchase_plan(total_days, sellers):\n",
    "    #first let's split the tuple to get the days and prices seperately here\n",
    "    days, prices = map(list,zip(*sellers))\n",
    "    cheapest = sorted(prices)[0] #find the most cheap seller to max buy from\n",
    "    second_cheapest = sorted(prices)[1] #find the second most cheap seller and buy as much as needed\n",
    "    most_expensive = sorted(prices)[4] #find the most expensive one to buy 0 breads if possible\n",
    "    Bread_stock = 10 #this is the starting stock of fresh breads\n",
    "    max_days_stock = 30 #this is the maximum number of days the bread can be kept in stock\n",
    "    current_day = 1 #this is the starting day\n",
    "    total_bread = 10 #this I will use to double check the outcome\n",
    "    index = 0 #the index is used for the iteration over the days\n",
    "    for x in days: #this is to get the same length as the sellers input\n",
    "        days_till_seller = days[index] - current_day #this is to find how many days we have left till the first seller comes\n",
    "        bread_till_seller = Bread_stock - days_till_seller #this is to find how many bread we have left till the first seller comes\n",
    "        if prices[index] == cheapest: #I will start with the cheapest, if this is found, buy max number of breads\n",
    "            current_day += days_till_seller\n",
    "            index += 1\n",
    "            bread_purchases.append(max_days_stock)\n",
    "            Bread_stock += max_days_stock - bread_till_seller\n",
    "            total_bread += max_days_stock\n",
    "        elif prices[index] == second_cheapest: #Buy the needed quantity within the max_days_stock\n",
    "            current_day += days_till_seller\n",
    "            index += 1\n",
    "            bread_purchases.append(max_days_stock / 2)\n",
    "            Bread_stock += (max_days_stock / 2) - bread_till_seller\n",
    "            total_bread += (max_days_stock / 2)\n",
    "        elif prices[index] == most_expensive: #Buy nothing from the most expensive seller if not needed\n",
    "            current_day += days_till_seller\n",
    "            index += 1\n",
    "            bread_purchases.append(0)\n",
    "            Bread_stock - bread_till_seller\n",
    "            total_bread += 0\n",
    "        else:\n",
    "            if total_bread <= (total_days - 10): \n",
    "                current_day += days_till_seller\n",
    "                index += 1\n",
    "                Bread_stock - bread_till_seller\n",
    "                bread_purchases.append(bread_till_seller + 1)\n",
    "                total_bread += (bread_till_seller + 1)\n",
    "            else: #here comes the total bread into account, to ensure nothing more than 65 in total is bought, as you get free bread after the calender days\n",
    "                bread_purchases.append(total_days - total_bread)\n",
    "    return bread_purchases #output is a list\n",
    "\n",
    "\n",
    "bread_purchase_plan(total_days, sellers)\n",
    "            "
   ]
  }
 ],
 "metadata": {
  "kernelspec": {
   "display_name": "Python 3",
   "language": "python",
   "name": "python3"
  },
  "language_info": {
   "codemirror_mode": {
    "name": "ipython",
    "version": 3
   },
   "file_extension": ".py",
   "mimetype": "text/x-python",
   "name": "python",
   "nbconvert_exporter": "python",
   "pygments_lexer": "ipython3",
   "version": "3.7.3"
  }
 },
 "nbformat": 4,
 "nbformat_minor": 2
}

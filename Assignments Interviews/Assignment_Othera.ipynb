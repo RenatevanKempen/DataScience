{
  "nbformat": 4,
  "nbformat_minor": 0,
  "metadata": {
    "colab": {
      "name": "Assignment Othera",
      "provenance": [],
      "collapsed_sections": [],
      "include_colab_link": true
    },
    "kernelspec": {
      "name": "python3",
      "display_name": "Python 3"
    },
    "accelerator": "GPU"
  },
  "cells": [
    {
      "cell_type": "markdown",
      "metadata": {
        "id": "view-in-github",
        "colab_type": "text"
      },
      "source": [
        "<a href=\"https://colab.research.google.com/github/RenatevanKempen/hello-world/blob/master/Assignment_Othera.ipynb\" target=\"_parent\"><img src=\"https://colab.research.google.com/assets/colab-badge.svg\" alt=\"Open In Colab\"/></a>"
      ]
    },
    {
      "cell_type": "markdown",
      "metadata": {
        "id": "cwr6mvw5vV7d",
        "colab_type": "text"
      },
      "source": [
        "#Match de goedgekeurde leningen met investeerders"
      ]
    },
    {
      "cell_type": "markdown",
      "metadata": {
        "id": "dVyfsLoVvcjE",
        "colab_type": "text"
      },
      "source": [
        "1. Een lijst met Goedgekeurde leningen\n",
        "2. Een lijst met investeerders en hun inleg"
      ]
    },
    {
      "cell_type": "markdown",
      "metadata": {
        "id": "LmAP-xDJvooC",
        "colab_type": "text"
      },
      "source": [
        "## Doel: maak een match voor best mogelijke koppeling tussen de leningen en de investeerders \n",
        "\n",
        "Randvoorwaarden:\n",
        "* Bij grote lening, mogen meerdere investeerders eventueel\n",
        "* of 1 lening 1 investeerder\n",
        "* geen verdere eisen \n",
        "* geen investeerders die meer kunnen investeren dan ze hebben"
      ]
    },
    {
      "cell_type": "code",
      "metadata": {
        "id": "J_yr8oPLjkKV",
        "colab_type": "code",
        "outputId": "ae080a06-8404-4ffb-a945-a4a0e825ea0c",
        "colab": {
          "base_uri": "https://localhost:8080/",
          "height": 52
        }
      },
      "source": [
        "#After many tries, I've first ended up with a function that can only find the same amounts.\n",
        "\n",
        "Loan_Approved = {'Loan1' : 100000, 'Loan2': 150000, 'Loan3': 200000, 'Loan4': 1000000}\n",
        "Investors = {'Martijn': 100000, 'Elsa': 200000, 'Collin': 350000, 'Tim': 1000000}\n",
        "Match = {}\n",
        "\n",
        "def match_function(loans, investors):\n",
        "  for l_name, l_value, i_name, i_value in ((a,b,c,d) for a,b in loans.items() for c,d in investors.items()):\n",
        "    if l_value == i_value:\n",
        "      Match[l_name, l_value] = (i_name, i_value)\n",
        "  return Match\n",
        "\n",
        "match_function(Loan_Approved, Investors)\n",
        "print(\"This is the matched result\")\n",
        "print(Match)"
      ],
      "execution_count": 1,
      "outputs": [
        {
          "output_type": "stream",
          "text": [
            "This is the matched result\n",
            "{('Loan1', 100000): ('Martijn', 100000), ('Loan3', 200000): ('Elsa', 200000), ('Loan4', 1000000): ('Tim', 1000000)}\n"
          ],
          "name": "stdout"
        }
      ]
    },
    {
      "cell_type": "code",
      "metadata": {
        "id": "jif6mkrHnZE6",
        "colab_type": "code",
        "outputId": "007a01b9-e10f-4cf6-ce22-4fbd26d4429c",
        "colab": {
          "base_uri": "https://localhost:8080/",
          "height": 72
        }
      },
      "source": [
        "#I've set this function to find the same amount or investors if the amount is bigger. \n",
        "\n",
        "Loan_Approved = {'Loan1' : 100000, 'Loan2': 150000, 'Loan3': 200000, 'Loan4': 1000000}\n",
        "Investors = {'Martijn': 100000, 'Elsa': 200000, 'Collin': 350000, 'Tim': 1000000}\n",
        "Match = {}\n",
        "\n",
        "def match_function(loans, investors):\n",
        "  for l_name, l_value, i_name, i_value in ((a,b,c,d) for a,b in loans.items() for c,d in investors.items()):\n",
        "    if l_value == i_value:\n",
        "      Match[l_name, l_value] = (i_name, i_value)\n",
        "    elif l_value > i_value:\n",
        "      possible_investors = {i_name: i_value for i_name, i_value in investors.items() if i_value > l_value}\n",
        "      Match[l_name, l_value] = possible_investors\n",
        "  return Match\n",
        "\n",
        "match_function(Loan_Approved, Investors)\n",
        "print(\"This is the matched result\")\n",
        "print(Match)"
      ],
      "execution_count": 2,
      "outputs": [
        {
          "output_type": "stream",
          "text": [
            "This is the matched result\n",
            "{('Loan1', 100000): ('Martijn', 100000), ('Loan2', 150000): {'Elsa': 200000, 'Collin': 350000, 'Tim': 1000000}, ('Loan3', 200000): ('Elsa', 200000), ('Loan4', 1000000): ('Tim', 1000000)}\n"
          ],
          "name": "stdout"
        }
      ]
    },
    {
      "cell_type": "code",
      "metadata": {
        "id": "tU_zeHUHkdUJ",
        "colab_type": "code",
        "outputId": "0341aef5-5124-4013-c946-7133e9a90ae5",
        "colab": {
          "base_uri": "https://localhost:8080/",
          "height": 72
        }
      },
      "source": [
        "#let me try now with all possibilities\n",
        "\n",
        "Loan_Approved = {'Loan1' : 100000, 'Loan2': 150000, 'Loan3': 200000, 'Loan4': 1000000}\n",
        "Investors = {'Martijn': 100000, 'Elsa': 200000, 'Collin': 350000, 'Tim': 1000000}\n",
        "Match = {}\n",
        "\n",
        "def match_function(loans, investors):\n",
        "  for l_name, l_value, i_name, i_value in ((a,b,c,d) for a,b in loans.items() for c,d in investors.items()):\n",
        "    if i_value > l_value:\n",
        "      possible_investors_small_amounts = {i_name: i_value for i_name, i_value in investors.items() if i_value >= l_value}\n",
        "      Match[l_name, l_value] = possible_investors_small_amounts\n",
        "  return Match\n",
        "\n",
        "match_function(Loan_Approved, Investors)\n",
        "print(\"This is the matched result\")\n",
        "print(Match)"
      ],
      "execution_count": 3,
      "outputs": [
        {
          "output_type": "stream",
          "text": [
            "This is the matched result\n",
            "{('Loan1', 100000): {'Martijn': 100000, 'Elsa': 200000, 'Collin': 350000, 'Tim': 1000000}, ('Loan2', 150000): {'Elsa': 200000, 'Collin': 350000, 'Tim': 1000000}, ('Loan3', 200000): {'Elsa': 200000, 'Collin': 350000, 'Tim': 1000000}}\n"
          ],
          "name": "stdout"
        }
      ]
    },
    {
      "cell_type": "code",
      "metadata": {
        "id": "ouu5JTxbps3Y",
        "colab_type": "code",
        "colab": {}
      },
      "source": [
        ""
      ],
      "execution_count": 0,
      "outputs": []
    }
  ]
}
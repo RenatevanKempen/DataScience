{
 "cells": [
  {
   "cell_type": "code",
   "execution_count": null,
   "metadata": {
    "persistent_id": "0ac46d34-ad90-46a7-a644-fc6cea815bb5"
   },
   "outputs": [],
   "source": [
    "#import the tools needed\n",
    "import pandas as pd\n",
    "import matplotlib.pyplot as plt\n",
    "from sklearn.linear_model import LinearRegression\n",
    "from sklearn.model_selection import train_test_split\n",
    "\n",
    "# load the dataset: \n",
    "dataset = pd.read_excel(r'C:\\Users\\Renate\\OneDrive\\Documenten\\Baime\\Projecten\\GetResponsive\\Advertentie_verkoop.xlsx')\n",
    "dataset.head()"
   ]
  }
 ],
 "metadata": {
  "history": [],
  "kernelspec": {
   "display_name": "Python 3",
   "language": "python",
   "name": "python3"
  },
  "language_info": {
   "codemirror_mode": {
    "name": "ipython",
    "version": 3
   },
   "file_extension": ".py",
   "mimetype": "text/x-python",
   "name": "python",
   "nbconvert_exporter": "python",
   "pygments_lexer": "ipython3",
   "version": "3.7.3"
  },
  "uuid": "7bcf3487-0f82-430e-bc18-53ec086f666a"
 },
 "nbformat": 4,
 "nbformat_minor": 4
}

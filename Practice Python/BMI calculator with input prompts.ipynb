{
 "cells": [
  {
   "cell_type": "markdown",
   "metadata": {},
   "source": [
    "# My very own BMI calculator\n",
    "It's all about being and remaining healthy nowadays. But what weight is healthy for what height? Find out what your BMI is here. "
   ]
  },
  {
   "cell_type": "code",
   "execution_count": 1,
   "metadata": {
    "execution_event_id": "bad50874-2147-4bca-812f-a6d00318371a",
    "last_executed_text": "age = input(\"How old are you? \")\nheight = input(\"How tall are you? \")\nweight = input(\"How much do you weigh? \")\nBMI = round((int(weight) / (int(height)**2))*100, 2)\n\nprint(f\"So, you're {age} old, {height} tall and {weight} heavy.\")\nprint(f\"This means your BMI is {BMI}\\n\")\n\nif BMI < 0.25 and BMI > 0.18:\n    print(\"Well done, you are very healthy!!!\")\nelif BMI > 0.25:\n    print(\"Seems you are a bit too heavy, perhaps more exercises and less fast food would help?\")\nelse:\n    print(\"You are a bit too light for your height. Be aware that you eat enough\")",
    "persistent_id": "15d82503-64da-41cc-9c2e-5259361c9f25"
   },
   "outputs": [
    {
     "name": "stdin",
     "output_type": "stream",
     "text": [
      "How old are you?  39\n",
      "How tall are you?  180\n",
      "How much do you weigh?  74\n"
     ]
    },
    {
     "name": "stdout",
     "output_type": "stream",
     "text": [
      "So, you're 39 old, 180 tall and 74 heavy.\n",
      "This means your BMI is 0.23\n",
      "\n",
      "Well done, you are very healthy!!!\n"
     ]
    }
   ],
   "source": [
    "age = input(\"How old are you? \")\n",
    "height = input(\"How tall are you? \")\n",
    "weight = input(\"How much do you weigh? \")\n",
    "BMI = round((int(weight) / (int(height)**2))*100, 2)\n",
    "\n",
    "print(f\"So, you're {age} old, {height} tall and {weight} heavy.\")\n",
    "print(f\"This means your BMI is {BMI}\\n\")\n",
    "\n",
    "if BMI < 0.25 and BMI > 0.18:\n",
    "    print(\"Well done, you are very healthy!!!\")\n",
    "elif BMI > 0.25:\n",
    "    print(\"Seems you are a bit too heavy, perhaps more exercises and less fast food would help?\")\n",
    "else:\n",
    "    print(\"You are a bit too light for your height. Be aware that you eat enough\")"
   ]
  },
  {
   "cell_type": "code",
   "execution_count": null,
   "metadata": {},
   "outputs": [],
   "source": []
  }
 ],
 "metadata": {
  "history": [
   {
    "cell": {
     "executionCount": 1,
     "executionEventId": "6c454a1f-2587-47d5-b817-2601313020d6",
     "hasError": false,
     "id": "09b41556-6c7c-4a53-a864-c8480a0b2e7a",
     "outputs": [
      {
       "name": "stdin",
       "output_type": "stream",
       "text": "How old are you?  39\nHow tall are you?  180\nHow much do you weigh?  74\n"
      },
      {
       "name": "stdout",
       "output_type": "stream",
       "text": "So, you're 39 old, 180 tall and 74 heavy.\n"
      }
     ],
     "persistentId": "15d82503-64da-41cc-9c2e-5259361c9f25",
     "text": "age = input(\"How old are you? \")\nheight = input(\"How tall are you? \")\nweight = input(\"How much do you weigh? \")\nprint(f\"So, you're {age} old, {height} tall and {weight} heavy.\")"
    },
    "executionTime": "2020-05-13T06:45:51.172Z"
   },
   {
    "cell": {
     "executionCount": 2,
     "executionEventId": "dbba8dc4-6207-46c7-aa63-73be65218403",
     "hasError": true,
     "id": "09b41556-6c7c-4a53-a864-c8480a0b2e7a",
     "outputs": [
      {
       "ename": "SyntaxError",
       "evalue": "EOL while scanning string literal (<ipython-input-2-96aad8c44009>, line 6)",
       "output_type": "error",
       "traceback": [
        "\u001b[1;36m  File \u001b[1;32m\"<ipython-input-2-96aad8c44009>\"\u001b[1;36m, line \u001b[1;32m6\u001b[0m\n\u001b[1;33m    print(f\"This means your BMI is {BMI})\u001b[0m\n\u001b[1;37m                                         ^\u001b[0m\n\u001b[1;31mSyntaxError\u001b[0m\u001b[1;31m:\u001b[0m EOL while scanning string literal\n"
       ]
      }
     ],
     "persistentId": "15d82503-64da-41cc-9c2e-5259361c9f25",
     "text": "age = input(\"How old are you? \")\nheight = input(\"How tall are you? \")\nweight = input(\"How much do you weigh? \")\nBMI = int(weight) / (int(height)**2)\nprint(f\"So, you're {age} old, {height} tall and {weight} heavy.\")\nprint(f\"This means your BMI is {BMI})"
    },
    "executionTime": "2020-05-13T06:47:27.261Z"
   },
   {
    "cell": {
     "executionCount": 3,
     "executionEventId": "3540545c-5780-4a1b-844b-d078af3ca2aa",
     "hasError": false,
     "id": "09b41556-6c7c-4a53-a864-c8480a0b2e7a",
     "outputs": [
      {
       "name": "stdin",
       "output_type": "stream",
       "text": "How old are you?  39\nHow tall are you?  180\nHow much do you weigh?  74\n"
      },
      {
       "name": "stdout",
       "output_type": "stream",
       "text": "So, you're 39 old, 180 tall and 74 heavy.\nThis means your BMI is 0.002283950617283951\n"
      }
     ],
     "persistentId": "15d82503-64da-41cc-9c2e-5259361c9f25",
     "text": "age = input(\"How old are you? \")\nheight = input(\"How tall are you? \")\nweight = input(\"How much do you weigh? \")\nBMI = int(weight) / (int(height)**2)\nprint(f\"So, you're {age} old, {height} tall and {weight} heavy.\")\nprint(f\"This means your BMI is {BMI}\")"
    },
    "executionTime": "2020-05-13T06:47:43.562Z"
   },
   {
    "cell": {
     "executionCount": 4,
     "executionEventId": "28b54299-34a0-498c-86ff-8a7c23b5fe63",
     "hasError": false,
     "id": "09b41556-6c7c-4a53-a864-c8480a0b2e7a",
     "outputs": [
      {
       "name": "stdin",
       "output_type": "stream",
       "text": "How old are you?  39\nHow tall are you?  180\nHow much do you weigh?  74\n"
      },
      {
       "name": "stdout",
       "output_type": "stream",
       "text": "So, you're 39 old, 180 tall and 74 heavy.\nThis means your BMI is 0.22839506172839508\n"
      }
     ],
     "persistentId": "15d82503-64da-41cc-9c2e-5259361c9f25",
     "text": "age = input(\"How old are you? \")\nheight = input(\"How tall are you? \")\nweight = input(\"How much do you weigh? \")\nBMI = (int(weight) / (int(height)**2))*100\n\nprint(f\"So, you're {age} old, {height} tall and {weight} heavy.\")\nprint(f\"This means your BMI is {BMI}\")"
    },
    "executionTime": "2020-05-13T06:48:00.884Z"
   },
   {
    "cell": {
     "executionCount": 5,
     "executionEventId": "9aa86eef-60c4-4c55-8456-a2c68f47d495",
     "hasError": false,
     "id": "09b41556-6c7c-4a53-a864-c8480a0b2e7a",
     "outputs": [
      {
       "name": "stdin",
       "output_type": "stream",
       "text": "How old are you?  39\nHow tall are you?  180\nHow much do you weigh?  74\n"
      },
      {
       "name": "stdout",
       "output_type": "stream",
       "text": "So, you're 39 old, 180 tall and 74 heavy.\nThis means your BMI is 0\n"
      }
     ],
     "persistentId": "15d82503-64da-41cc-9c2e-5259361c9f25",
     "text": "age = input(\"How old are you? \")\nheight = input(\"How tall are you? \")\nweight = input(\"How much do you weigh? \")\nBMI = round((int(weight) / (int(height)**2))*100)\n\nprint(f\"So, you're {age} old, {height} tall and {weight} heavy.\")\nprint(f\"This means your BMI is {BMI}\")"
    },
    "executionTime": "2020-05-13T06:48:22.673Z"
   },
   {
    "cell": {
     "executionCount": 6,
     "executionEventId": "fa228618-9b91-4da9-8c64-69f4bd1af680",
     "hasError": false,
     "id": "09b41556-6c7c-4a53-a864-c8480a0b2e7a",
     "outputs": [
      {
       "name": "stdin",
       "output_type": "stream",
       "text": "How old are you?  39\nHow tall are you?  180\nHow much do you weigh?  74\n"
      },
      {
       "name": "stdout",
       "output_type": "stream",
       "text": "So, you're 39 old, 180 tall and 74 heavy.\nThis means your BMI is 0.22839506172839508\n"
      }
     ],
     "persistentId": "15d82503-64da-41cc-9c2e-5259361c9f25",
     "text": "age = input(\"How old are you? \")\nheight = input(\"How tall are you? \")\nweight = input(\"How much do you weigh? \")\nBMI = (int(weight) / (int(height)**2))*100\n\nprint(f\"So, you're {age} old, {height} tall and {weight} heavy.\")\nprint(f\"This means your BMI is {BMI}\")"
    },
    "executionTime": "2020-05-13T06:48:53.405Z"
   },
   {
    "cell": {
     "executionCount": 7,
     "executionEventId": "bf9ecd0f-6cc9-43e8-ad88-11c5534e4799",
     "hasError": false,
     "id": "09b41556-6c7c-4a53-a864-c8480a0b2e7a",
     "outputs": [
      {
       "name": "stdin",
       "output_type": "stream",
       "text": "How old are you?  39\nHow tall are you?  180\nHow much do you weigh?  74\n"
      },
      {
       "name": "stdout",
       "output_type": "stream",
       "text": "So, you're 39 old, 180 tall and 74 heavy.\nThis means your BMI is 0.23\n"
      }
     ],
     "persistentId": "15d82503-64da-41cc-9c2e-5259361c9f25",
     "text": "age = input(\"How old are you? \")\nheight = input(\"How tall are you? \")\nweight = input(\"How much do you weigh? \")\nBMI = round((int(weight) / (int(height)**2))*100, 2)\n\nprint(f\"So, you're {age} old, {height} tall and {weight} heavy.\")\nprint(f\"This means your BMI is {BMI}\")"
    },
    "executionTime": "2020-05-13T06:49:25.672Z"
   },
   {
    "cell": {
     "executionCount": 1,
     "executionEventId": "4edf100b-c44e-42e7-83f6-3bc66b7bd3c0",
     "hasError": false,
     "id": "09b41556-6c7c-4a53-a864-c8480a0b2e7a",
     "outputs": [
      {
       "name": "stdin",
       "output_type": "stream",
       "text": "How old are you?  39\nHow tall are you?  180\nHow much do you weigh?  74\n"
      },
      {
       "name": "stdout",
       "output_type": "stream",
       "text": "So, you're 39 old, 180 tall and 74 heavy.\nThis means your BMI is 0.23\nWell done, you are very healthy!\n"
      }
     ],
     "persistentId": "15d82503-64da-41cc-9c2e-5259361c9f25",
     "text": "age = input(\"How old are you? \")\nheight = input(\"How tall are you? \")\nweight = input(\"How much do you weigh? \")\nBMI = round((int(weight) / (int(height)**2))*100, 2)\n\nprint(f\"So, you're {age} old, {height} tall and {weight} heavy.\")\nprint(f\"This means your BMI is {BMI}\")\n\nif BMI < 0.25 and BMI > 0.18:\n    print(\"Well done, you are very healthy!\")\nelif BMI > 0.25:\n    print(\"Seems you are a bit too heavy, perhaps more exercises and less fast food would help?\")\nelse:\n    print(\"You are a bit too light for your height. Be aware that you eat enough\")"
    },
    "executionTime": "2020-05-13T06:52:55.050Z"
   },
   {
    "cell": {
     "executionCount": 2,
     "executionEventId": "d4864722-0b08-46bc-a72b-ec0991d72bbe",
     "hasError": false,
     "id": "09b41556-6c7c-4a53-a864-c8480a0b2e7a",
     "outputs": [
      {
       "name": "stdin",
       "output_type": "stream",
       "text": "How old are you?  39\nHow tall are you?  180\nHow much do you weigh?  25\n"
      },
      {
       "name": "stdout",
       "output_type": "stream",
       "text": "So, you're 39 old, 180 tall and 25 heavy.\nThis means your BMI is 0.08\n\nYou are a bit too light for your height. Be aware that you eat enough\n"
      }
     ],
     "persistentId": "15d82503-64da-41cc-9c2e-5259361c9f25",
     "text": "age = input(\"How old are you? \")\nheight = input(\"How tall are you? \")\nweight = input(\"How much do you weigh? \")\nBMI = round((int(weight) / (int(height)**2))*100, 2)\n\nprint(f\"So, you're {age} old, {height} tall and {weight} heavy.\")\nprint(f\"This means your BMI is {BMI}\\n\")\n\nif BMI < 0.25 and BMI > 0.18:\n    print(\"Well done, you are very healthy!!!\")\nelif BMI > 0.25:\n    print(\"Seems you are a bit too heavy, perhaps more exercises and less fast food would help?\")\nelse:\n    print(\"You are a bit too light for your height. Be aware that you eat enough\")"
    },
    "executionTime": "2020-05-13T06:53:30.017Z"
   },
   {
    "cell": {
     "executionCount": 3,
     "executionEventId": "18feb0bc-5405-4467-9af5-303426bdd838",
     "hasError": false,
     "id": "09b41556-6c7c-4a53-a864-c8480a0b2e7a",
     "outputs": [
      {
       "name": "stdin",
       "output_type": "stream",
       "text": "How old are you?  39\nHow tall are you?  180\nHow much do you weigh?  100\n"
      },
      {
       "name": "stdout",
       "output_type": "stream",
       "text": "So, you're 39 old, 180 tall and 100 heavy.\nThis means your BMI is 0.31\n\nSeems you are a bit too heavy, perhaps more exercises and less fast food would help?\n"
      }
     ],
     "persistentId": "15d82503-64da-41cc-9c2e-5259361c9f25",
     "text": "age = input(\"How old are you? \")\nheight = input(\"How tall are you? \")\nweight = input(\"How much do you weigh? \")\nBMI = round((int(weight) / (int(height)**2))*100, 2)\n\nprint(f\"So, you're {age} old, {height} tall and {weight} heavy.\")\nprint(f\"This means your BMI is {BMI}\\n\")\n\nif BMI < 0.25 and BMI > 0.18:\n    print(\"Well done, you are very healthy!!!\")\nelif BMI > 0.25:\n    print(\"Seems you are a bit too heavy, perhaps more exercises and less fast food would help?\")\nelse:\n    print(\"You are a bit too light for your height. Be aware that you eat enough\")"
    },
    "executionTime": "2020-05-13T06:53:38.387Z"
   },
   {
    "cell": {
     "executionCount": 1,
     "executionEventId": "bad50874-2147-4bca-812f-a6d00318371a",
     "hasError": false,
     "id": "09b41556-6c7c-4a53-a864-c8480a0b2e7a",
     "outputs": [
      {
       "name": "stdin",
       "output_type": "stream",
       "text": "How old are you?  39\nHow tall are you?  180\nHow much do you weigh?  74\n"
      },
      {
       "name": "stdout",
       "output_type": "stream",
       "text": "So, you're 39 old, 180 tall and 74 heavy.\nThis means your BMI is 0.23\n\nWell done, you are very healthy!!!\n"
      }
     ],
     "persistentId": "15d82503-64da-41cc-9c2e-5259361c9f25",
     "text": "age = input(\"How old are you? \")\nheight = input(\"How tall are you? \")\nweight = input(\"How much do you weigh? \")\nBMI = round((int(weight) / (int(height)**2))*100, 2)\n\nprint(f\"So, you're {age} old, {height} tall and {weight} heavy.\")\nprint(f\"This means your BMI is {BMI}\\n\")\n\nif BMI < 0.25 and BMI > 0.18:\n    print(\"Well done, you are very healthy!!!\")\nelif BMI > 0.25:\n    print(\"Seems you are a bit too heavy, perhaps more exercises and less fast food would help?\")\nelse:\n    print(\"You are a bit too light for your height. Be aware that you eat enough\")"
    },
    "executionTime": "2020-05-13T06:55:14.276Z"
   }
  ],
  "kernelspec": {
   "display_name": "Python 3",
   "language": "python",
   "name": "python3"
  },
  "language_info": {
   "codemirror_mode": {
    "name": "ipython",
    "version": 3
   },
   "file_extension": ".py",
   "mimetype": "text/x-python",
   "name": "python",
   "nbconvert_exporter": "python",
   "pygments_lexer": "ipython3",
   "version": "3.7.3"
  },
  "uuid": "11d854ef-1e26-4e63-bfe4-c482f45eb3f0"
 },
 "nbformat": 4,
 "nbformat_minor": 4
}

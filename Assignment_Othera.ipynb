{
 "cells": [
  {
   "cell_type": "markdown",
   "metadata": {
    "colab_type": "text",
    "id": "cwr6mvw5vV7d"
   },
   "source": [
    "#Match de goedgekeurde leningen met investeerders"
   ]
  },
  {
   "cell_type": "markdown",
   "metadata": {
    "colab_type": "text",
    "id": "dVyfsLoVvcjE"
   },
   "source": [
    "1. Een lijst met Goedgekeurde leningen\n",
    "2. Een lijst met investeerders en hun inleg"
   ]
  },
  {
   "cell_type": "markdown",
   "metadata": {
    "colab_type": "text",
    "id": "LmAP-xDJvooC"
   },
   "source": [
    "## Doel: maak een match voor best mogelijke koppeling tussen de leningen en de investeerders \n",
    "\n",
    "Randvoorwaarden:\n",
    "* Bij grote lening, mogen meerdere investeerders eventueel\n",
    "* of 1 lening 1 investeerder\n",
    "* geen verdere eisen \n",
    "* geen investeerders die meer kunnen investeren dan ze hebben"
   ]
  },
  {
   "cell_type": "code",
   "execution_count": 29,
   "metadata": {
    "colab": {
     "base_uri": "https://localhost:8080/",
     "height": 52
    },
    "colab_type": "code",
    "id": "J_yr8oPLjkKV",
    "outputId": "b0e0adaa-23e8-4585-8138-6853fa5fc62d"
   },
   "outputs": [
    {
     "name": "stdout",
     "output_type": "stream",
     "text": [
      "This is the matched result\n",
      "{('Loan1', 100000): ('Martijn', 100000), ('Loan3', 200000): ('Elsa', 200000), ('Loan4', 1000000): ('Tim', 1000000)}\n"
     ]
    }
   ],
   "source": [
    "#After many tries, I've first ended up with a function that can only find the same amounts.\n",
    "\n",
    "Loan_Approved = {'Loan1' : 100000, 'Loan2': 150000, 'Loan3': 200000, 'Loan4': 1000000}\n",
    "Investors = {'Martijn': 100000, 'Elsa': 200000, 'Collin': 350000, 'Tim': 1000000}\n",
    "Match = {}\n",
    "\n",
    "def match_function(loans, investors):\n",
    "  for l_name, l_value, i_name, i_value in ((a,b,c,d) for a,b in loans.items() for c,d in investors.items()):\n",
    "    if l_value == i_value:\n",
    "      Match[l_name, l_value] = (i_name, i_value)\n",
    "  return Match\n",
    "\n",
    "match_function(Loan_Approved, Investors)\n",
    "print(\"This is the matched result\")\n",
    "print(Match)"
   ]
  },
  {
   "cell_type": "code",
   "execution_count": 28,
   "metadata": {
    "colab": {
     "base_uri": "https://localhost:8080/",
     "height": 72
    },
    "colab_type": "code",
    "id": "jif6mkrHnZE6",
    "outputId": "6cb3d2eb-7860-4204-c616-5ed88a610339"
   },
   "outputs": [
    {
     "name": "stdout",
     "output_type": "stream",
     "text": [
      "This is the matched result\n",
      "{('Loan1', 100000): ('Martijn', 100000), ('Loan2', 150000): {'Elsa': 200000, 'Collin': 350000, 'Tim': 1000000}, ('Loan3', 200000): ('Elsa', 200000), ('Loan4', 1000000): ('Tim', 1000000)}\n"
     ]
    }
   ],
   "source": [
    "#I've set this function to find the same amount or investors if the amount is bigger. \n",
    "\n",
    "Loan_Approved = {'Loan1' : 100000, 'Loan2': 150000, 'Loan3': 200000, 'Loan4': 1000000}\n",
    "Investors = {'Martijn': 100000, 'Elsa': 200000, 'Collin': 350000, 'Tim': 1000000}\n",
    "Match = {}\n",
    "\n",
    "def match_function(loans, investors):\n",
    "  for l_name, l_value, i_name, i_value in ((a,b,c,d) for a,b in loans.items() for c,d in investors.items()):\n",
    "    if l_value == i_value:\n",
    "      Match[l_name, l_value] = (i_name, i_value)\n",
    "    elif l_value > i_value:\n",
    "      possible_investors = {i_name: i_value for i_name, i_value in investors.items() if i_value > l_value}\n",
    "      Match[l_name, l_value] = possible_investors\n",
    "  return Match\n",
    "\n",
    "match_function(Loan_Approved, Investors)\n",
    "print(\"This is the matched result\")\n",
    "print(Match)"
   ]
  },
  {
   "cell_type": "code",
   "execution_count": 37,
   "metadata": {
    "colab": {
     "base_uri": "https://localhost:8080/",
     "height": 72
    },
    "colab_type": "code",
    "id": "tU_zeHUHkdUJ",
    "outputId": "25e2012f-cc3e-46e4-f715-6b801d990bea"
   },
   "outputs": [
    {
     "name": "stdout",
     "output_type": "stream",
     "text": [
      "This is the matched result\n",
      "{('Loan1', 100000): {'Martijn': 100000, 'Elsa': 200000, 'Collin': 350000, 'Tim': 1000000}, ('Loan2', 150000): {'Elsa': 200000, 'Collin': 350000, 'Tim': 1000000}, ('Loan3', 200000): {'Elsa': 200000, 'Collin': 350000, 'Tim': 1000000}}\n"
     ]
    }
   ],
   "source": [
    "#let me try now with all possibilities\n",
    "\n",
    "Loan_Approved = {'Loan1' : 100000, 'Loan2': 150000, 'Loan3': 200000, 'Loan4': 1000000}\n",
    "Investors = {'Martijn': 100000, 'Elsa': 200000, 'Collin': 350000, 'Tim': 1000000}\n",
    "Match = {}\n",
    "\n",
    "def match_function(loans, investors):\n",
    "  for l_name, l_value, i_name, i_value in ((a,b,c,d) for a,b in loans.items() for c,d in investors.items()):\n",
    "    if i_value > l_value:\n",
    "      possible_investors_small_amounts = {i_name: i_value for i_name, i_value in investors.items() if i_value >= l_value}\n",
    "      Match[l_name, l_value] = possible_investors_small_amounts\n",
    "  return Match\n",
    "\n",
    "match_function(Loan_Approved, Investors)\n",
    "print(\"This is the matched result\")\n",
    "print(Match)"
   ]
  },
  {
   "cell_type": "code",
   "execution_count": 0,
   "metadata": {
    "colab": {},
    "colab_type": "code",
    "id": "ouu5JTxbps3Y"
   },
   "outputs": [],
   "source": [
    ""
   ]
  }
 ],
 "metadata": {
  "colab": {
   "collapsed_sections": [],
   "name": "Assignment Othera",
   "provenance": []
  },
  "kernelspec": {
   "display_name": "Python 3",
   "name": "python3"
  }
 },
 "nbformat": 4,
 "nbformat_minor": 0
}
